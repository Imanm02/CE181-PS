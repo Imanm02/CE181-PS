{
 "cells": [
  {
   "cell_type": "markdown",
   "id": "JHMG689YMMEw",
   "metadata": {
    "id": "JHMG689YMMEw"
   },
   "source": [
    "<div style=\"direction:rtl;line-height:300%;\">\n",
    "\t<font face=\"XB Zar\" size=5>\n",
    "\t\t<div align=center style=\"margin-top: 100px;\">\n",
    "\t\t\t<font face=\"XB zar\" size=30>\n",
    "\t\t\t\t<p></p>\n",
    "به نام خدا\n",
    "\t\t\t\t<p></p>\n",
    "\t\t\t</font>\n",
    "<font color=blue>\n",
    "آمار و احتمال مهندسی\n",
    "            </font>\n",
    "            <br />\n",
    "\t\t\t<font color=#818181>\n",
    "دانشگاه صنعتی شریف - دانشکده مهندسی کامپیوتر\n",
    "            </font>\n",
    "\t\t\t<p></p>\n",
    "پاییز 1401\n",
    "\t\t</div>\n",
    "\t\t<hr/>\n",
    "\t\t<div align=center>\n",
    "\t\t    <font color=red size=6>\n",
    "\t\t\t    <br />\n",
    "تمرین عملی ششم\n",
    "     </font>\n",
    "                <br/>\n",
    "        </style>\n",
    "\t</font>\n",
    "</div>\n",
    "<div align=center>\n",
    "\t\t    <font color=red size=6>\n",
    "\t\t\t    <br />\n",
    "ایمان محمدی 99102207\n",
    "     </font>\n",
    "                <br/>\n",
    "        </style>\n",
    "\t</font>\n",
    "</div>"
   ]
  },
  {
   "cell_type": "markdown",
   "id": "c7UpyZ0kM3bA",
   "metadata": {
    "id": "c7UpyZ0kM3bA"
   },
   "source": [
    "<div dir = \"rtl\" style=\"direction:rtl;line-height:250%;\">\n",
    "\t<font face=\"XB Zar\" size=5>\n",
    "\t\t<font color=#FF7500 size=6>\n",
    "            سوال اول\n",
    "        </font>\n",
    "        <hr/>\n",
    "        \n",
    "        \n",
    "</div>"
   ]
  },
  {
   "cell_type": "markdown",
   "id": "8dc1f5c1",
   "metadata": {
    "id": "8dc1f5c1"
   },
   "source": [
    "<div dir = \"rtl\" style=\"direction:rtl;line-height:300%;\">\n",
    "\t<font face=\"XB Zar\" size=5>\n",
    "        فرض کنید شما در کاشان در یک کارخانه گلاب گیری مشغول به کار هستید. دوست شما ویلیام گاست، مایل ها آنورتر در دوبلین مشغول کاری مشابه شماست منتها هنوز مقاله معروف خود یعنی student-t را منتشر نکرده است و شما اطلاعی از توزیع t ندارید.\n",
    "    </font>\n",
    "</div>"
   ]
  },
  {
   "cell_type": "markdown",
   "id": "ae0aac31",
   "metadata": {
    "id": "ae0aac31"
   },
   "source": [
    "<div dir = \"rtl\" style=\"direction:rtl;line-height:300%;\">\n",
    "\t<font face=\"XB Zar\" size=5>\n",
    "        فرض کنید مقدار گلابی که از یک گل محمدی استخراج میشود از توزیع نرمال با میانگین ۱۵۰ و انحراف معیار ۱۰ پیروی میکند. و گل های باغ شما تعداد زیادی گل محمدی دارد که هیچگاه تمام نمیشود.\n",
    "    </font>\n",
    "</div>"
   ]
  },
  {
   "cell_type": "markdown",
   "id": "62896121",
   "metadata": {
    "id": "62896121"
   },
   "source": [
    "<div dir = \"rtl\" style=\"direction:rtl;line-height:300%;\">\n",
    "\t<font face=\"XB Zar\" size=5>\n",
    "        شما که در آمار و احتمال دستی بر آتش دارید، با قضیه حد مرکزی آشنا هستید و می‌دانید که در صورتی که n عدد بزرگی باشد \n",
    "        و \n",
    "        $\\bar{X}_n = \\frac{\\sum_{i=1}^{n}X_i}{n}$\n",
    "        داریم:\n",
    "        $$\\frac{\\bar{X}_n - \\mu}{\\frac{\\sigma}{\\sqrt{n}}} \\sim Z$$\n",
    "        که در آن\n",
    "        $X_i$ها\n",
    "        مستقل و از توزیع یکسان با میانگین $\\mu$ و واریانس $\\sigma^2$ هستند.\n",
    "    </font>\n",
    "</div>"
   ]
  },
  {
   "cell_type": "markdown",
   "id": "8a0a1902",
   "metadata": {
    "id": "8a0a1902"
   },
   "source": [
    "<div dir = \"rtl\" style=\"direction:rtl;line-height:300%;\">\n",
    "\t<font face=\"XB Zar\" size=5>\n",
    "        شما کنجکاو میشوید که اگر نمونه ‌ای که از جامعه داریم محدود باشد (به هر حال همه که مانند شما چنین باغ بزرگی ندارند!) و واریانس جامعه را نداشته باشیم و به جای آن \n",
    "        از واریانس نمونه استفاده کنیم. چه اتفاقی خواهد افتاد؟ \n",
    "        <br>\n",
    "        به عبارتی اگر $x_i$ها\n",
    "        نمونه کوچک ما باشد و داشته باشیم: \n",
    "        $$\\overline{x} = \\frac{1}{n}\\sum_{i = 1}^n{x_i} \\quad \\quad\n",
    " s^2 = \\frac{\\sum_{i = 1}^n(x - \\overline{x})^2}{n - 1}$$\n",
    "        در آن صورت \n",
    "        $$t = \\frac{\\overline{x} - \\mu}{\\frac{s}{\\sqrt{n}}}$$\n",
    "        از چه توزیعی تبعیت خواهد کرد؟ \n",
    "        <br>\n",
    "                در نتیجه خودتان دست به کار میشوید تا با استفاده از شرایطی که برایتان مهیاست جواب سوالتان را پیدا کنید.\n",
    "    </font>\n",
    "</div>"
   ]
  },
  {
   "cell_type": "markdown",
   "id": "18e339fd",
   "metadata": {
    "id": "18e339fd"
   },
   "source": [
    "<div dir = \"rtl\" style=\"direction:rtl;line-height:300%;\">\n",
    "\t<font face=\"XB Zar\" size=5>\n",
    "        ابتدا در سلول زیر تابعی بنویسید که با ورودی گرفتن نمونه‌ها و میانگین جامعه مقدار t را محاسبه کند:\n",
    "    </font>\n",
    "</div>"
   ]
  },
  {
   "cell_type": "code",
   "execution_count": 84,
   "id": "5e077d91",
   "metadata": {
    "id": "5e077d91"
   },
   "outputs": [],
   "source": [
    "get_t <- function(x,mu){\n",
    "    s2 <- sum((x-mean(x))^2)/(length(x)-1)  \n",
    "    s <- sqrt(s2)\n",
    "    t <- ((mean(x) - mu) / (s/sqrt(length(x))))\n",
    "    return(t)\n",
    "}"
   ]
  },
  {
   "cell_type": "markdown",
   "id": "47593d77",
   "metadata": {
    "id": "47593d77"
   },
   "source": [
    "<div dir = \"rtl\" style=\"direction:rtl;line-height:300%;\">\n",
    "\t<font face=\"XB Zar\" size=5>\n",
    "    حال شما برای اینکه توزیع t را بدست بیاورید\n",
    "      باید به دفعات متعددی از گل‌هایتان نمونه گیری انجام داده و مقادیر t آن ها را بدست بیاورید. \n",
    "        <br>\n",
    "        در سلول زیر تابعی بنویسید که که با گرفتن تعداد نمونه‌گیری‌ها و اندازه نمونه از گل های باغتان نمونه گیری انجام دهد و با استفاده از تابعی که در قسمت قبل نوشتید مقادیر t متناظر آنها را برگرداند. \n",
    "    </font>\n",
    "</div>"
   ]
  },
  {
   "cell_type": "code",
   "execution_count": 103,
   "id": "3f76e312",
   "metadata": {
    "id": "3f76e312"
   },
   "outputs": [],
   "source": [
    "t_values <- function(allFlowers, size, freq) {\n",
    "    sapply(1:freq, function(i) get_t(sample(allFlowers, size, replace=T), mean(allFlowers)))\n",
    "}\n",
    "           \n",
    "get_samples <- function(size, cnt) {\n",
    "    tValues <- c()\n",
    "    for(i in 1:cnt) {\n",
    "        samples <- rnorm(size, mean = 150, sd = 10)\n",
    "        tValues <- append(tValues, get_t(samples, 150))\n",
    "    }\n",
    "    return(tValues)\n",
    "}"
   ]
  },
  {
   "cell_type": "markdown",
   "id": "1f826396",
   "metadata": {
    "id": "1f826396"
   },
   "source": [
    "<div dir = \"rtl\" style=\"direction:rtl;line-height:300%;\">\n",
    "\t<font face=\"XB Zar\" size=5>\n",
    "    با استفاده از تابعی که نوشتید به تعداد ۱۰۰۰۰ بار و با اندازه ۲ نمونه گیری کنید و نتیجه را در قالب یک نمودار نمایش دهید.\n",
    "        <br>\n",
    "        برای اینکه بازه نمایش را محدود کنید میتوانید از\n",
    "        <a href = \"https://ggplot2.tidyverse.org/reference/lims.html\">xlim</a> \n",
    "        استفاده کنید.\n",
    "    </font>\n",
    "</div>"
   ]
  },
  {
   "cell_type": "code",
   "execution_count": 52,
   "id": "22edc521",
   "metadata": {
    "id": "22edc521",
    "outputId": "b7b2de05-9400-4f19-c1f6-6b8c501c6ad3"
   },
   "outputs": [
    {
     "data": {
      "image/png": "[encoded data removed]",
      "text/plain": [
       "Plot with title \"Histogram of values\""
      ]
     },
     "metadata": {
      "image/png": {
       "height": 420,
       "width": 420
      }
     },
     "output_type": "display_data"
    }
   ],
   "source": [
    "flowers <- rnorm(50, mean=150, sd=10)\n",
    "values <- t_values(flowers, 2, 10000)\n",
    "minVal <- -20\n",
    "maxVal <- 20\n",
    "values <- values[values < maxVal & values > minVal]\n",
    "hist(values, xlim=c(minVal, maxVal), breaks=1000)"
   ]
  },
  {
   "cell_type": "markdown",
   "id": "18295c27",
   "metadata": {
    "id": "18295c27"
   },
   "source": [
    "<div dir = \"rtl\" style=\"direction:rtl;line-height:300%;\">\n",
    "\t<font face=\"XB Zar\" size=5>\n",
    "       بعد از کشیدن نمودار و مشاهده آن به شباهتش با توزیع نورمال استاندارد پی می‌برید و خوشحال میشوید که CLT برای این شرایط نیز صادق است و به یک تعمیم برای قضیه حد مرکزی دست یافته‌اید!\n",
    "        <br>\n",
    "        اما وقتی بیشتر دقت میکنید حس می‌کنید یک جای این نمودار میلنگد\n",
    "        <img src=\"https://wompampsupport.azureedge.net/fetchimage?siteId=7575&v=2&jpgQuality=100&width=500&url=https%3A%2F%2Fi.kym-cdn.com%2Fentries%2Ficons%2Fmobile%2F000%2F031%2F260%2FScreen_Shot_2019-09-24_at_4.22.16_PM.jpg\">\n",
    "        <br>\n",
    "        در نتیجه نمودار قبل را در کنار نمودار توزیع نرمال استاندارد رسم میکنیم:\n",
    "    </font>\n",
    "</div>"
   ]
  },
  {
   "cell_type": "code",
   "execution_count": 58,
   "id": "b5323071",
   "metadata": {
    "id": "b5323071",
    "outputId": "6a40ea70-cb16-43b9-9cbd-8eacca627a54"
   },
   "outputs": [
    {
     "data": {
      "image/png": "[encoded data removed]",
      "text/plain": [
       "plot without title"
      ]
     },
     "metadata": {
      "image/png": {
       "height": 420,
       "width": 420
      }
     },
     "output_type": "display_data"
    }
   ],
   "source": [
    "norm_values <- rnorm(length(values))\n",
    "norm_t <- data.frame(norm=norm_values, t=values)\n",
    "ggplot(norm_t) +\n",
    "    geom_density(aes(x=norm), color=\"brown\") +\n",
    "    geom_density(aes(x=t), color=\"blue\")"
   ]
  },
  {
   "cell_type": "markdown",
   "id": "a3606c52",
   "metadata": {
    "id": "a3606c52"
   },
   "source": [
    "<div dir = \"rtl\" style=\"direction:rtl;line-height:300%;\">\n",
    "\t<font face=\"XB Zar\" size=5>\n",
    "        دو نمودار را با هم مقایسه کنید. چه تفاوتی میان آنها وجود دارد؟\n",
    "    </font>\n",
    "</div>"
   ]
  },
  {
   "cell_type": "markdown",
   "id": "7bb1b5d3",
   "metadata": {
    "id": "7bb1b5d3"
   },
   "source": [
    "- نمودار تی، قله پایینتری دارد نسبت به نمودار توزیع نرمال\n",
    "- نمودار تی دامنه بالاتری نسبت به نمودار توزیع نرمال دارد\n",
    "- واریانس توزیع تی از واریانس توزیع نرمال بیشتر است"
   ]
  },
  {
   "cell_type": "markdown",
   "id": "e9c36dcf",
   "metadata": {
    "id": "e9c36dcf"
   },
   "source": [
    "<div dir = \"rtl\" style=\"direction:rtl;line-height:300%;\">\n",
    "\t<font face=\"XB Zar\" size=5>\n",
    "        متاسفانه این دونمودار با وجود شباهت زیادی که به هم دارند از توزیع های متفاوتی می‌آیند!\n",
    "        <br>\n",
    "        شما نسبت به توزیعی که بدست آوردید کنجکاوتر شده و سعی میکنید آن را به ازای اندازه نمونه‌های مختلف بررسی کنید.\n",
    "    </font>\n",
    "</div>"
   ]
  },
  {
   "cell_type": "markdown",
   "id": "bcb6fbef",
   "metadata": {
    "id": "bcb6fbef"
   },
   "source": [
    "<div dir = \"rtl\" style=\"direction:rtl;line-height:300%;\">\n",
    "\t<font face=\"XB Zar\" size=5>\n",
    "        به ازای اندازه نمونه های\n",
    "        $n = 2, n = 3, n = 6, n = 100$\n",
    "        مانند قبل نمونه گیری های ۱۰۰۰۰ تایی انجام داده و آن ها را داخل یک dataframe ذخیره کنید.\n",
    "        همچنین یک ستون نیز برای توزیع نرمال استاندارد به دیتافریم اضافه کنید.\n",
    "        <br>\n",
    "        سپس در یک نمودار، توزیع های مربوط به هر یک از n های مختلف و توزیع استاندارد نرمال را رسم کرده و به هر یک از نمودار ها، یک رنگ جدا اختصاص دهید به طوری که از همدیگر قابل تمیز باشند.\n",
    "        <br>\n",
    "        راهنمایی: در رابطه با تابع melt\n",
    "        از پکیج reshape2 تحقیق کنید.\n",
    "    </font>\n",
    "</div>"
   ]
  },
  {
   "cell_type": "code",
   "execution_count": 93,
   "id": "2b5b36a9",
   "metadata": {
    "id": "2b5b36a9",
    "outputId": "b6eecb6f-2b64-4de8-88c3-409257c2458a"
   },
   "outputs": [
    {
     "name": "stderr",
     "output_type": "stream",
     "text": [
      "Using  as id variables\n",
      "\n",
      "Warning message:\n",
      "\"Removed 508 rows containing non-finite values (stat_density).\"\n"
     ]
    },
    {
     "data": {
      "image/png": "[encoded data removed]",
      "text/plain": [
       "plot without title"
      ]
     },
     "metadata": {
      "image/png": {
       "height": 420,
       "width": 420
      }
     },
     "output_type": "display_data"
    }
   ],
   "source": [
    "library(MASS) \n",
    "library(reshape) \n",
    "get_t_value <- function(n) {\n",
    "    t_values(flowers, n, 10000)\n",
    "}\n",
    "df <- data.frame(norm=rnorm(10000), t2=get_t_value(2), t3=get_t_value(3), t6=get_t_value(6), t100=get_t_value(100))\n",
    "df_melted <- melt(df)\n",
    "ggplot(df_melted, aes(x=value, color=variable)) + geom_density() + xlim(minVal, maxVal)"
   ]
  },
  {
   "cell_type": "markdown",
   "id": "29f54530",
   "metadata": {
    "id": "29f54530"
   },
   "source": [
    "<div dir = \"rtl\" style=\"direction:rtl;line-height:300%;\">\n",
    "\t<font face=\"XB Zar\" size=5>\n",
    "        از نموداری که رسم کردید و مقایسه توزیع ها چه نتیجه‌ای میگیرید؟\n",
    "    </font>\n",
    "</div>"
   ]
  },
  {
   "cell_type": "markdown",
   "id": "3e804452",
   "metadata": {
    "id": "3e804452"
   },
   "source": [
    "- هر چه اندازه نمونه بیشتر شود، نمودار ما به نرمال استاندارد نزدیکتر میشود"
   ]
  },
  {
   "cell_type": "markdown",
   "id": "e6430021",
   "metadata": {
    "id": "e6430021"
   },
   "source": [
    "<div dir = \"rtl\" style=\"direction:rtl;line-height:300%;\">\n",
    "\t<font face=\"XB Zar\" size=5>\n",
    "        روزی دوست شما، ویلیام گاست به کاشان می‌آید. شما با او در رابطه با توزیع جدیدی که کشف کردید صحبت میکنید.\n",
    "        او می‌گوید که  اتفاقا درباره این توزیع مقاله ‌ای چاپ کرده و توابع مربوط به این توزیع را به کتابخانه پایه R اضافه کرده است.\n",
    "        او همچنین میگوید که این توزیع شامل پارامتری به نام درجه آزادی یا \n",
    "        $\\nu$\n",
    "        می‌باشد\n",
    "        که در اینجا برابر با\n",
    "        $n-1$\n",
    "        است.\n",
    "        <br>\n",
    "        با استفاده از دیتافریمی که  ساختید توزیع  مربوط به \n",
    "        $n = 2$\n",
    "        و توزیع t متناظر با آن در R را\n",
    "        در یک نمودار رسم کنید و آن دو را با هم مقایسه کنید.\n",
    "        آیا اکنون بنظر شما این دو توزیع یکسانند؟\n",
    "    </font>\n",
    "</div>"
   ]
  },
  {
   "cell_type": "code",
   "execution_count": 95,
   "id": "98ee7f37",
   "metadata": {
    "id": "98ee7f37",
    "outputId": "614f01ed-acb3-4582-ac73-7eb55616b5d4"
   },
   "outputs": [
    {
     "name": "stderr",
     "output_type": "stream",
     "text": [
      "Warning message:\n",
      "\"Removed 1251 rows containing non-finite values (stat_density).\"\n",
      "Warning message:\n",
      "\"Removed 736 rows containing non-finite values (stat_density).\"\n"
     ]
    },
    {
     "data": {
      "image/png": "[encoded data removed]",
      "text/plain": [
       "plot without title"
      ]
     },
     "metadata": {
      "image/png": {
       "height": 420,
       "width": 420
      }
     },
     "output_type": "display_data"
    }
   ],
   "source": [
    "S <- rt(10000, 1)\n",
    "ggplot() +\n",
    "  geom_density(mapping = aes(df$t2), col = \"red\") +\n",
    "  geom_density(mapping = aes(values)) +\n",
    "  xlim(-5, 5)\n",
    "\n",
    "# پس میفهمیم توزیع ها یکسان هستند"
   ]
  },
  {
   "cell_type": "markdown",
   "id": "3054f7f4",
   "metadata": {
    "id": "3054f7f4"
   },
   "source": [
    "<div dir = \"rtl\" style=\"direction:rtl;line-height:300%;\">\n",
    "\t<font face=\"XB Zar\" size=5>\n",
    "         فرض کنید کسی به شما ۶ عدد گل محمدی میدهد و ادعا میکند که از باغ شما چیده است. شما به او شک می‌کنید و فرآیند گلاب‌گیری را روی آنها انجام داده و مقادیر گلاب بدست آماده از آنها برابر \n",
    "        ۱۳۰, ۱۲۰, ۱۳۶, ۱۴۵, ۱۵۰, ۱۴۰ میلی‌لیتر شده است.\n",
    "        آیا بنظر شما او راست می‌گوید؟\n",
    "    </font>\n",
    "</div>"
   ]
  },
  {
   "cell_type": "markdown",
   "id": "b0972a75",
   "metadata": {
    "id": "b0972a75"
   },
   "source": [
    "- با انجام تست تی به نتیجه خواهیم رسید"
   ]
  },
  {
   "cell_type": "markdown",
   "id": "bb7d3299",
   "metadata": {
    "id": "bb7d3299"
   },
   "source": [
    "<div dir = \"rtl\" style=\"direction:rtl;line-height:300%;\">\n",
    "\t<font face=\"XB Zar\" size=5>\n",
    "        فرض صفر و فرض جایگزین را در این مورد بیان کنید\n",
    "    </font>\n",
    "</div>"
   ]
  },
  {
   "cell_type": "markdown",
   "id": "0eda0937",
   "metadata": {
    "id": "0eda0937"
   },
   "source": [
    "- فرض ۰: توزیع اعداد از توزیع باغچه پیروی میکند\n",
    "- فرض ۱: توزیع اعداد از توزیع باغچه پیروی نمیکند\n",
    "- پس نیاز به تست تی دو طرفه داریم برای حل سوال"
   ]
  },
  {
   "cell_type": "markdown",
   "id": "aea4bd59",
   "metadata": {
    "id": "aea4bd59"
   },
   "source": [
    "<div dir = \"rtl\" style=\"direction:rtl;line-height:300%;\">\n",
    "\t<font face=\"XB Zar\" size=5>\n",
    "        مقدار p-value\n",
    "        را یکبار با استفاده از دیتافریمی که دارید و یکبار با استفاده از توابع کتابخانه‌ای R بدست آورید و آن دو را با هم مقایسه کنید.\n",
    "    </font>\n",
    "</div>"
   ]
  },
  {
   "cell_type": "code",
   "execution_count": 106,
   "id": "39657db2",
   "metadata": {
    "id": "39657db2",
    "outputId": "e9ecd5fc-dbb9-4596-df18-ab7fde3f0168"
   },
   "outputs": [
    {
     "data": {
      "text/html": [
       "0.0149"
      ],
      "text/latex": [
       "0.0149"
      ],
      "text/markdown": [
       "0.0149"
      ],
      "text/plain": [
       "[1] 0.0149"
      ]
     },
     "metadata": {},
     "output_type": "display_data"
    },
    {
     "data": {
      "text/html": [
       "0.0151827680575123"
      ],
      "text/latex": [
       "0.0151827680575123"
      ],
      "text/markdown": [
       "0.0151827680575123"
      ],
      "text/plain": [
       "[1] 0.01518277"
      ]
     },
     "metadata": {},
     "output_type": "display_data"
    }
   ],
   "source": [
    "t_value <- get_t(c(140,150,145,136,120,130), 150)\n",
    "ourDF <- get_samples(6, 10000)\n",
    "length(ourDF[ourDF < t_value]) / length(ourDF)\n",
    "pt(t_value, df = 5)\n",
    "\n",
    "# بسیار نزدیک به هم هستند جواب‌ها و تفاوت زیادی ندارند"
   ]
  },
  {
   "cell_type": "markdown",
   "id": "GH7KXZaFNNme",
   "metadata": {
    "id": "GH7KXZaFNNme"
   },
   "source": [
    "<div dir = \"rtl\" style=\"direction:rtl;line-height:250%;\">\n",
    "\t<font face=\"XB Zar\" size=5>\n",
    "\t\t<font color=#FF7500 size=6>\n",
    "            سوال دوم\n",
    "        </font>\n",
    "        <hr/>\n",
    "\n",
    "        \n",
    "</div>"
   ]
  },
  {
   "cell_type": "markdown",
   "id": "uO2RZ1bfm7Uo",
   "metadata": {
    "id": "uO2RZ1bfm7Uo"
   },
   "source": [
    "<div dir = \"rtl\" style=\"direction:rtl;line-height:300%;\">\n",
    "\t<font face=\"XB Zar\" size=5>\n",
    "یک کمپانی سازنده توپ گلف تصمیم دارد که مقاومت توپ های خود را افزایش دهد. برای  \n",
    "این کار لایه‌ای بر توپ های خود می‌افزاید. تست مقاومت برای توپ های جدید رضایت‌بخش است و توپ های جدید مقاومت بیشتری نسبت به توپ های قبلی دارند ولی قبل از تولید انبوه یکی از محققان این شرکت ادعا میکند که توپ های جدید نسبت به توپ های قبلی مسافت کوتاه تری را می‌پیمایند. برای این کار او در 40 بار در شرایط مختلف توپ ها را با دستگاهی پرتاب کرد تا تنها عامل تفاوت بین دو پرتاب نوع توپ ها باشند. این محقق برای اثبات ادعایش با استفاده از تست جایگشتی از شما کمک خواسته برای این کار ابتدا مجموعه دادگان شامل عملکرد توپ های فعلی و جدید را از روی فایلGolf.csv بخوانید:   \n",
    "    </font>\n",
    "</div>"
   ]
  },
  {
   "cell_type": "code",
   "execution_count": 3,
   "id": "epujknYiOarM",
   "metadata": {
    "id": "epujknYiOarM"
   },
   "outputs": [
    {
     "data": {
      "text/html": [
       "<table class=\"dataframe\">\n",
       "<caption>A data.frame: 6 × 2</caption>\n",
       "<thead>\n",
       "\t<tr><th></th><th scope=col>Current</th><th scope=col>New</th></tr>\n",
       "\t<tr><th></th><th scope=col>&lt;int&gt;</th><th scope=col>&lt;int&gt;</th></tr>\n",
       "</thead>\n",
       "<tbody>\n",
       "\t<tr><th scope=row>1</th><td>264</td><td>277</td></tr>\n",
       "\t<tr><th scope=row>2</th><td>261</td><td>269</td></tr>\n",
       "\t<tr><th scope=row>3</th><td>267</td><td>263</td></tr>\n",
       "\t<tr><th scope=row>4</th><td>272</td><td>266</td></tr>\n",
       "\t<tr><th scope=row>5</th><td>258</td><td>262</td></tr>\n",
       "\t<tr><th scope=row>6</th><td>283</td><td>251</td></tr>\n",
       "</tbody>\n",
       "</table>\n"
      ],
      "text/latex": [
       "A data.frame: 6 × 2\n",
       "\\begin{tabular}{r|ll}\n",
       "  & Current & New\\\\\n",
       "  & <int> & <int>\\\\\n",
       "\\hline\n",
       "\t1 & 264 & 277\\\\\n",
       "\t2 & 261 & 269\\\\\n",
       "\t3 & 267 & 263\\\\\n",
       "\t4 & 272 & 266\\\\\n",
       "\t5 & 258 & 262\\\\\n",
       "\t6 & 283 & 251\\\\\n",
       "\\end{tabular}\n"
      ],
      "text/markdown": [
       "\n",
       "A data.frame: 6 × 2\n",
       "\n",
       "| <!--/--> | Current &lt;int&gt; | New &lt;int&gt; |\n",
       "|---|---|---|\n",
       "| 1 | 264 | 277 |\n",
       "| 2 | 261 | 269 |\n",
       "| 3 | 267 | 263 |\n",
       "| 4 | 272 | 266 |\n",
       "| 5 | 258 | 262 |\n",
       "| 6 | 283 | 251 |\n",
       "\n"
      ],
      "text/plain": [
       "  Current New\n",
       "1 264     277\n",
       "2 261     269\n",
       "3 267     263\n",
       "4 272     266\n",
       "5 258     262\n",
       "6 283     251"
      ]
     },
     "metadata": {},
     "output_type": "display_data"
    },
    {
     "data": {
      "text/html": [
       "40"
      ],
      "text/latex": [
       "40"
      ],
      "text/markdown": [
       "40"
      ],
      "text/plain": [
       "[1] 40"
      ]
     },
     "metadata": {},
     "output_type": "display_data"
    }
   ],
   "source": [
    "df = read.csv(\"Golf.csv\")\n",
    "head(df)\n",
    "nrow(df)"
   ]
  },
  {
   "cell_type": "markdown",
   "id": "38fFdWkAqWxJ",
   "metadata": {
    "id": "38fFdWkAqWxJ"
   },
   "source": [
    "<div dir = \"rtl\" style=\"direction:rtl;line-height:300%;\">\n",
    "\t<font face=\"XB Zar\" size=5>\n",
    "ستون اول دادگان شامل عملکرد توپ های فعلی و ستون دوم آن شامل عملکرد متناظر توپ های جدید می‌باشد. تفاوت میانگین دو عملکرد را برای دو نوع توپ محاسبه کنید.\n",
    "    </font>\n",
    "</div> "
   ]
  },
  {
   "cell_type": "code",
   "execution_count": 27,
   "id": "k2A5_N0NXngk",
   "metadata": {
    "colab": {
     "base_uri": "https://localhost:8080/",
     "height": 34
    },
    "id": "k2A5_N0NXngk",
    "outputId": "0263b5d3-790d-4211-f508-3148e1aa5ec0"
   },
   "outputs": [
    {
     "data": {
      "text/html": [
       "-2.77499999999998"
      ],
      "text/latex": [
       "-2.77499999999998"
      ],
      "text/markdown": [
       "-2.77499999999998"
      ],
      "text/plain": [
       "[1] -2.775"
      ]
     },
     "metadata": {},
     "output_type": "display_data"
    }
   ],
   "source": [
    "current_golf <- df$Current\n",
    "new_golf <- df$New\n",
    "means_diff <- mean(new_golf) - mean(current_golf)\n",
    "means_diff"
   ]
  },
  {
   "cell_type": "markdown",
   "id": "m_xz70kprMCR",
   "metadata": {
    "id": "m_xz70kprMCR"
   },
   "source": [
    "<div dir = \"rtl\" style=\"direction:rtl;line-height:300%;\">\n",
    "\t<font face=\"XB Zar\" size=5>\n",
    "تفاوت میانگین را برای جایشگت های مختلف داده محاسبه کنید و در نهایت با استفاده از هیستوگرام مکان داده مشاهده شده را معین کنید.\n",
    "    </font>\n",
    "</div>"
   ]
  },
  {
   "cell_type": "code",
   "execution_count": 28,
   "id": "so1OWXavYXpo",
   "metadata": {
    "id": "so1OWXavYXpo"
   },
   "outputs": [],
   "source": [
    "all <- c(df$Current, df$New)\n",
    "n <- length(df$Current)\n",
    "r_sample_diff <- function(){\n",
    "  P <- sample(all, 2*n, replace = FALSE)\n",
    "  mean(P[1:n])-mean(P[-1:-n])\n",
    "}\n",
    "S <- replicate(100000, r_sample_diff())"
   ]
  },
  {
   "cell_type": "code",
   "execution_count": 29,
   "id": "Vp5XKYl0fYgN",
   "metadata": {
    "colab": {
     "base_uri": "https://localhost:8080/",
     "height": 437
    },
    "id": "Vp5XKYl0fYgN",
    "outputId": "3d0fd874-67a2-4a17-c369-a96ad6f56b36"
   },
   "outputs": [
    {
     "data": {
      "image/png": "[encoded data removed]",
      "text/plain": [
       "plot without title"
      ]
     },
     "metadata": {
      "image/png": {
       "height": 420,
       "width": 420
      }
     },
     "output_type": "display_data"
    }
   ],
   "source": [
    "library(ggplot2)\n",
    "ggplot() +\n",
    "    geom_histogram(aes(x=S), bins = 50, fill='yellow', color=\"red\") +\n",
    "    geom_vline(xintercept=means_diff, color='blue')"
   ]
  },
  {
   "cell_type": "markdown",
   "id": "FKo_Cfxora6X",
   "metadata": {
    "id": "FKo_Cfxora6X"
   },
   "source": [
    "<div dir = \"rtl\" style=\"direction:rtl;line-height:300%;\">\n",
    "\t<font face=\"XB Zar\" size=5>\n",
    "p-value را محاسبه کنید، آیا فرض صفر رد می شود؟\n",
    "    </font>\n",
    "</div>"
   ]
  },
  {
   "cell_type": "code",
   "execution_count": 30,
   "id": "gj0ealbLjFuD",
   "metadata": {
    "colab": {
     "base_uri": "https://localhost:8080/",
     "height": 34
    },
    "id": "gj0ealbLjFuD",
    "outputId": "e7656ec0-691c-49d3-c4ac-a2dee0a08ac9"
   },
   "outputs": [
    {
     "data": {
      "text/html": [
       "0.90863"
      ],
      "text/latex": [
       "0.90863"
      ],
      "text/markdown": [
       "0.90863"
      ],
      "text/plain": [
       "[1] 0.90863"
      ]
     },
     "metadata": {},
     "output_type": "display_data"
    }
   ],
   "source": [
    "p_value = length(S[S>=means_diff]) / length(S)\n",
    "p_value\n",
    "\n",
    "# پس فرض ۰ رد نمیشود"
   ]
  },
  {
   "cell_type": "markdown",
   "id": "QcXFwlljsq2Y",
   "metadata": {
    "id": "QcXFwlljsq2Y"
   },
   "source": [
    "<div dir = \"rtl\" style=\"direction:rtl;line-height:300%;\">\n",
    "\t<font face=\"XB Zar\" size=5>\n",
    "پس از انجام آزمایش او به قدرت تست جایگشتی در مسئله شرکت توپ گلف سازی شک کرد و \n",
    "تصمیم گرفت با انجام آزمایش هایی کارایی آن برای مسئله فعلی را مورد جدال قرار دهد! برای این کار او قصد دارد 1000 بار آزمون جایگشتی را برای دو دسته داده که هر دو از توزیع نرمال با میانگین صفر ولی انحراف معیار های متفاوت 1 و 2 آمده‌اند اجرا کند و p-value های به دست آمده را بررسی کند. ابتدا به مدت 1000 مرتبه تست جایگشتی را روی دو دسته با اندازه 10 و 20 اجرا کنید.\n",
    "    </font>\n",
    "</div>"
   ]
  },
  {
   "cell_type": "code",
   "execution_count": 46,
   "id": "D6iC8QmimjlA",
   "metadata": {
    "id": "D6iC8QmimjlA"
   },
   "outputs": [
    {
     "data": {
      "text/html": [
       "<style>\n",
       ".list-inline {list-style: none; margin:0; padding: 0}\n",
       ".list-inline>li {display: inline-block}\n",
       ".list-inline>li:not(:last-child)::after {content: \"\\00b7\"; padding: 0 .5ex}\n",
       "</style>\n",
       "<ol class=list-inline><li>0.99</li><li>0.78</li><li>0.63</li><li>0.79</li><li>0.21</li><li>0.17</li><li>0.08</li><li>0.95</li><li>0.1</li><li>0.6</li><li>0.27</li><li>0.76</li><li>0.62</li><li>0.54</li><li>0.12</li><li>0.72</li><li>0.67</li><li>0.26</li><li>0.89</li><li>0.22</li><li>0.67</li><li>0.54</li><li>0.74</li><li>0.82</li><li>0.55</li><li>0.58</li><li>0.26</li><li>0.79</li><li>0.59</li><li>0.16</li><li>0.81</li><li>0.37</li><li>0.54</li><li>0.78</li><li>0.09</li><li>0.11</li><li>0.86</li><li>0.63</li><li>0.2</li><li>0.32</li><li>0.59</li><li>0.19</li><li>0.34</li><li>0.44</li><li>0.77</li><li>0.25</li><li>0.69</li><li>0.74</li><li>0.24</li><li>0.41</li><li>0.42</li><li>0.97</li><li>0.14</li><li>0.53</li><li>0.74</li><li>0.61</li><li>0.73</li><li>0.36</li><li>0.72</li><li>0.5</li><li>0.5</li><li>0.55</li><li>0.6</li><li>0.42</li><li>0.21</li><li>0.77</li><li>0.26</li><li>0.54</li><li>0.98</li><li>0.97</li><li>0.91</li><li>0.71</li><li>0.66</li><li>0.81</li><li>0.75</li><li>0.05</li><li>1</li><li>0.79</li><li>0.45</li><li>0.5</li><li>0</li><li>0.55</li><li>0.58</li><li>0.19</li><li>0.29</li><li>0.78</li><li>0.48</li><li>0.36</li><li>0.35</li><li>0.73</li><li>0.81</li><li>0.45</li><li>0.69</li><li>0.62</li><li>0.68</li><li>0.9</li><li>0.19</li><li>0.31</li><li>0.39</li><li>0.5</li><li>0.31</li><li>0.61</li><li>0.71</li><li>0.72</li><li>0.47</li><li>0.65</li><li>0.3</li><li>0.11</li><li>0.97</li><li>0.09</li><li>0.51</li><li>0.52</li><li>0.32</li><li>0.88</li><li>0.89</li><li>0.81</li><li>0.1</li><li>0.12</li><li>0.28</li><li>0.75</li><li>0.48</li><li>0.25</li><li>0.26</li><li>0.02</li><li>0.81</li><li>0.32</li><li>0.73</li><li>0.72</li><li>0.17</li><li>0.39</li><li>0.68</li><li>0.84</li><li>0.59</li><li>0.29</li><li>0.52</li><li>0.6</li><li>0.79</li><li>0.92</li><li>0.43</li><li>0.32</li><li>0.86</li><li>0.92</li><li>0.18</li><li>0.07</li><li>0.2</li><li>0.61</li><li>0.47</li><li>0.45</li><li>0.76</li><li>0.33</li><li>0.24</li><li>0.16</li><li>0.7</li><li>0.01</li><li>0.4</li><li>0.82</li><li>0.19</li><li>0.62</li><li>0.62</li><li>0.53</li><li>0.66</li><li>0.88</li><li>0.31</li><li>0.95</li><li>0.77</li><li>0.36</li><li>0.4</li><li>0.81</li><li>0.72</li><li>0.99</li><li>0.18</li><li>0.75</li><li>0.66</li><li>0.91</li><li>0.47</li><li>0.61</li><li>0.21</li><li>0.27</li><li>0.16</li><li>0.55</li><li>0.3</li><li>0.83</li><li>0.91</li><li>0.26</li><li>0.7</li><li>0.08</li><li>0.73</li><li>0.54</li><li>0.42</li><li>0.18</li><li>0.51</li><li>0.17</li><li>0.58</li><li>0.45</li><li>0.31</li><li>0.91</li><li>0.44</li><li>0.28</li><li>0.81</li><li>0.25</li><li>⋯</li><li>0.37</li><li>0.12</li><li>0.56</li><li>0.73</li><li>0.44</li><li>0.14</li><li>0.24</li><li>0.42</li><li>0.27</li><li>0.91</li><li>0.59</li><li>0.73</li><li>0.49</li><li>0.35</li><li>0.57</li><li>0.35</li><li>0.77</li><li>0.57</li><li>0.89</li><li>0.51</li><li>0.78</li><li>0.56</li><li>0.16</li><li>0.68</li><li>0.94</li><li>0.57</li><li>0.49</li><li>0.6</li><li>0.71</li><li>0.73</li><li>0.61</li><li>0.85</li><li>0.9</li><li>0.26</li><li>0.37</li><li>0.81</li><li>0.84</li><li>0.14</li><li>0.48</li><li>0.63</li><li>0.53</li><li>0.07</li><li>0.14</li><li>0.86</li><li>0.47</li><li>0.61</li><li>0.33</li><li>0.68</li><li>0.11</li><li>0.41</li><li>0.71</li><li>0.44</li><li>0.35</li><li>0.27</li><li>0.51</li><li>0.26</li><li>0.61</li><li>0.11</li><li>0.4</li><li>0.7</li><li>0.89</li><li>0.59</li><li>0.43</li><li>0.18</li><li>0.86</li><li>0.34</li><li>0.1</li><li>0.47</li><li>0.85</li><li>0.4</li><li>0.05</li><li>0.09</li><li>0.97</li><li>0.54</li><li>0.6</li><li>0.05</li><li>0.37</li><li>0.08</li><li>0.6</li><li>0.51</li><li>0.87</li><li>0.37</li><li>0.78</li><li>0.73</li><li>0.04</li><li>0.34</li><li>0.46</li><li>0.84</li><li>0.31</li><li>0.34</li><li>0.26</li><li>0.08</li><li>0.88</li><li>0.91</li><li>0.84</li><li>0.51</li><li>0.37</li><li>0.62</li><li>0.3</li><li>0.69</li><li>0.19</li><li>0.63</li><li>0.22</li><li>0.47</li><li>0.4</li><li>0.47</li><li>0.2</li><li>0.36</li><li>0.64</li><li>0.35</li><li>0.73</li><li>0.91</li><li>0.68</li><li>0.66</li><li>0.66</li><li>0.87</li><li>0.24</li><li>0.48</li><li>1</li><li>0.89</li><li>0.7</li><li>0.09</li><li>0.56</li><li>0.68</li><li>0.33</li><li>0.29</li><li>0.55</li><li>0.32</li><li>0.4</li><li>0.63</li><li>0.77</li><li>0.55</li><li>0.59</li><li>0.86</li><li>0.72</li><li>0.71</li><li>0.28</li><li>0.72</li><li>0.15</li><li>0.09</li><li>0.52</li><li>0.04</li><li>0.34</li><li>0.88</li><li>0.55</li><li>0.42</li><li>0.47</li><li>0.72</li><li>0.07</li><li>0.27</li><li>0.4</li><li>0.63</li><li>0.64</li><li>0.19</li><li>0.87</li><li>0.55</li><li>0.42</li><li>0.1</li><li>0.54</li><li>0.25</li><li>0.38</li><li>0.61</li><li>0.35</li><li>0.83</li><li>0.83</li><li>0.63</li><li>0.8</li><li>0.51</li><li>0.47</li><li>0.22</li><li>0.7</li><li>0.7</li><li>0.95</li><li>0.3</li><li>0.34</li><li>0.03</li><li>0.9</li><li>0.74</li><li>0.81</li><li>0.47</li><li>0.46</li><li>0.54</li><li>0.41</li><li>0.71</li><li>0.5</li><li>0.68</li><li>0.73</li><li>0.68</li><li>0.39</li><li>0.13</li><li>0.29</li><li>0.01</li><li>0.18</li><li>0.18</li><li>0.66</li><li>0.14</li><li>0.36</li><li>0.61</li><li>0.43</li><li>0.58</li></ol>\n"
      ],
      "text/latex": [
       "\\begin{enumerate*}\n",
       "\\item 0.99\n",
       "\\item 0.78\n",
       "\\item 0.63\n",
       "\\item 0.79\n",
       "\\item 0.21\n",
       "\\item 0.17\n",
       "\\item 0.08\n",
       "\\item 0.95\n",
       "\\item 0.1\n",
       "\\item 0.6\n",
       "\\item 0.27\n",
       "\\item 0.76\n",
       "\\item 0.62\n",
       "\\item 0.54\n",
       "\\item 0.12\n",
       "\\item 0.72\n",
       "\\item 0.67\n",
       "\\item 0.26\n",
       "\\item 0.89\n",
       "\\item 0.22\n",
       "\\item 0.67\n",
       "\\item 0.54\n",
       "\\item 0.74\n",
       "\\item 0.82\n",
       "\\item 0.55\n",
       "\\item 0.58\n",
       "\\item 0.26\n",
       "\\item 0.79\n",
       "\\item 0.59\n",
       "\\item 0.16\n",
       "\\item 0.81\n",
       "\\item 0.37\n",
       "\\item 0.54\n",
       "\\item 0.78\n",
       "\\item 0.09\n",
       "\\item 0.11\n",
       "\\item 0.86\n",
       "\\item 0.63\n",
       "\\item 0.2\n",
       "\\item 0.32\n",
       "\\item 0.59\n",
       "\\item 0.19\n",
       "\\item 0.34\n",
       "\\item 0.44\n",
       "\\item 0.77\n",
       "\\item 0.25\n",
       "\\item 0.69\n",
       "\\item 0.74\n",
       "\\item 0.24\n",
       "\\item 0.41\n",
       "\\item 0.42\n",
       "\\item 0.97\n",
       "\\item 0.14\n",
       "\\item 0.53\n",
       "\\item 0.74\n",
       "\\item 0.61\n",
       "\\item 0.73\n",
       "\\item 0.36\n",
       "\\item 0.72\n",
       "\\item 0.5\n",
       "\\item 0.5\n",
       "\\item 0.55\n",
       "\\item 0.6\n",
       "\\item 0.42\n",
       "\\item 0.21\n",
       "\\item 0.77\n",
       "\\item 0.26\n",
       "\\item 0.54\n",
       "\\item 0.98\n",
       "\\item 0.97\n",
       "\\item 0.91\n",
       "\\item 0.71\n",
       "\\item 0.66\n",
       "\\item 0.81\n",
       "\\item 0.75\n",
       "\\item 0.05\n",
       "\\item 1\n",
       "\\item 0.79\n",
       "\\item 0.45\n",
       "\\item 0.5\n",
       "\\item 0\n",
       "\\item 0.55\n",
       "\\item 0.58\n",
       "\\item 0.19\n",
       "\\item 0.29\n",
       "\\item 0.78\n",
       "\\item 0.48\n",
       "\\item 0.36\n",
       "\\item 0.35\n",
       "\\item 0.73\n",
       "\\item 0.81\n",
       "\\item 0.45\n",
       "\\item 0.69\n",
       "\\item 0.62\n",
       "\\item 0.68\n",
       "\\item 0.9\n",
       "\\item 0.19\n",
       "\\item 0.31\n",
       "\\item 0.39\n",
       "\\item 0.5\n",
       "\\item 0.31\n",
       "\\item 0.61\n",
       "\\item 0.71\n",
       "\\item 0.72\n",
       "\\item 0.47\n",
       "\\item 0.65\n",
       "\\item 0.3\n",
       "\\item 0.11\n",
       "\\item 0.97\n",
       "\\item 0.09\n",
       "\\item 0.51\n",
       "\\item 0.52\n",
       "\\item 0.32\n",
       "\\item 0.88\n",
       "\\item 0.89\n",
       "\\item 0.81\n",
       "\\item 0.1\n",
       "\\item 0.12\n",
       "\\item 0.28\n",
       "\\item 0.75\n",
       "\\item 0.48\n",
       "\\item 0.25\n",
       "\\item 0.26\n",
       "\\item 0.02\n",
       "\\item 0.81\n",
       "\\item 0.32\n",
       "\\item 0.73\n",
       "\\item 0.72\n",
       "\\item 0.17\n",
       "\\item 0.39\n",
       "\\item 0.68\n",
       "\\item 0.84\n",
       "\\item 0.59\n",
       "\\item 0.29\n",
       "\\item 0.52\n",
       "\\item 0.6\n",
       "\\item 0.79\n",
       "\\item 0.92\n",
       "\\item 0.43\n",
       "\\item 0.32\n",
       "\\item 0.86\n",
       "\\item 0.92\n",
       "\\item 0.18\n",
       "\\item 0.07\n",
       "\\item 0.2\n",
       "\\item 0.61\n",
       "\\item 0.47\n",
       "\\item 0.45\n",
       "\\item 0.76\n",
       "\\item 0.33\n",
       "\\item 0.24\n",
       "\\item 0.16\n",
       "\\item 0.7\n",
       "\\item 0.01\n",
       "\\item 0.4\n",
       "\\item 0.82\n",
       "\\item 0.19\n",
       "\\item 0.62\n",
       "\\item 0.62\n",
       "\\item 0.53\n",
       "\\item 0.66\n",
       "\\item 0.88\n",
       "\\item 0.31\n",
       "\\item 0.95\n",
       "\\item 0.77\n",
       "\\item 0.36\n",
       "\\item 0.4\n",
       "\\item 0.81\n",
       "\\item 0.72\n",
       "\\item 0.99\n",
       "\\item 0.18\n",
       "\\item 0.75\n",
       "\\item 0.66\n",
       "\\item 0.91\n",
       "\\item 0.47\n",
       "\\item 0.61\n",
       "\\item 0.21\n",
       "\\item 0.27\n",
       "\\item 0.16\n",
       "\\item 0.55\n",
       "\\item 0.3\n",
       "\\item 0.83\n",
       "\\item 0.91\n",
       "\\item 0.26\n",
       "\\item 0.7\n",
       "\\item 0.08\n",
       "\\item 0.73\n",
       "\\item 0.54\n",
       "\\item 0.42\n",
       "\\item 0.18\n",
       "\\item 0.51\n",
       "\\item 0.17\n",
       "\\item 0.58\n",
       "\\item 0.45\n",
       "\\item 0.31\n",
       "\\item 0.91\n",
       "\\item 0.44\n",
       "\\item 0.28\n",
       "\\item 0.81\n",
       "\\item 0.25\n",
       "\\item ⋯\n",
       "\\item 0.37\n",
       "\\item 0.12\n",
       "\\item 0.56\n",
       "\\item 0.73\n",
       "\\item 0.44\n",
       "\\item 0.14\n",
       "\\item 0.24\n",
       "\\item 0.42\n",
       "\\item 0.27\n",
       "\\item 0.91\n",
       "\\item 0.59\n",
       "\\item 0.73\n",
       "\\item 0.49\n",
       "\\item 0.35\n",
       "\\item 0.57\n",
       "\\item 0.35\n",
       "\\item 0.77\n",
       "\\item 0.57\n",
       "\\item 0.89\n",
       "\\item 0.51\n",
       "\\item 0.78\n",
       "\\item 0.56\n",
       "\\item 0.16\n",
       "\\item 0.68\n",
       "\\item 0.94\n",
       "\\item 0.57\n",
       "\\item 0.49\n",
       "\\item 0.6\n",
       "\\item 0.71\n",
       "\\item 0.73\n",
       "\\item 0.61\n",
       "\\item 0.85\n",
       "\\item 0.9\n",
       "\\item 0.26\n",
       "\\item 0.37\n",
       "\\item 0.81\n",
       "\\item 0.84\n",
       "\\item 0.14\n",
       "\\item 0.48\n",
       "\\item 0.63\n",
       "\\item 0.53\n",
       "\\item 0.07\n",
       "\\item 0.14\n",
       "\\item 0.86\n",
       "\\item 0.47\n",
       "\\item 0.61\n",
       "\\item 0.33\n",
       "\\item 0.68\n",
       "\\item 0.11\n",
       "\\item 0.41\n",
       "\\item 0.71\n",
       "\\item 0.44\n",
       "\\item 0.35\n",
       "\\item 0.27\n",
       "\\item 0.51\n",
       "\\item 0.26\n",
       "\\item 0.61\n",
       "\\item 0.11\n",
       "\\item 0.4\n",
       "\\item 0.7\n",
       "\\item 0.89\n",
       "\\item 0.59\n",
       "\\item 0.43\n",
       "\\item 0.18\n",
       "\\item 0.86\n",
       "\\item 0.34\n",
       "\\item 0.1\n",
       "\\item 0.47\n",
       "\\item 0.85\n",
       "\\item 0.4\n",
       "\\item 0.05\n",
       "\\item 0.09\n",
       "\\item 0.97\n",
       "\\item 0.54\n",
       "\\item 0.6\n",
       "\\item 0.05\n",
       "\\item 0.37\n",
       "\\item 0.08\n",
       "\\item 0.6\n",
       "\\item 0.51\n",
       "\\item 0.87\n",
       "\\item 0.37\n",
       "\\item 0.78\n",
       "\\item 0.73\n",
       "\\item 0.04\n",
       "\\item 0.34\n",
       "\\item 0.46\n",
       "\\item 0.84\n",
       "\\item 0.31\n",
       "\\item 0.34\n",
       "\\item 0.26\n",
       "\\item 0.08\n",
       "\\item 0.88\n",
       "\\item 0.91\n",
       "\\item 0.84\n",
       "\\item 0.51\n",
       "\\item 0.37\n",
       "\\item 0.62\n",
       "\\item 0.3\n",
       "\\item 0.69\n",
       "\\item 0.19\n",
       "\\item 0.63\n",
       "\\item 0.22\n",
       "\\item 0.47\n",
       "\\item 0.4\n",
       "\\item 0.47\n",
       "\\item 0.2\n",
       "\\item 0.36\n",
       "\\item 0.64\n",
       "\\item 0.35\n",
       "\\item 0.73\n",
       "\\item 0.91\n",
       "\\item 0.68\n",
       "\\item 0.66\n",
       "\\item 0.66\n",
       "\\item 0.87\n",
       "\\item 0.24\n",
       "\\item 0.48\n",
       "\\item 1\n",
       "\\item 0.89\n",
       "\\item 0.7\n",
       "\\item 0.09\n",
       "\\item 0.56\n",
       "\\item 0.68\n",
       "\\item 0.33\n",
       "\\item 0.29\n",
       "\\item 0.55\n",
       "\\item 0.32\n",
       "\\item 0.4\n",
       "\\item 0.63\n",
       "\\item 0.77\n",
       "\\item 0.55\n",
       "\\item 0.59\n",
       "\\item 0.86\n",
       "\\item 0.72\n",
       "\\item 0.71\n",
       "\\item 0.28\n",
       "\\item 0.72\n",
       "\\item 0.15\n",
       "\\item 0.09\n",
       "\\item 0.52\n",
       "\\item 0.04\n",
       "\\item 0.34\n",
       "\\item 0.88\n",
       "\\item 0.55\n",
       "\\item 0.42\n",
       "\\item 0.47\n",
       "\\item 0.72\n",
       "\\item 0.07\n",
       "\\item 0.27\n",
       "\\item 0.4\n",
       "\\item 0.63\n",
       "\\item 0.64\n",
       "\\item 0.19\n",
       "\\item 0.87\n",
       "\\item 0.55\n",
       "\\item 0.42\n",
       "\\item 0.1\n",
       "\\item 0.54\n",
       "\\item 0.25\n",
       "\\item 0.38\n",
       "\\item 0.61\n",
       "\\item 0.35\n",
       "\\item 0.83\n",
       "\\item 0.83\n",
       "\\item 0.63\n",
       "\\item 0.8\n",
       "\\item 0.51\n",
       "\\item 0.47\n",
       "\\item 0.22\n",
       "\\item 0.7\n",
       "\\item 0.7\n",
       "\\item 0.95\n",
       "\\item 0.3\n",
       "\\item 0.34\n",
       "\\item 0.03\n",
       "\\item 0.9\n",
       "\\item 0.74\n",
       "\\item 0.81\n",
       "\\item 0.47\n",
       "\\item 0.46\n",
       "\\item 0.54\n",
       "\\item 0.41\n",
       "\\item 0.71\n",
       "\\item 0.5\n",
       "\\item 0.68\n",
       "\\item 0.73\n",
       "\\item 0.68\n",
       "\\item 0.39\n",
       "\\item 0.13\n",
       "\\item 0.29\n",
       "\\item 0.01\n",
       "\\item 0.18\n",
       "\\item 0.18\n",
       "\\item 0.66\n",
       "\\item 0.14\n",
       "\\item 0.36\n",
       "\\item 0.61\n",
       "\\item 0.43\n",
       "\\item 0.58\n",
       "\\end{enumerate*}\n"
      ],
      "text/markdown": [
       "1. 0.99\n",
       "2. 0.78\n",
       "3. 0.63\n",
       "4. 0.79\n",
       "5. 0.21\n",
       "6. 0.17\n",
       "7. 0.08\n",
       "8. 0.95\n",
       "9. 0.1\n",
       "10. 0.6\n",
       "11. 0.27\n",
       "12. 0.76\n",
       "13. 0.62\n",
       "14. 0.54\n",
       "15. 0.12\n",
       "16. 0.72\n",
       "17. 0.67\n",
       "18. 0.26\n",
       "19. 0.89\n",
       "20. 0.22\n",
       "21. 0.67\n",
       "22. 0.54\n",
       "23. 0.74\n",
       "24. 0.82\n",
       "25. 0.55\n",
       "26. 0.58\n",
       "27. 0.26\n",
       "28. 0.79\n",
       "29. 0.59\n",
       "30. 0.16\n",
       "31. 0.81\n",
       "32. 0.37\n",
       "33. 0.54\n",
       "34. 0.78\n",
       "35. 0.09\n",
       "36. 0.11\n",
       "37. 0.86\n",
       "38. 0.63\n",
       "39. 0.2\n",
       "40. 0.32\n",
       "41. 0.59\n",
       "42. 0.19\n",
       "43. 0.34\n",
       "44. 0.44\n",
       "45. 0.77\n",
       "46. 0.25\n",
       "47. 0.69\n",
       "48. 0.74\n",
       "49. 0.24\n",
       "50. 0.41\n",
       "51. 0.42\n",
       "52. 0.97\n",
       "53. 0.14\n",
       "54. 0.53\n",
       "55. 0.74\n",
       "56. 0.61\n",
       "57. 0.73\n",
       "58. 0.36\n",
       "59. 0.72\n",
       "60. 0.5\n",
       "61. 0.5\n",
       "62. 0.55\n",
       "63. 0.6\n",
       "64. 0.42\n",
       "65. 0.21\n",
       "66. 0.77\n",
       "67. 0.26\n",
       "68. 0.54\n",
       "69. 0.98\n",
       "70. 0.97\n",
       "71. 0.91\n",
       "72. 0.71\n",
       "73. 0.66\n",
       "74. 0.81\n",
       "75. 0.75\n",
       "76. 0.05\n",
       "77. 1\n",
       "78. 0.79\n",
       "79. 0.45\n",
       "80. 0.5\n",
       "81. 0\n",
       "82. 0.55\n",
       "83. 0.58\n",
       "84. 0.19\n",
       "85. 0.29\n",
       "86. 0.78\n",
       "87. 0.48\n",
       "88. 0.36\n",
       "89. 0.35\n",
       "90. 0.73\n",
       "91. 0.81\n",
       "92. 0.45\n",
       "93. 0.69\n",
       "94. 0.62\n",
       "95. 0.68\n",
       "96. 0.9\n",
       "97. 0.19\n",
       "98. 0.31\n",
       "99. 0.39\n",
       "100. 0.5\n",
       "101. 0.31\n",
       "102. 0.61\n",
       "103. 0.71\n",
       "104. 0.72\n",
       "105. 0.47\n",
       "106. 0.65\n",
       "107. 0.3\n",
       "108. 0.11\n",
       "109. 0.97\n",
       "110. 0.09\n",
       "111. 0.51\n",
       "112. 0.52\n",
       "113. 0.32\n",
       "114. 0.88\n",
       "115. 0.89\n",
       "116. 0.81\n",
       "117. 0.1\n",
       "118. 0.12\n",
       "119. 0.28\n",
       "120. 0.75\n",
       "121. 0.48\n",
       "122. 0.25\n",
       "123. 0.26\n",
       "124. 0.02\n",
       "125. 0.81\n",
       "126. 0.32\n",
       "127. 0.73\n",
       "128. 0.72\n",
       "129. 0.17\n",
       "130. 0.39\n",
       "131. 0.68\n",
       "132. 0.84\n",
       "133. 0.59\n",
       "134. 0.29\n",
       "135. 0.52\n",
       "136. 0.6\n",
       "137. 0.79\n",
       "138. 0.92\n",
       "139. 0.43\n",
       "140. 0.32\n",
       "141. 0.86\n",
       "142. 0.92\n",
       "143. 0.18\n",
       "144. 0.07\n",
       "145. 0.2\n",
       "146. 0.61\n",
       "147. 0.47\n",
       "148. 0.45\n",
       "149. 0.76\n",
       "150. 0.33\n",
       "151. 0.24\n",
       "152. 0.16\n",
       "153. 0.7\n",
       "154. 0.01\n",
       "155. 0.4\n",
       "156. 0.82\n",
       "157. 0.19\n",
       "158. 0.62\n",
       "159. 0.62\n",
       "160. 0.53\n",
       "161. 0.66\n",
       "162. 0.88\n",
       "163. 0.31\n",
       "164. 0.95\n",
       "165. 0.77\n",
       "166. 0.36\n",
       "167. 0.4\n",
       "168. 0.81\n",
       "169. 0.72\n",
       "170. 0.99\n",
       "171. 0.18\n",
       "172. 0.75\n",
       "173. 0.66\n",
       "174. 0.91\n",
       "175. 0.47\n",
       "176. 0.61\n",
       "177. 0.21\n",
       "178. 0.27\n",
       "179. 0.16\n",
       "180. 0.55\n",
       "181. 0.3\n",
       "182. 0.83\n",
       "183. 0.91\n",
       "184. 0.26\n",
       "185. 0.7\n",
       "186. 0.08\n",
       "187. 0.73\n",
       "188. 0.54\n",
       "189. 0.42\n",
       "190. 0.18\n",
       "191. 0.51\n",
       "192. 0.17\n",
       "193. 0.58\n",
       "194. 0.45\n",
       "195. 0.31\n",
       "196. 0.91\n",
       "197. 0.44\n",
       "198. 0.28\n",
       "199. 0.81\n",
       "200. 0.25\n",
       "201. ⋯\n",
       "202. 0.37\n",
       "203. 0.12\n",
       "204. 0.56\n",
       "205. 0.73\n",
       "206. 0.44\n",
       "207. 0.14\n",
       "208. 0.24\n",
       "209. 0.42\n",
       "210. 0.27\n",
       "211. 0.91\n",
       "212. 0.59\n",
       "213. 0.73\n",
       "214. 0.49\n",
       "215. 0.35\n",
       "216. 0.57\n",
       "217. 0.35\n",
       "218. 0.77\n",
       "219. 0.57\n",
       "220. 0.89\n",
       "221. 0.51\n",
       "222. 0.78\n",
       "223. 0.56\n",
       "224. 0.16\n",
       "225. 0.68\n",
       "226. 0.94\n",
       "227. 0.57\n",
       "228. 0.49\n",
       "229. 0.6\n",
       "230. 0.71\n",
       "231. 0.73\n",
       "232. 0.61\n",
       "233. 0.85\n",
       "234. 0.9\n",
       "235. 0.26\n",
       "236. 0.37\n",
       "237. 0.81\n",
       "238. 0.84\n",
       "239. 0.14\n",
       "240. 0.48\n",
       "241. 0.63\n",
       "242. 0.53\n",
       "243. 0.07\n",
       "244. 0.14\n",
       "245. 0.86\n",
       "246. 0.47\n",
       "247. 0.61\n",
       "248. 0.33\n",
       "249. 0.68\n",
       "250. 0.11\n",
       "251. 0.41\n",
       "252. 0.71\n",
       "253. 0.44\n",
       "254. 0.35\n",
       "255. 0.27\n",
       "256. 0.51\n",
       "257. 0.26\n",
       "258. 0.61\n",
       "259. 0.11\n",
       "260. 0.4\n",
       "261. 0.7\n",
       "262. 0.89\n",
       "263. 0.59\n",
       "264. 0.43\n",
       "265. 0.18\n",
       "266. 0.86\n",
       "267. 0.34\n",
       "268. 0.1\n",
       "269. 0.47\n",
       "270. 0.85\n",
       "271. 0.4\n",
       "272. 0.05\n",
       "273. 0.09\n",
       "274. 0.97\n",
       "275. 0.54\n",
       "276. 0.6\n",
       "277. 0.05\n",
       "278. 0.37\n",
       "279. 0.08\n",
       "280. 0.6\n",
       "281. 0.51\n",
       "282. 0.87\n",
       "283. 0.37\n",
       "284. 0.78\n",
       "285. 0.73\n",
       "286. 0.04\n",
       "287. 0.34\n",
       "288. 0.46\n",
       "289. 0.84\n",
       "290. 0.31\n",
       "291. 0.34\n",
       "292. 0.26\n",
       "293. 0.08\n",
       "294. 0.88\n",
       "295. 0.91\n",
       "296. 0.84\n",
       "297. 0.51\n",
       "298. 0.37\n",
       "299. 0.62\n",
       "300. 0.3\n",
       "301. 0.69\n",
       "302. 0.19\n",
       "303. 0.63\n",
       "304. 0.22\n",
       "305. 0.47\n",
       "306. 0.4\n",
       "307. 0.47\n",
       "308. 0.2\n",
       "309. 0.36\n",
       "310. 0.64\n",
       "311. 0.35\n",
       "312. 0.73\n",
       "313. 0.91\n",
       "314. 0.68\n",
       "315. 0.66\n",
       "316. 0.66\n",
       "317. 0.87\n",
       "318. 0.24\n",
       "319. 0.48\n",
       "320. 1\n",
       "321. 0.89\n",
       "322. 0.7\n",
       "323. 0.09\n",
       "324. 0.56\n",
       "325. 0.68\n",
       "326. 0.33\n",
       "327. 0.29\n",
       "328. 0.55\n",
       "329. 0.32\n",
       "330. 0.4\n",
       "331. 0.63\n",
       "332. 0.77\n",
       "333. 0.55\n",
       "334. 0.59\n",
       "335. 0.86\n",
       "336. 0.72\n",
       "337. 0.71\n",
       "338. 0.28\n",
       "339. 0.72\n",
       "340. 0.15\n",
       "341. 0.09\n",
       "342. 0.52\n",
       "343. 0.04\n",
       "344. 0.34\n",
       "345. 0.88\n",
       "346. 0.55\n",
       "347. 0.42\n",
       "348. 0.47\n",
       "349. 0.72\n",
       "350. 0.07\n",
       "351. 0.27\n",
       "352. 0.4\n",
       "353. 0.63\n",
       "354. 0.64\n",
       "355. 0.19\n",
       "356. 0.87\n",
       "357. 0.55\n",
       "358. 0.42\n",
       "359. 0.1\n",
       "360. 0.54\n",
       "361. 0.25\n",
       "362. 0.38\n",
       "363. 0.61\n",
       "364. 0.35\n",
       "365. 0.83\n",
       "366. 0.83\n",
       "367. 0.63\n",
       "368. 0.8\n",
       "369. 0.51\n",
       "370. 0.47\n",
       "371. 0.22\n",
       "372. 0.7\n",
       "373. 0.7\n",
       "374. 0.95\n",
       "375. 0.3\n",
       "376. 0.34\n",
       "377. 0.03\n",
       "378. 0.9\n",
       "379. 0.74\n",
       "380. 0.81\n",
       "381. 0.47\n",
       "382. 0.46\n",
       "383. 0.54\n",
       "384. 0.41\n",
       "385. 0.71\n",
       "386. 0.5\n",
       "387. 0.68\n",
       "388. 0.73\n",
       "389. 0.68\n",
       "390. 0.39\n",
       "391. 0.13\n",
       "392. 0.29\n",
       "393. 0.01\n",
       "394. 0.18\n",
       "395. 0.18\n",
       "396. 0.66\n",
       "397. 0.14\n",
       "398. 0.36\n",
       "399. 0.61\n",
       "400. 0.43\n",
       "401. 0.58\n",
       "\n",
       "\n"
      ],
      "text/plain": [
       "   [1] 0.99 0.78 0.63 0.79 0.21 0.17 0.08 0.95 0.10 0.60 0.27 0.76 0.62 0.54\n",
       "  [15] 0.12 0.72 0.67 0.26 0.89 0.22 0.67 0.54 0.74 0.82 0.55 0.58 0.26 0.79\n",
       "  [29] 0.59 0.16 0.81 0.37 0.54 0.78 0.09 0.11 0.86 0.63 0.20 0.32 0.59 0.19\n",
       "  [43] 0.34 0.44 0.77 0.25 0.69 0.74 0.24 0.41 0.42 0.97 0.14 0.53 0.74 0.61\n",
       "  [57] 0.73 0.36 0.72 0.50 0.50 0.55 0.60 0.42 0.21 0.77 0.26 0.54 0.98 0.97\n",
       "  [71] 0.91 0.71 0.66 0.81 0.75 0.05 1.00 0.79 0.45 0.50 0.00 0.55 0.58 0.19\n",
       "  [85] 0.29 0.78 0.48 0.36 0.35 0.73 0.81 0.45 0.69 0.62 0.68 0.90 0.19 0.31\n",
       "  [99] 0.39 0.50 0.31 0.61 0.71 0.72 0.47 0.65 0.30 0.11 0.97 0.09 0.51 0.52\n",
       " [113] 0.32 0.88 0.89 0.81 0.10 0.12 0.28 0.75 0.48 0.25 0.26 0.02 0.81 0.32\n",
       " [127] 0.73 0.72 0.17 0.39 0.68 0.84 0.59 0.29 0.52 0.60 0.79 0.92 0.43 0.32\n",
       " [141] 0.86 0.92 0.18 0.07 0.20 0.61 0.47 0.45 0.76 0.33 0.24 0.16 0.70 0.01\n",
       " [155] 0.40 0.82 0.19 0.62 0.62 0.53 0.66 0.88 0.31 0.95 0.77 0.36 0.40 0.81\n",
       " [169] 0.72 0.99 0.18 0.75 0.66 0.91 0.47 0.61 0.21 0.27 0.16 0.55 0.30 0.83\n",
       " [183] 0.91 0.26 0.70 0.08 0.73 0.54 0.42 0.18 0.51 0.17 0.58 0.45 0.31 0.91\n",
       " [197] 0.44 0.28 0.81 0.25 0.85 0.89 0.96 0.15 0.68 0.72 0.35 0.31 0.60 0.64\n",
       " [211] 0.26 0.19 0.58 0.22 0.45 0.41 0.94 0.34 0.17 0.85 0.88 0.25 0.35 0.80\n",
       " [225] 0.21 0.77 0.64 0.12 0.79 0.25 0.99 0.21 0.81 0.13 0.02 0.28 0.60 0.78\n",
       " [239] 0.56 0.03 0.49 0.72 0.18 0.79 0.82 0.15 0.67 0.69 0.37 0.42 0.25 0.19\n",
       " [253] 0.22 0.43 0.73 0.38 0.81 0.83 0.38 0.79 0.74 0.01 0.49 0.61 0.73 0.73\n",
       " [267] 0.40 0.07 0.70 0.75 0.82 0.51 0.74 0.51 0.22 0.16 0.65 0.83 0.83 0.46\n",
       " [281] 0.92 0.50 0.15 0.94 0.67 0.66 0.70 0.87 0.77 0.92 0.66 0.87 0.40 0.16\n",
       " [295] 0.43 0.73 0.97 0.47 0.89 0.28 0.18 0.63 0.26 0.85 0.32 0.57 0.60 0.30\n",
       " [309] 0.72 0.04 0.32 0.86 0.96 0.96 0.56 0.16 0.59 0.62 0.63 0.39 0.34 0.21\n",
       " [323] 0.23 0.53 0.25 0.67 0.38 0.56 0.41 0.42 0.44 0.39 0.84 0.38 0.74 0.13\n",
       " [337] 0.16 0.61 0.41 0.52 0.58 0.52 0.64 0.50 0.62 0.69 0.45 0.22 0.89 0.68\n",
       " [351] 0.15 0.56 0.40 0.88 0.53 0.59 0.80 0.31 0.03 0.69 0.41 0.42 0.04 0.18\n",
       " [365] 0.29 0.28 0.99 0.86 0.37 0.40 0.98 0.03 0.60 0.72 0.77 0.73 0.80 0.68\n",
       " [379] 0.24 0.68 0.30 0.85 0.76 0.12 0.33 0.42 0.51 0.92 0.63 0.22 0.94 0.91\n",
       " [393] 0.91 0.25 0.59 0.39 0.33 0.66 0.44 0.88 0.03 0.63 0.97 0.77 0.77 0.47\n",
       " [407] 0.57 0.31 0.70 0.62 0.32 0.46 0.39 0.10 0.03 0.66 0.92 0.26 0.56 0.53\n",
       " [421] 0.48 0.66 0.47 0.19 0.64 0.22 0.71 0.62 0.76 0.70 0.63 0.78 0.66 0.66\n",
       " [435] 0.75 0.55 0.39 0.26 0.88 0.02 0.05 0.96 0.67 0.47 0.73 0.58 0.47 0.26\n",
       " [449] 0.49 0.55 0.17 0.01 0.82 0.44 0.15 0.87 0.94 0.46 0.94 0.56 0.40 0.72\n",
       " [463] 0.30 0.68 0.56 0.92 0.74 0.11 0.85 0.35 0.51 0.58 0.79 0.47 0.20 0.10\n",
       " [477] 0.81 0.51 0.22 0.52 0.44 0.68 0.31 0.09 0.63 0.86 0.14 0.27 0.65 0.49\n",
       " [491] 0.86 0.69 0.96 0.89 0.35 0.19 0.50 0.82 0.68 0.48 0.53 0.65 0.31 0.76\n",
       " [505] 0.99 0.85 0.52 0.54 0.36 0.40 0.34 0.11 0.33 0.75 0.13 0.28 0.37 0.67\n",
       " [519] 0.82 0.89 0.22 0.11 0.46 0.40 0.13 0.72 0.46 0.94 0.12 0.72 0.80 0.39\n",
       " [533] 0.63 0.46 0.42 0.88 0.53 0.03 0.35 0.27 0.46 0.71 0.37 0.50 0.32 0.25\n",
       " [547] 0.79 0.53 0.99 0.61 0.42 0.73 0.07 0.34 0.59 0.86 0.32 0.18 0.01 0.86\n",
       " [561] 0.11 0.23 0.21 0.33 0.27 0.69 0.74 0.61 0.22 0.76 0.94 0.87 0.14 0.60\n",
       " [575] 0.29 0.10 0.28 1.00 0.29 0.17 0.72 0.82 0.39 0.48 0.83 0.67 0.55 0.36\n",
       " [589] 0.06 0.84 0.32 0.78 0.44 0.47 0.24 0.73 0.95 0.17 0.77 0.24 0.48 0.44\n",
       " [603] 0.68 0.20 0.76 0.96 0.33 0.74 0.81 0.26 0.67 0.79 0.64 0.21 0.58 0.89\n",
       " [617] 0.12 0.97 0.44 0.82 0.45 0.02 0.04 0.69 0.57 0.34 0.88 0.15 0.64 0.53\n",
       " [631] 0.59 0.41 0.18 0.55 0.76 0.36 0.87 0.20 0.52 0.72 0.25 0.85 0.27 0.23\n",
       " [645] 0.18 0.17 0.90 0.40 0.64 0.82 0.15 0.84 0.39 0.94 0.98 0.54 0.29 0.63\n",
       " [659] 0.29 1.00 0.41 0.72 0.85 0.21 0.91 0.78 0.36 0.25 0.35 0.59 0.23 0.83\n",
       " [673] 0.96 0.65 0.43 0.76 0.01 0.26 0.10 0.18 0.59 0.48 0.97 0.07 0.13 0.70\n",
       " [687] 0.97 0.86 0.21 0.20 0.14 0.49 0.01 0.06 0.74 0.20 0.81 0.45 0.90 0.52\n",
       " [701] 0.23 0.72 0.20 0.11 0.39 0.85 0.17 0.55 0.58 0.05 0.65 0.37 0.64 0.65\n",
       " [715] 0.51 0.78 0.48 0.55 0.36 0.39 0.49 0.08 0.51 0.20 0.71 0.75 0.36 0.43\n",
       " [729] 0.54 1.00 0.42 0.05 0.61 0.37 0.09 0.80 0.70 0.43 0.18 0.53 0.59 0.01\n",
       " [743] 0.05 0.16 0.58 0.52 0.13 0.75 0.88 0.78 0.84 0.44 0.74 0.09 0.43 0.34\n",
       " [757] 0.10 0.61 0.85 0.53 0.13 0.62 0.47 0.33 0.94 0.79 0.86 0.34 0.78 0.32\n",
       " [771] 0.21 0.51 0.79 0.58 0.08 0.47 0.79 0.17 0.71 0.89 0.03 0.56 0.74 0.87\n",
       " [785] 0.53 0.05 0.59 0.30 0.94 0.78 0.56 0.09 0.84 0.52 0.18 0.03 0.82 0.38\n",
       " [799] 0.00 0.40 0.37 0.12 0.56 0.73 0.44 0.14 0.24 0.42 0.27 0.91 0.59 0.73\n",
       " [813] 0.49 0.35 0.57 0.35 0.77 0.57 0.89 0.51 0.78 0.56 0.16 0.68 0.94 0.57\n",
       " [827] 0.49 0.60 0.71 0.73 0.61 0.85 0.90 0.26 0.37 0.81 0.84 0.14 0.48 0.63\n",
       " [841] 0.53 0.07 0.14 0.86 0.47 0.61 0.33 0.68 0.11 0.41 0.71 0.44 0.35 0.27\n",
       " [855] 0.51 0.26 0.61 0.11 0.40 0.70 0.89 0.59 0.43 0.18 0.86 0.34 0.10 0.47\n",
       " [869] 0.85 0.40 0.05 0.09 0.97 0.54 0.60 0.05 0.37 0.08 0.60 0.51 0.87 0.37\n",
       " [883] 0.78 0.73 0.04 0.34 0.46 0.84 0.31 0.34 0.26 0.08 0.88 0.91 0.84 0.51\n",
       " [897] 0.37 0.62 0.30 0.69 0.19 0.63 0.22 0.47 0.40 0.47 0.20 0.36 0.64 0.35\n",
       " [911] 0.73 0.91 0.68 0.66 0.66 0.87 0.24 0.48 1.00 0.89 0.70 0.09 0.56 0.68\n",
       " [925] 0.33 0.29 0.55 0.32 0.40 0.63 0.77 0.55 0.59 0.86 0.72 0.71 0.28 0.72\n",
       " [939] 0.15 0.09 0.52 0.04 0.34 0.88 0.55 0.42 0.47 0.72 0.07 0.27 0.40 0.63\n",
       " [953] 0.64 0.19 0.87 0.55 0.42 0.10 0.54 0.25 0.38 0.61 0.35 0.83 0.83 0.63\n",
       " [967] 0.80 0.51 0.47 0.22 0.70 0.70 0.95 0.30 0.34 0.03 0.90 0.74 0.81 0.47\n",
       " [981] 0.46 0.54 0.41 0.71 0.50 0.68 0.73 0.68 0.39 0.13 0.29 0.01 0.18 0.18\n",
       " [995] 0.66 0.14 0.36 0.61 0.43 0.58"
      ]
     },
     "metadata": {},
     "output_type": "display_data"
    }
   ],
   "source": [
    "permutation_test <- function(N) {\n",
    "    group1 <- rnorm(10, mean = 0, sd = 1)\n",
    "    group2 <- rnorm(20, mean = 0, sd = 2)\n",
    "    The_dif <- mean(group1) - mean(group2)\n",
    "    total <- append(group1, group2)\n",
    "    higher <- 0\n",
    "    for(i in 1:N) {\n",
    "        perm <- sample(total, length(total), replace = FALSE)\n",
    "        dif <- mean(perm[1:10]) - mean(perm[11:30])\n",
    "        if(dif >= The_dif) {\n",
    "            higher <- higher + 1\n",
    "        }\n",
    "    }\n",
    "    return(higher / N)\n",
    "}\n",
    "pValues <- c()\n",
    "for(i in 1:1000) {\n",
    "    pValues <- append(pValues, permutation_test(100))\n",
    "}\n",
    "pValues"
   ]
  },
  {
   "cell_type": "markdown",
   "id": "7UCm04bExIcX",
   "metadata": {
    "id": "7UCm04bExIcX"
   },
   "source": [
    "<div dir = \"rtl\" style=\"direction:rtl;line-height:300%;\">\n",
    "\t<font face=\"XB Zar\" size=5>\n",
    "  بازه صفر تا یک را از نقاط 0.05 و 0.1 و 0.5 و 0.9 و 0.95 به بازه های کوچکتر تقسیم کنید و تعداد p-value هایی که در هر کدام از بازه ها می‌افتند را محاسبه کنید.\n",
    "    </font>\n",
    "</div>"
   ]
  },
  {
   "cell_type": "code",
   "execution_count": 48,
   "id": "G4QpVPK-x9jy",
   "metadata": {
    "colab": {
     "base_uri": "https://localhost:8080/",
     "height": 69
    },
    "id": "G4QpVPK-x9jy",
    "outputId": "c3b72885-ac61-4848-9b1a-8be36a0e8a45"
   },
   "outputs": [
    {
     "data": {
      "text/html": [
       "<style>\n",
       ".list-inline {list-style: none; margin:0; padding: 0}\n",
       ".list-inline>li {display: inline-block}\n",
       ".list-inline>li:not(:last-child)::after {content: \"\\00b7\"; padding: 0 .5ex}\n",
       "</style>\n",
       "<ol class=list-inline><li>0.99</li><li>0.78</li><li>0.63</li><li>0.79</li><li>0.21</li><li>0.17</li><li>0.08</li><li>0.95</li><li>0.1</li><li>0.6</li></ol>\n"
      ],
      "text/latex": [
       "\\begin{enumerate*}\n",
       "\\item 0.99\n",
       "\\item 0.78\n",
       "\\item 0.63\n",
       "\\item 0.79\n",
       "\\item 0.21\n",
       "\\item 0.17\n",
       "\\item 0.08\n",
       "\\item 0.95\n",
       "\\item 0.1\n",
       "\\item 0.6\n",
       "\\end{enumerate*}\n"
      ],
      "text/markdown": [
       "1. 0.99\n",
       "2. 0.78\n",
       "3. 0.63\n",
       "4. 0.79\n",
       "5. 0.21\n",
       "6. 0.17\n",
       "7. 0.08\n",
       "8. 0.95\n",
       "9. 0.1\n",
       "10. 0.6\n",
       "\n",
       "\n"
      ],
      "text/plain": [
       " [1] 0.99 0.78 0.63 0.79 0.21 0.17 0.08 0.95 0.10 0.60"
      ]
     },
     "metadata": {},
     "output_type": "display_data"
    },
    {
     "data": {
      "text/html": [
       "36"
      ],
      "text/latex": [
       "36"
      ],
      "text/markdown": [
       "36"
      ],
      "text/plain": [
       "[1] 36"
      ]
     },
     "metadata": {},
     "output_type": "display_data"
    },
    {
     "data": {
      "text/html": [
       "31"
      ],
      "text/latex": [
       "31"
      ],
      "text/markdown": [
       "31"
      ],
      "text/plain": [
       "[1] 31"
      ]
     },
     "metadata": {},
     "output_type": "display_data"
    },
    {
     "data": {
      "text/html": [
       "410"
      ],
      "text/latex": [
       "410"
      ],
      "text/markdown": [
       "410"
      ],
      "text/plain": [
       "[1] 410"
      ]
     },
     "metadata": {},
     "output_type": "display_data"
    },
    {
     "data": {
      "text/html": [
       "464"
      ],
      "text/latex": [
       "464"
      ],
      "text/markdown": [
       "464"
      ],
      "text/plain": [
       "[1] 464"
      ]
     },
     "metadata": {},
     "output_type": "display_data"
    },
    {
     "data": {
      "text/html": [
       "33"
      ],
      "text/latex": [
       "33"
      ],
      "text/markdown": [
       "33"
      ],
      "text/plain": [
       "[1] 33"
      ]
     },
     "metadata": {},
     "output_type": "display_data"
    },
    {
     "data": {
      "text/html": [
       "34"
      ],
      "text/latex": [
       "34"
      ],
      "text/markdown": [
       "34"
      ],
      "text/plain": [
       "[1] 34"
      ]
     },
     "metadata": {},
     "output_type": "display_data"
    }
   ],
   "source": [
    "head(pValues, n = 10)\n",
    "length(pValues[pValues<=0.05])\n",
    "length(pValues[pValues>=0.05&pValues<0.1])\n",
    "length(pValues[pValues>=0.1&pValues<0.5])\n",
    "length(pValues[pValues>=0.5&pValues<0.9])\n",
    "length(pValues[pValues>=0.9&pValues<0.95])\n",
    "length(pValues[pValues>=0.95])"
   ]
  },
  {
   "cell_type": "markdown",
   "id": "rOx908Krx-lB",
   "metadata": {
    "id": "rOx908Krx-lB"
   },
   "source": [
    "<div dir = \"rtl\" style=\"direction:rtl;line-height:300%;\">\n",
    "\t<font face=\"XB Zar\" size=5>\n",
    "  اگر انحراف معیار دو دسته را عوض کنیم نتایج چه تغییری خواهند کرد؟ \n",
    "  <br>\n",
    "  با توجه به نتایج به دست آمده توضیح دهید که اگر از آزمون جایگشت برای مقایسه میانگین ها استفاده کنیم با چه مشکلاتی مواجه خواهیم شد؟\n",
    "      </font>\n",
    "</div>"
   ]
  },
  {
   "cell_type": "markdown",
   "id": "HnN8bs5Z1t5q",
   "metadata": {
    "id": "HnN8bs5Z1t5q"
   },
   "source": [
    "- در واقع با افزایش انحراف معیار، تمرکز اختلاف میانگین‌ها از صفر بیشتر فاصله می‌گیرند. پس در بازه‌بندی در مقدار اختلاف بیشتر دنبال پی‌ولیوی مورد نظرمون باید باشیم. همچنین آزمون جایگشت برای انحراف معیارهای پایین مناسب است و در غیر این صورت، دقت بسیار پایین‌تر از حالت مدنظر ما می‌باشد."
   ]
  }
 ],
 "metadata": {
  "colab": {
   "provenance": []
  },
  "kernelspec": {
   "display_name": "R",
   "language": "R",
   "name": "ir"
  },
  "language_info": {
   "codemirror_mode": "r",
   "file_extension": ".r",
   "mimetype": "text/x-r-source",
   "name": "R",
   "pygments_lexer": "r",
   "version": "4.2.0"
  }
 },
 "nbformat": 4,
 "nbformat_minor": 5
}
