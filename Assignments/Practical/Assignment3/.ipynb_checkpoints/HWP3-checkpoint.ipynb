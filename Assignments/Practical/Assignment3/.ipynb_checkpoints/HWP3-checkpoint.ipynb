{
 "cells": [
  {
   "cell_type": "markdown",
   "id": "940cca65",
   "metadata": {},
   "source": [
    "<div style=\"direction:rtl;line-height:300%;\">\n",
    "\t<font face=\"XB Zar\" size=5>\n",
    "\t\t<div align=center>\n",
    "\t\t\t<font face=\"IranNastaliq\" size=30>\n",
    "\t\t\t\t<p></p>\n",
    "\t\t\t\t<p></p>\n",
    "به نام خدا\n",
    "\t\t\t\t<p></p>\n",
    "\t\t\t</font>\n",
    "\t\t\t<font color=#FF7500>\n",
    "دانشگاه صنعتی شریف - دانشکده مهندسی کامپیوتر\n",
    "            </font>\n",
    "\t\t\t<p></p>\n",
    "\t\t\t<font color=blue>\n",
    "آمار و احتمال مهندسی\n",
    "            </font>\n",
    "\t\t\t<br />\n",
    "\t\t\t<br />\n",
    "پاییز ۱۴۰۱\n",
    "\t\t</div>\n",
    "\t\t<hr/>\n",
    "\t\t<div align=center>\n",
    "\t\t    <font color=red size=6>\n",
    "\t\t\t    <br />\n",
    "تمرین عملی سری سوم\n",
    "            \t<br/>\n",
    "\t\t\t</font>\n",
    "            نام و نام خانوادگی: ایمان محمدی\n",
    "            <br/>\n",
    "            شماره دانشجویی: 99102207\n",
    "            <br/><br/>\n",
    "            طراحان: آیناز رفیعی، علیرضا حبیب‌زاده\n",
    "\t\t\t<br/>\n",
    "موعد تحویل: ۱۴ آذر \n",
    "                <br/>\n",
    "                همفکری در تمامی تمرین‌های درس توصیه می‌شود. در عین حال از شما انتظار می‌رود تمام پیاده‌سازی را به تنهایی و بدون مشاهده کد دیگران انجام دهید.\n",
    "                <br/><br/>\n",
    "                <font color=red>\n",
    "                لطفا در فایل ارسالی تمام بلوک‌های کد اجرا شده و شامل نمودار‌ها و خروجی‌های لازم باشند.\n",
    "     </font>\n",
    "                <br/>\n",
    "        </style>\n",
    "\t</font>\n",
    "</div>"
   ]
  },
  {
   "cell_type": "markdown",
   "id": "27a9159c",
   "metadata": {},
   "source": [
    "<div dir = \"rtl\" style=\"direction:rtl;line-height:300%;\">\n",
    "\t<font face=\"XB Zar\" size=5>\n",
    "\t\t<font color=#FF7500 size=6>\n",
    "          سوال اول\n",
    "        </font>\n",
    "        <div dir = \"rtl\" style=\"direction:rtl;line-height:300%;\">\n",
    "\t<font face=\"XB Zar\" size=5>\n",
    "                <hr/> \n",
    "       تابعی از یک نمونه از یک متغیر تصادفی uniform بین 0 و 1 به نمونه ای از متغیر تصادفی نمایی بیابید. \n",
    "   </font>\n",
    "</div>\n",
    "    </font>\n",
    "</div>"
   ]
  },
  {
   "cell_type": "markdown",
   "id": "c471491c",
   "metadata": {},
   "source": [
    "<div dir = \"rtl\" style=\"direction:rtl;line-height:300%;\">\n",
    "\t<font face=\"XB Zar\" size=5>\n",
    "پاسخ: f(x) = -ln(x)\n",
    "\n",
    "</div>"
   ]
  },
  {
   "cell_type": "markdown",
   "id": "0e08358c",
   "metadata": {},
   "source": [
    "<div dir = \"rtl\" style=\"direction:rtl;line-height:300%;\">\n",
    "\t<font face=\"XB Zar\" size=5>\n",
    "                <hr/> \n",
    "       50000 نمونه از متغیر تصادفی uniform بین 0 و 1 تولید کرده و تابع بالا را روی آن اعمال کنید. پارامتر توزیع نمایی را دلخواه در نظر بگیرید ولی آن را ذکر کنید. نتیجه را بر روی نمودار نمایش دهید. \n",
    "   </font>\n",
    "</div>\n",
    "    </font>\n",
    "</div>"
   ]
  },
  {
   "cell_type": "code",
   "execution_count": 1,
   "id": "787a27b8",
   "metadata": {},
   "outputs": [
    {
     "data": {
      "image/png": "[encoded data removed]",
      "text/plain": [
       "Plot with title \"Histogram of exp\""
      ]
     },
     "metadata": {
      "image/png": {
       "height": 420,
       "width": 420
      }
     },
     "output_type": "display_data"
    }
   ],
   "source": [
    "unif <- runif(50000, 0 , 1)\n",
    "exp <- -log(unif)/0.4342944819  # this is equal to ln(u)\n",
    "h <- hist(exp)"
   ]
  },
  {
   "cell_type": "markdown",
   "id": "3254a295",
   "metadata": {},
   "source": [
    "<div dir = \"rtl\" style=\"direction:rtl;line-height:300%;\">\n",
    "\t<font face=\"XB Zar\" size=5>\n",
    "        <hr/>\n",
    "10000 نمونه از متغیر تصادفی binomial با استفاده از متغیرهای تصادفی از توزیع نمایی که در مرحله‌ی قبل به دست آورده‌اید تولید کرده و بر روی نمودار نمایش دهید.<br/>\n",
    "        پارامترهای توزیع را دلخواه انتخاب کنید ولی آن‌ها را ذکر کنید.\n",
    "    </font>\n",
    "</div>"
   ]
  },
  {
   "cell_type": "code",
   "execution_count": 2,
   "id": "f4553d42",
   "metadata": {},
   "outputs": [
    {
     "data": {
      "image/png": "[encoded data removed]",
      "text/plain": [
       "Plot with title \"Histogram of binomial\""
      ]
     },
     "metadata": {
      "image/png": {
       "height": 420,
       "width": 420
      }
     },
     "output_type": "display_data"
    }
   ],
   "source": [
    "n = 10000\n",
    "pi = 0.4\n",
    "SampleEx <- exp[sample(50000,10000)]\n",
    "binomial <- sapply(SampleEx , function(x) qbinom(pexp(x , rate=1) , n , pi))\n",
    "hist <- hist(binomial)"
   ]
  },
  {
   "cell_type": "markdown",
   "id": "c76c355c",
   "metadata": {},
   "source": [
    "<br>\n",
    "<div dir = \"rtl\" style=\"direction:rtl;line-height:300%;\">\n",
    "\t<font face=\"XB Zar\" size=5>\n",
    "\t\t<font color=#FF7500 size=6>\n",
    "            سوال دوم\n",
    "        </font>\n",
    "        <hr/> \n",
    "        <div dir = \"rtl\" style=\"direction:rtl;line-height:200%;\">\n",
    "            در اتاقی یک بلندگو (فرستنده) قرار دارد که سیگنالی ارسال می‌کند\n",
    "        و همچنین سه میکروفون (گیرنده) در فواصل و جاهای مختلف قرار داده شده‌اند که این سیگنال را دریافت می‌کنند.\n",
    "            اطلاعات سیگنال ارسال شده و دریافتی بر حسب زمان در دیتاست \n",
    "data.csv\n",
    "به شما داده شده است. <br>\n",
    "داده‌ها را در یک دیتافریم لود کنید.\n",
    "</div>\n",
    "    </font>\n",
    "</div>"
   ]
  },
  {
   "cell_type": "code",
   "execution_count": 3,
   "id": "9f655c0d",
   "metadata": {},
   "outputs": [
    {
     "data": {
      "text/html": [
       "<table class=\"dataframe\">\n",
       "<caption>A data.frame: 6 × 6</caption>\n",
       "<thead>\n",
       "\t<tr><th></th><th scope=col>X</th><th scope=col>time</th><th scope=col>send</th><th scope=col>recieve1</th><th scope=col>receive2</th><th scope=col>receive3</th></tr>\n",
       "\t<tr><th></th><th scope=col>&lt;int&gt;</th><th scope=col>&lt;int&gt;</th><th scope=col>&lt;dbl&gt;</th><th scope=col>&lt;dbl&gt;</th><th scope=col>&lt;dbl&gt;</th><th scope=col>&lt;dbl&gt;</th></tr>\n",
       "</thead>\n",
       "<tbody>\n",
       "\t<tr><th scope=row>1</th><td>1</td><td> 0</td><td>50.00000</td><td>47.82258</td><td>47.71930</td><td>50.03958</td></tr>\n",
       "\t<tr><th scope=row>2</th><td>2</td><td> 5</td><td>50.31411</td><td>47.38460</td><td>47.82535</td><td>49.92389</td></tr>\n",
       "\t<tr><th scope=row>3</th><td>3</td><td>10</td><td>50.62791</td><td>47.53287</td><td>47.95819</td><td>49.78453</td></tr>\n",
       "\t<tr><th scope=row>4</th><td>4</td><td>15</td><td>50.94108</td><td>47.74043</td><td>47.77721</td><td>49.87762</td></tr>\n",
       "\t<tr><th scope=row>5</th><td>5</td><td>20</td><td>51.25333</td><td>47.82595</td><td>47.88115</td><td>49.80018</td></tr>\n",
       "\t<tr><th scope=row>6</th><td>6</td><td>25</td><td>51.56434</td><td>47.89652</td><td>48.00486</td><td>49.77694</td></tr>\n",
       "</tbody>\n",
       "</table>\n"
      ],
      "text/latex": [
       "A data.frame: 6 × 6\n",
       "\\begin{tabular}{r|llllll}\n",
       "  & X & time & send & recieve1 & receive2 & receive3\\\\\n",
       "  & <int> & <int> & <dbl> & <dbl> & <dbl> & <dbl>\\\\\n",
       "\\hline\n",
       "\t1 & 1 &  0 & 50.00000 & 47.82258 & 47.71930 & 50.03958\\\\\n",
       "\t2 & 2 &  5 & 50.31411 & 47.38460 & 47.82535 & 49.92389\\\\\n",
       "\t3 & 3 & 10 & 50.62791 & 47.53287 & 47.95819 & 49.78453\\\\\n",
       "\t4 & 4 & 15 & 50.94108 & 47.74043 & 47.77721 & 49.87762\\\\\n",
       "\t5 & 5 & 20 & 51.25333 & 47.82595 & 47.88115 & 49.80018\\\\\n",
       "\t6 & 6 & 25 & 51.56434 & 47.89652 & 48.00486 & 49.77694\\\\\n",
       "\\end{tabular}\n"
      ],
      "text/markdown": [
       "\n",
       "A data.frame: 6 × 6\n",
       "\n",
       "| <!--/--> | X &lt;int&gt; | time &lt;int&gt; | send &lt;dbl&gt; | recieve1 &lt;dbl&gt; | receive2 &lt;dbl&gt; | receive3 &lt;dbl&gt; |\n",
       "|---|---|---|---|---|---|---|\n",
       "| 1 | 1 |  0 | 50.00000 | 47.82258 | 47.71930 | 50.03958 |\n",
       "| 2 | 2 |  5 | 50.31411 | 47.38460 | 47.82535 | 49.92389 |\n",
       "| 3 | 3 | 10 | 50.62791 | 47.53287 | 47.95819 | 49.78453 |\n",
       "| 4 | 4 | 15 | 50.94108 | 47.74043 | 47.77721 | 49.87762 |\n",
       "| 5 | 5 | 20 | 51.25333 | 47.82595 | 47.88115 | 49.80018 |\n",
       "| 6 | 6 | 25 | 51.56434 | 47.89652 | 48.00486 | 49.77694 |\n",
       "\n"
      ],
      "text/plain": [
       "  X time send     recieve1 receive2 receive3\n",
       "1 1  0   50.00000 47.82258 47.71930 50.03958\n",
       "2 2  5   50.31411 47.38460 47.82535 49.92389\n",
       "3 3 10   50.62791 47.53287 47.95819 49.78453\n",
       "4 4 15   50.94108 47.74043 47.77721 49.87762\n",
       "5 5 20   51.25333 47.82595 47.88115 49.80018\n",
       "6 6 25   51.56434 47.89652 48.00486 49.77694"
      ]
     },
     "metadata": {},
     "output_type": "display_data"
    }
   ],
   "source": [
    "data <- read.csv(\"data.csv\")\n",
    "head(data)"
   ]
  },
  {
   "cell_type": "markdown",
   "id": "c9ae1e3c",
   "metadata": {},
   "source": [
    "<div dir = \"rtl\" style=\"direction:rtl;line-height:300%;\">\n",
    "\t<font face=\"XB Zar\" size=5>\n",
    "نمودار اطلاعات فرستنده و سه گیرنده بر حسب زمان را در یک نمودار بکشید.\n",
    "    </font>\n",
    "<div>"
   ]
  },
  {
   "cell_type": "code",
   "execution_count": 5,
   "id": "139e7886",
   "metadata": {
    "scrolled": true
   },
   "outputs": [
    {
     "data": {
      "image/png": "[encoded data removed]",
      "text/plain": [
       "plot without title"
      ]
     },
     "metadata": {
      "image/png": {
       "height": 420,
       "width": 420
      }
     },
     "output_type": "display_data"
    }
   ],
   "source": [
    "library(ggplot2)\n",
    "\n",
    "ggplot(data, aes(x=time)) + \n",
    "    geom_point(aes(x = time, y = send), color = \"red\") + \n",
    "    geom_point(aes(x = time, y = recieve1), color = \"yellow\") + \n",
    "    geom_point(aes(x = time, y = receive2), color = \"blue\") + \n",
    "    geom_point(aes(x = time, y = receive3), color = \"green\")"
   ]
  },
  {
   "cell_type": "markdown",
   "id": "1f6d01c7",
   "metadata": {},
   "source": [
    "<div dir = \"rtl\" style=\"direction:rtl;line-height:250%;\">\n",
    "\t<font face=\"XB Zar\" size=5>\n",
    "                <hr/>\n",
    "داده‌های اندازه‌گیری شده به دلیل تفاوت و فاصله‌ی گیرنده‌ها و عوامل محیطی ممکن است دچار تغییراتی شده باشند.\n",
    "به همین منظور لازم است تا داده‌ها را نرمالایز کنیم.\n",
    "یعنی تبدیل خطی‌ای روی آن‌ها اعمال کنیم که توزیع نهایی دارای امید ریاضی صفر و انحراف معیار واحد باشد.\n",
    "$$x' = \\frac{x - \\bar{x}}{\\sigma_x}$$\n",
    "داده‌های نرمالایز شده‌ی فرستنده و سه گیرنده را به دیتافریم اضافه کنید.\n",
    "از این به بعد تنها با داده‌های نرمالایز شده کار خواهیم کرد.\n",
    "    </font>\n",
    "</div>"
   ]
  },
  {
   "cell_type": "code",
   "execution_count": 8,
   "id": "ad205a0f",
   "metadata": {},
   "outputs": [],
   "source": [
    "data$NSend <- (data$send - mean(data$send)) / sd(data$send)\n",
    "data$NRec1 <- (data$recieve1 - mean(data$recieve1)) / sd(data$recieve1)\n",
    "data$NRec2 <- (data$receive2 - mean(data$receive2)) / sd(data$receive2)\n",
    "data$NRec3 <- (data$receive3 - mean(data$receive3)) / sd(data$receive3)"
   ]
  },
  {
   "cell_type": "markdown",
   "id": "43c8427e",
   "metadata": {},
   "source": [
    "<div dir = \"rtl\" style=\"direction:rtl;line-height:250%;\">\n",
    "\t<font face=\"XB Zar\" size=5>\n",
    "برای اطمینان میانگین و واریانس داده‌های نرمالایز شده را حساب کنید.\n",
    "<br>\n",
    "آیا نتیجه با آنچه انتظار دارید یکسان است؟\n",
    "    </font>\n",
    "</div>"
   ]
  },
  {
   "cell_type": "code",
   "execution_count": 9,
   "id": "bd3dae06",
   "metadata": {},
   "outputs": [
    {
     "data": {
      "text/html": [
       "1"
      ],
      "text/latex": [
       "1"
      ],
      "text/markdown": [
       "1"
      ],
      "text/plain": [
       "[1] 1"
      ]
     },
     "metadata": {},
     "output_type": "display_data"
    },
    {
     "data": {
      "text/html": [
       "1"
      ],
      "text/latex": [
       "1"
      ],
      "text/markdown": [
       "1"
      ],
      "text/plain": [
       "[1] 1"
      ]
     },
     "metadata": {},
     "output_type": "display_data"
    },
    {
     "data": {
      "text/html": [
       "1"
      ],
      "text/latex": [
       "1"
      ],
      "text/markdown": [
       "1"
      ],
      "text/plain": [
       "[1] 1"
      ]
     },
     "metadata": {},
     "output_type": "display_data"
    },
    {
     "data": {
      "text/html": [
       "1"
      ],
      "text/latex": [
       "1"
      ],
      "text/markdown": [
       "1"
      ],
      "text/plain": [
       "[1] 1"
      ]
     },
     "metadata": {},
     "output_type": "display_data"
    },
    {
     "data": {
      "text/html": [
       "-1.01522040681596e-19"
      ],
      "text/latex": [
       "-1.01522040681596e-19"
      ],
      "text/markdown": [
       "-1.01522040681596e-19"
      ],
      "text/plain": [
       "[1] -1.01522e-19"
      ]
     },
     "metadata": {},
     "output_type": "display_data"
    },
    {
     "data": {
      "text/html": [
       "-7.87934600929913e-16"
      ],
      "text/latex": [
       "-7.87934600929913e-16"
      ],
      "text/markdown": [
       "-7.87934600929913e-16"
      ],
      "text/plain": [
       "[1] -7.879346e-16"
      ]
     },
     "metadata": {},
     "output_type": "display_data"
    },
    {
     "data": {
      "text/html": [
       "6.64362320352619e-16"
      ],
      "text/latex": [
       "6.64362320352619e-16"
      ],
      "text/markdown": [
       "6.64362320352619e-16"
      ],
      "text/plain": [
       "[1] 6.643623e-16"
      ]
     },
     "metadata": {},
     "output_type": "display_data"
    },
    {
     "data": {
      "text/html": [
       "2.54277665138419e-15"
      ],
      "text/latex": [
       "2.54277665138419e-15"
      ],
      "text/markdown": [
       "2.54277665138419e-15"
      ],
      "text/plain": [
       "[1] 2.542777e-15"
      ]
     },
     "metadata": {},
     "output_type": "display_data"
    }
   ],
   "source": [
    "var(data$NSend)\n",
    "var(data$NRec1)\n",
    "var(data$NRec2)\n",
    "var(data$NRec3)\n",
    "\n",
    "mean(data$NSend)\n",
    "mean(data$NRec1) \n",
    "mean(data$NRec2)\n",
    "mean(data$NRec3)"
   ]
  },
  {
   "cell_type": "raw",
   "id": "cc0d514c",
   "metadata": {},
   "source": [
    "چون تقریب داریم در محاسبات اعشایمون، میانگین دقیقا صفر نشد ولی به صفر خیلی نزدیکه\n",
    "واریانس و انحراف معیار هم برابر با ۱ هستن"
   ]
  },
  {
   "cell_type": "markdown",
   "id": "50b3ee5d",
   "metadata": {},
   "source": [
    "<div dir = \"rtl\" style=\"direction:rtl;line-height:250%;\">\n",
    "\t<font face=\"XB Zar\" size=5>\n",
    "داده‌های نرمالایز شده‌ی گیرنده‌ها و فرستنده بر حسب زمان را در یک نمودار نشان دهید.\n",
    "</font>\n",
    "</div>"
   ]
  },
  {
   "cell_type": "code",
   "execution_count": 14,
   "id": "594fd90c",
   "metadata": {},
   "outputs": [
    {
     "data": {
      "image/png": "[encoded data removed]",
      "text/plain": [
       "plot without title"
      ]
     },
     "metadata": {
      "image/png": {
       "height": 420,
       "width": 420
      }
     },
     "output_type": "display_data"
    }
   ],
   "source": [
    "library(ggplot2)\n",
    "ggplot(data) + \n",
    "  geom_point(mapping = aes(x = time, y =NSend, color = \"red\")) +\n",
    "  geom_point(mapping = aes(x = time, y = NRec1, color = \"yellow\")) +\n",
    "  geom_point(mapping = aes(x = time, y = NRec2, color = \"green\")) + \n",
    "  geom_point(mapping = aes(x = time, y = NRec3, color = \"blue\"))"
   ]
  },
  {
   "cell_type": "markdown",
   "id": "61e9e4a9",
   "metadata": {},
   "source": [
    "<div dir = \"rtl\" style=\"direction:rtl;line-height:250%;\">\n",
    "\t<font face=\"XB Zar\" size=5>\n",
    "توزیع توام داده‌های نرمالایز شده‌ی سه گیرنده با فرستنده را در نمودار یا نمودارهای مناسبی نمایش دهید.\n",
    "<br>\n",
    "<font size=3>\n",
    "(راهنمایی: جواب‌ها همگی نوعی بیضی هستند)\n",
    "</font>\n",
    "<br>\n",
    "توزیع حاشیه‌ای هر کدام از متغیرهای نرمالایز شده‌ی\n",
    "send, \n",
    "receive1, \n",
    "receive2, \n",
    "receive3\n",
    "را به صورت جداگانه یا روی همان توزیع توام نمایش دهید.\n",
    "<br>\n",
    "برای این کار می‌توانید از \n",
    "ggMarginal\n",
    "از کتابخانه‌ی\n",
    "ggExtra\n",
    "استفاده کنید. (یا نکنید)\n",
    "    </font>\n",
    "</div>"
   ]
  },
  {
   "cell_type": "code",
   "execution_count": 23,
   "id": "1f0d92ff",
   "metadata": {},
   "outputs": [
    {
     "data": {
      "image/png": "[encoded data removed]",
      "text/plain": [
       "plot without title"
      ]
     },
     "metadata": {
      "image/png": {
       "height": 420,
       "width": 420
      }
     },
     "output_type": "display_data"
    }
   ],
   "source": [
    "library(ggExtra)\n",
    "library(gridExtra)\n",
    "\n",
    "p1 <- ggplot(data, aes(x=NSend, y=NRec1)) + geom_point(col = \"red\")\n",
    "p1 <- ggMarginal(p1)\n",
    "\n",
    "p2 <- ggplot(data, aes(NSend, NRec2)) + geom_point(col = \"yellow\")\n",
    "p2 <- ggMarginal(p2)\n",
    "\n",
    "p3 <- ggplot(data, aes(NSend, NRec3)) + geom_point(col = \"blue\")\n",
    "p3 <- ggMarginal(p3)\n",
    "\n",
    "grid.arrange(p1 , p2 , p3 , ncol = 1, nrow = 3)"
   ]
  },
  {
   "cell_type": "markdown",
   "id": "b470140b",
   "metadata": {},
   "source": [
    "<div dir = \"rtl\" style=\"direction:rtl;line-height:250%;\">\n",
    "\t<font face=\"XB Zar\" size=5>\n",
    "        کوواریانس اطلاعات نرمالایز شده‌ی گیرنده‌ها با فرستنده را حساب کنید. (سه مقدار) \n",
    "<br>\n",
    "        مقادیر به دست‌آمده را با توزیع‌های توام که در قسمت قبل کشیدید مقایسه کنید.\n",
    "        <br>\n",
    "        (به کوواریانس بین توزیع‌های نرمالایز شده کوریلیشن نیز می‌گویند که مقداری بین منفی یک و یک است.)\n",
    "</font>\n",
    "</div>"
   ]
  },
  {
   "cell_type": "code",
   "execution_count": 37,
   "id": "8f1b2fc8",
   "metadata": {
    "scrolled": true
   },
   "outputs": [
    {
     "name": "stdout",
     "output_type": "stream",
     "text": [
      "NRec1, NSend: 0.8628303\n",
      "NRec2, NSend: -0.00724553\n",
      "NRec3, NSend: -0.9967574"
     ]
    }
   ],
   "source": [
    "cat(\"NRec1, NSend:\", cov(data$NRec1, data$NSend))\n",
    "cat(\"\\nNRec2, NSend:\", cov(data$NRec2, data$NSend))\n",
    "cat(\"\\nNRec3, NSend:\", cov(data$NRec3, data$NSend))"
   ]
  },
  {
   "cell_type": "markdown",
   "id": "b96651a3",
   "metadata": {},
   "source": [
    "<div dir = \"rtl\" style=\"direction:rtl;line-height:250%;\">\n",
    "\t<font face=\"XB Zar\" size=3>\n",
    "        <br>\n",
    "        برای گیرنده‌ی اول، مقداری مثبت داریم و نزدیک به ۱، برای گیرنده‌ی دوم مقداری بسیار نزدیک به ۰ و برای گیرنده‌ی سوم مقداری منفی \n",
    "        <br>\n",
    "    </font>\n",
    "</div>"
   ]
  },
  {
   "cell_type": "markdown",
   "id": "be349f2f",
   "metadata": {},
   "source": [
    "<div dir = \"rtl\" style=\"direction:rtl;line-height:250%;\">\n",
    "\t<font face=\"XB Zar\" size=5>\n",
    "        <font size=6>\n",
    "    امتیازی\n",
    "</font>\n",
    "<br>\n",
    "همان‌طور که احتمالا حدس زدید گیرنده‌ها علاوه بر آن که اطلاعات را با مقداری نویز و تضعیف شده دریافت می‌کنند آن را با تاخیر هم می‌بینند.\n",
    "یعنی نمودار داده‌های گیرنده‌ها در مقایسه با داده‌های فرستنده شیفت خورده است.\n",
    "به دلیل نویزی که در اطلاعات وجود دارد هیچوقت نقاط با شیفت دادن دقیقا روی هم قرار نمی‌گیرند.\n",
    "یک روش خوب برای پیدا کردن تاخیر بین این دو موج شیفت دادن یک موج و محاسبه‌ی کوواریانس بین این دو است تا جایی که این کوواریانس بیشینه شود.\n",
    "<br>\n",
    "(اگر نویزی وجود نداشت این مقدار برای داده‌های نرمالایز شده‌ی یک می‌بود چرا که کوواریانس یک متغیر نرمالایز شده با خودش یک است )\n",
    "<br><br>\n",
    "داده‌های گیرنده‌ی اول را به ازای جابه‌جایی‌های مضرب 50 از صفر تا 1000 میکروثانیه (نصف کل بازه‌ی زمانی) به سمت چپ شیفت دهید. سپس داده‌های 1000 میکروثانیه ابتدایی از فرستنده و گیرنده باقی می‌ماند را جدا کنید و کوواریانس این دو را محاسبه کنید.\n",
    "حال نمودار کوواریانس بر حسب شیفت را رسم کنید.\n",
    "<br><br>\n",
    "(راهنمایی:\n",
    "همیشه باید 200\n",
    "داده از میان ستون receive1 نرمالایز شده بردارید\n",
    "و کوواریانس آن را با 200 داده‌ی ابتدایی\n",
    "send نرمالایز شده حساب کنید.)\n",
    "</font>\n",
    "</div>\n",
    "\n",
    "<img src=\"pic1.png\" width=500/>"
   ]
  },
  {
   "cell_type": "code",
   "execution_count": 40,
   "id": "f5c13c7b",
   "metadata": {},
   "outputs": [
    {
     "data": {
      "image/png": "[encoded data removed]",
      "text/plain": [
       "plot without title"
      ]
     },
     "metadata": {
      "image/png": {
       "height": 420,
       "width": 420
      }
     },
     "output_type": "display_data"
    }
   ],
   "source": [
    "shift <- c()\n",
    "covar <- c()\n",
    "for (i in 1:20){\n",
    "    start = 10 * (i - 1) + 1\n",
    "    covariance = cov(data$NSend[1:200], data$NRec1[start:(start + 199)])\n",
    "    covar <- append(covar, covariance)\n",
    "    shift <- append(shift, data$time[start])\n",
    "}\n",
    "\n",
    "df <- data.frame(shift, covar)\n",
    "\n",
    "ggplot(df, aes(x=shift, y=covar)) + geom_point()"
   ]
  },
  {
   "cell_type": "markdown",
   "id": "b18c7696",
   "metadata": {},
   "source": [
    "<div dir = \"rtl\" style=\"direction:rtl;line-height:250%;\">\n",
    "\t<font face=\"XB Zar\" size=5>\n",
    "شیفتی که در آن بیشترین کوواریانس بین داد‌های گیرنده‌ی شیفت خورده و فرستنده ایجاد می‌شود و کوواریانس بیشینه را پیدا کنید.\n",
    "    </font>\n",
    "</div>"
   ]
  },
  {
   "cell_type": "code",
   "execution_count": 62,
   "id": "279cb967",
   "metadata": {},
   "outputs": [
    {
     "data": {
      "text/html": [
       "0.995819555436507"
      ],
      "text/latex": [
       "0.995819555436507"
      ],
      "text/markdown": [
       "0.995819555436507"
      ],
      "text/plain": [
       "[1] 0.9958196"
      ]
     },
     "metadata": {},
     "output_type": "display_data"
    },
    {
     "data": {
      "text/html": [
       "100"
      ],
      "text/latex": [
       "100"
      ],
      "text/markdown": [
       "100"
      ],
      "text/plain": [
       "[1] 100"
      ]
     },
     "metadata": {},
     "output_type": "display_data"
    }
   ],
   "source": [
    "row_num_of_max <- which.max(df$covar)\n",
    "max(covar)\n",
    "df$shift[row_num_of_max]"
   ]
  },
  {
   "cell_type": "markdown",
   "id": "d3aed86a",
   "metadata": {},
   "source": [
    "<div dir = \"rtl\" style=\"direction:rtl;line-height:250%;\">\n",
    "\t<font face=\"XB Zar\" size=5>\n",
    "توزیع توام 1000 میکروثانیه اول گیرنده‌ی شیفت خورده با فرستنده را رسم کنید.\n",
    "</font>\n",
    "</div>"
   ]
  },
  {
   "cell_type": "code",
   "execution_count": 71,
   "id": "dbab1888",
   "metadata": {},
   "outputs": [
    {
     "data": {
      "image/png": "[encoded data removed]",
      "text/plain": [
       "plot without title"
      ]
     },
     "metadata": {
      "image/png": {
       "height": 420,
       "width": 420
      }
     },
     "output_type": "display_data"
    }
   ],
   "source": [
    "shift_rows <- ((row_num_of_max - 1) * 10)\n",
    "plot(data$NSend[1:1000], data$NRec1[(1 + shift_rows):(1000 + shift_rows)])"
   ]
  }
 ],
 "metadata": {
  "kernelspec": {
   "display_name": "R",
   "language": "R",
   "name": "ir"
  },
  "language_info": {
   "codemirror_mode": "r",
   "file_extension": ".r",
   "mimetype": "text/x-r-source",
   "name": "R",
   "pygments_lexer": "r",
   "version": "4.2.0"
  }
 },
 "nbformat": 4,
 "nbformat_minor": 5
}
