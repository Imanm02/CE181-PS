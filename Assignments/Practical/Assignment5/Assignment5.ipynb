{
 "cells": [
  {
   "cell_type": "markdown",
   "id": "f8277bfb",
   "metadata": {},
   "source": [
    "<div style=\"direction:;line-height:300%;\">\n",
    "\t<font size=6>\n",
    "\t\t<div align=center>\n",
    "\t\t\t\t<p></p>\n",
    "\t\t\t\t<p></p>\n",
    "            <font size=7>\n",
    "                    In the Name of God\n",
    "\t\t\t\t<p></p>\n",
    "\t\t\t</font>\n",
    "            <br/>\n",
    "            <br/>\n",
    "\t\t\t<font color=#FF7500>\n",
    "                Sharif University of Technology\n",
    "            <p></p>\n",
    "            Department of Computer Engineering\n",
    "            </font>\n",
    "\t\t\t<p></p>\n",
    "\t\t\t<font color=blue size=5>\n",
    "                Engineering Probabilistics\n",
    "            </font>\n",
    "\t\t\t<br />\n",
    "\t\t\t<br />\n",
    "            <font size=5>\n",
    "                Winter 1401\n",
    "            </font>\n",
    "            </div>\n",
    "\t\t<hr/>\n",
    "        <div align=center>\n",
    "            <font color=red size=6>\n",
    "                EDA (Exploratory Data Analysis)\n",
    "            </font>\n",
    "        </div>\n",
    "\t\t<br />\n",
    "\t\t<div align=center>\n",
    "            <font size=5>\n",
    "                Ali Mehrabani, Sina Imani\n",
    "            </font>\n",
    "        </div>\n",
    "\t</font>\n",
    "    <br/>\n",
    "    <div align=center>\n",
    "            <font size=5>\n",
    "                Iman Mohammadi, 99102207\n",
    "            </font>\n",
    "        </div>\n",
    "    <br/>\n",
    "</div>"
   ]
  },
  {
   "cell_type": "markdown",
   "id": "5fb89c39",
   "metadata": {},
   "source": [
    "***“You see, but you do not observe. The distinction is clear.” - Sherlock Holmes***\n",
    "\n",
    "<div style=\"text-align: right\">\n",
    "    <br> <br>\n",
    "    Sir Arthur Conan Doyle 1859-1930\n",
    "    <br>\n",
    "    from <i>The Scandal of Bohemia</i>\n",
    "</div>\n",
    "\n",
    "\n",
    "# Introduction\n",
    "\n",
    "Imagine that you have gone to the doctor's because you feel ill.\n",
    "The doctor is equipped with lots of theoretical knowledge about different kinds of illness. She/He also has access to a wide variety of powerful medical tools invented to help ill people, like chemical solutions and tablets. But before using these tools, it is necessary to perform a **diagnosis** step first. \n",
    "\n",
    "Similar statements are true when talking about statistical inference. Over the years, many powerful probabilistic techniques have been developed to help gain useful information from data. For example:\n",
    "\n",
    "**Hypothesis testing** provides a systematic process in which one can check if there is a 'meaningful' distinction between two groups of observations, each having a certain property. You can, for example, test if male employees are paid higher amounts on average than female employees in a country, using a relatively small sample of male and female employees.\n",
    "\n",
    "**Linear Regression** methods are designed to find linear relations between *variables*, which are properties of collected datapoints. Using these methods, you can build a *model* that takes the collected data and estimates the desired property of a new data point. Estimating the price of a car given its technical features could be one usual application of such methods.\n",
    "\n",
    "The list continues even more. But the important point to keep in mind here is that none of these *automated* techniques can give you a deep and complete understanding of the data on their own. In fact, some prior insight into data is *required* to be able to use such systematic procedures appropriately. As the doctor needs diagnosis to select the appropriate medical care - say, a drug - and select the appropriate way of using it - say, its dose - we need to examine our data before using *automated* techniques.\n",
    "\n",
    "This is when 'Exploratory Data Analysis' comes in. Loosely speaking, EDA is the process of 'diagnosing' the dataset. You first try to gain some insight into data before further analyses. This can be useful in many ways. \n",
    "- Unexpected discoveries about data, which can lead to further studies\n",
    "- Suggesting appropriate hypotheses to test\n",
    "- Support the selection of appropriate statistical tools and techniques\n",
    "- Being more familiar with data and so getting able to analyze it both intuitively and systematically\n",
    "\n",
    "## So, How to Perform EDA?\n",
    "As mentioned before, EDA is the process of 'diagnosing' and getting insight into data. So it is more than anything, a state of mind and does not have any strict 'set of rules'. Although there are guidelines about which EDA techniques are useful in what circumstances, there is an important degree of looseness and art to EDA. Competence and confidence come with practice, experience, and close observation of others. Also, EDA need not be restricted to techniques you have seen before; **sometimes you need to invent a new way of looking at your data**.\n",
    "\n",
    "Having this said, there are some 'conventions' in EDA:\n",
    "- Take visualization seriously! People are not very good at looking at a column of numbers or a whole spreadsheet and then determining important characteristics of the data. They find looking at numbers to be tedious, boring, and/or overwhelming. Exploratory data analysis techniques have been devised as an aid in this situation. \n",
    "- Be eagle-eyed! Pay attention to what you are seeing. Does the data meet your expectations? Are there any anomalies? What are the most common values of variables, and why? During EDA you should be careful and ask intelligent questions about data.  You:\n",
    "\t1. Generate questions about your data.\n",
    "\t2. Search for answers by visualizing, transforming, and modeling your data.\n",
    "\t3. Use what you learn to refine your questions and/or generate new questions\n",
    "- Tip: EDA usually starts with considering the distribution of variables, and correlations between them. Paying attention to the form of distributions is important. \n",
    "\n",
    "Remember, no technology can replace that precise, rational thinking of humans that reveals the hidden aspects of mysterious problems! To be a data scientist is similar to being a detective. They both pay attention to the smallest details, put the clues in order, and try to see the underlying reasons for each property. \n",
    "\n",
    "\n",
    "## An Example\n",
    "Findings from EDA are orthogonal to the primary analysis task. To illustrate, consider an example from Cook et al. where the analysis task is to find the variables which best predict the tip that a dining party will give to the waiter. [Here is the original source of this example.](https://en.wikipedia.org/wiki/Exploratory_data_analysis#cite_note-12) The variables available in the data collected for this task are: the tip amount, total bill, payer gender, smoking/non-smoking section, time of day, day of the week, and size of the party. The primary analysis task is approached by fitting a regression model where the tip rate is the response variable. The fitted model is\n",
    "\n",
    "(tip rate) = 0.18 - 0.01 × (party size)\n",
    "which says that as the size of the dining party increases by one person (leading to a higher bill), the tip rate will decrease by 1%, on average.\n",
    "\n",
    "However, exploring the data reveals other interesting features not described by this model.\n",
    "\n",
    "\n",
    "<center>\n",
    "    <img src=\"pics/hist1.png\" width=\"500\">\n",
    "</center>\n",
    "\n",
    "Histogram of tip amounts where the bins cover $1 increments. The distribution of values is skewed right and uni-modal (= having one mode), as is common in distributions of small, non-negative quantities.\n",
    "\n",
    "<center>\n",
    "    <br/>\n",
    "    <br/>\n",
    "    <br/>\n",
    "    <br/>\n",
    "    <br/>\n",
    "    <img src=\"pics/hist2.png\" width=\"500\">\n",
    "</center>\n",
    "\n",
    "Histogram of tip amounts where the bins cover $0.10 increments. An interesting phenomenon is visible: peaks occur at the whole-dollar and half-dollar amounts, which is caused by customers picking round numbers as tips. This behavior is common to other types of purchases too, like gasoline.\n",
    "\n",
    "\n",
    "<center>\n",
    "    <br/>\n",
    "    <br/>\n",
    "    <br/>\n",
    "    <br/>\n",
    "    <br/>\n",
    "    <img src=\"pics/scat1.png\" width=\"500\">\n",
    "</center>\n",
    "\n",
    "Scatterplot of tips vs. bill. Points below the line correspond to tips that are lower than expected (for that bill amount), and points above the line are higher than expected. We might expect to see a tight, positive linear association, but instead, see a variation that increases with tip amount. In particular, there are more points far away from the line in the lower right than in the upper left, indicating that more customers are very cheap than very generous.\n",
    "\n",
    "<center>\n",
    "    <br/>\n",
    "    <br/>\n",
    "    <br/>\n",
    "    <br/>\n",
    "    <br/>\n",
    "    <img src=\"pics/scat2.png\" width=\"500\">\n",
    "</center>\n",
    "\n",
    "Scatterplot of tips vs. bill separated by payer gender and smoking section status. Smoking parties have a lot more variability in the tips that they give. Males tend to pay the (few) higher bills, and the female non-smokers tend to be very consistent tippers (with three conspicuous exceptions shown in the sample).\n",
    "\n",
    "**What is learned from the plots is different from what is illustrated by the regression model, even though the experiment was not designed to investigate any of these other trends. The patterns found by exploring the data suggest hypotheses about tipping that may not have been anticipated in advance, and which could lead to interesting follow-up experiments where the hypotheses are formally stated and tested by collecting new data.**\n",
    "\n",
    "## Let's Start!\n",
    "\n",
    "Now that you have been introduced to the concept of EDA, it's time for trying it in practice. In this assignment, two questions have been designed. In the first one, we want to practice the skills needed for a good EDA. For doing so, we complete an EDA process step by step. This is like performing pre-defined tasks instead of doing free research - which is less appealing but is more beneficial at the start. We use the 'penguins.csv' dataset in this question, which is a very appropriate one for practicing EDA. This dataset contains information about more than 300 penguins that live in the Palmer Archipelago, located northeast of Antarctica. This information is real and potentially contains lots of knowledge about these penguins. \n",
    "\n",
    "In the second question, you pick a favorite dataset and do EDA on it, without limitations!\n",
    "\n",
    "When doing this exercise, you may find some questions a bit ambiguous or vague. You may not also be confident about the correctness of your answers. Don't panic! There is no 'right answer' in this exercise. The important thing to us is your analyzing abilities and your advancements in *diagnosing* the data. For example, when we require you to predict the correlation between two random variables, we are **, not** interested to check if your prediction was correct or not. Rather, we are really interested to check if you've performed meaningful reasoning and analysis after seeing that your prediction was correct - or incorrect.\n",
    "\n",
    "It is highly recommended to use some appropriate environment - like RStudio - to write your code and consider your plots, rather than the browser you're reading this text on. \n",
    "\n",
    "## Copyright Notice\n",
    "\n",
    "**Palmer Archipelago (Antarctica) penguin data Citation:**\n",
    "\n",
    "Gorman KB, Williams TD, Fraser WR (2014) Ecological Sexual Dimorphism and Environmental Variability within a Community of Antarctic Penguins (Genus Pygoscelis). PLoS ONE 9(3): e90081. doi:10.1371/journal.pone.0090081\n",
    "\n",
    "## References and Further Reading\n",
    "These contents have been used in order to write this article:\n",
    "\n",
    "- https://en.wikipedia.org/wiki/Exploratory_data_analysis (mainly for the example EDA). The example is originally introduced in Cook, D. and Swayne, D.F. (with A. Buja, D. Temple Lang, H. Hofmann, H. Wickham, M. Lawrence) (2007) ″Interactive and Dynamic Graphics for Data Analysis: With R and GGobi″ Springer, 978-0387717616\n",
    "- Experimental Design and Analysis - By Prof. Howard J. Seltman, Carnegie Mellon University (mainly for describing EDA). The whole book is available at https://www.stat.cmu.edu/~hseltman/309/Book/Book.pdf. Chapter 4 is related to EDA: https://www.stat.cmu.edu/~hseltman/309/Book/chapter4.pdf\n",
    "- https://www.bbc.com/future/article/20160107-what-sherlock-holmes-tells-us-about-the-mind (mainly for emphasizing on the importance of paying attention to clues)\n",
    "- https://r4ds.had.co.nz/exploratory-data-analysis.html#exploratory-data-analysis (mainly for describing EDA). It is an excellent source for further reading."
   ]
  },
  {
   "cell_type": "markdown",
   "id": "e68260a3",
   "metadata": {},
   "source": [
    "<font color=#FF7500 size=5>\n",
    "    Question 1 - Palmer Penguins\n",
    "</font>\n",
    "\n",
    "In this question we have access to the following information of more than 300 penguins: specie, island, bill length, bill depth, flipper length, body mass and sex. Bill length and depth are measured as below.\n",
    "\n",
    "<center>\n",
    "    <img src=\"pics/bill_size_clarification.png\" width=\"500\">\n",
    "</center>"
   ]
  },
  {
   "cell_type": "markdown",
   "id": "5e055b28",
   "metadata": {},
   "source": [
    "# Getting Familiar with Data / Non-graphical EDA\n",
    "\n",
    "For start, we load the attached .csv file as a dataframe:"
   ]
  },
  {
   "cell_type": "code",
   "execution_count": 2,
   "id": "a0f50b10",
   "metadata": {},
   "outputs": [
    {
     "data": {
      "text/html": [
       "<table class=\"dataframe\">\n",
       "<caption>A data.frame: 344 × 7</caption>\n",
       "<thead>\n",
       "\t<tr><th scope=col>species</th><th scope=col>island</th><th scope=col>bill_length_mm</th><th scope=col>bill_depth_mm</th><th scope=col>flipper_length_mm</th><th scope=col>body_mass_g</th><th scope=col>sex</th></tr>\n",
       "\t<tr><th scope=col>&lt;chr&gt;</th><th scope=col>&lt;chr&gt;</th><th scope=col>&lt;dbl&gt;</th><th scope=col>&lt;dbl&gt;</th><th scope=col>&lt;int&gt;</th><th scope=col>&lt;int&gt;</th><th scope=col>&lt;chr&gt;</th></tr>\n",
       "</thead>\n",
       "<tbody>\n",
       "\t<tr><td>Adelie</td><td>Torgersen</td><td>39.1</td><td>18.7</td><td>181</td><td>3750</td><td>MALE  </td></tr>\n",
       "\t<tr><td>Adelie</td><td>Torgersen</td><td>39.5</td><td>17.4</td><td>186</td><td>3800</td><td>FEMALE</td></tr>\n",
       "\t<tr><td>Adelie</td><td>Torgersen</td><td>40.3</td><td>18.0</td><td>195</td><td>3250</td><td>FEMALE</td></tr>\n",
       "\t<tr><td>Adelie</td><td>Torgersen</td><td>  NA</td><td>  NA</td><td> NA</td><td>  NA</td><td>NA    </td></tr>\n",
       "\t<tr><td>Adelie</td><td>Torgersen</td><td>36.7</td><td>19.3</td><td>193</td><td>3450</td><td>FEMALE</td></tr>\n",
       "\t<tr><td>Adelie</td><td>Torgersen</td><td>39.3</td><td>20.6</td><td>190</td><td>3650</td><td>MALE  </td></tr>\n",
       "\t<tr><td>Adelie</td><td>Torgersen</td><td>38.9</td><td>17.8</td><td>181</td><td>3625</td><td>FEMALE</td></tr>\n",
       "\t<tr><td>Adelie</td><td>Torgersen</td><td>39.2</td><td>19.6</td><td>195</td><td>4675</td><td>MALE  </td></tr>\n",
       "\t<tr><td>Adelie</td><td>Torgersen</td><td>34.1</td><td>18.1</td><td>193</td><td>3475</td><td>NA    </td></tr>\n",
       "\t<tr><td>Adelie</td><td>Torgersen</td><td>42.0</td><td>20.2</td><td>190</td><td>4250</td><td>NA    </td></tr>\n",
       "\t<tr><td>Adelie</td><td>Torgersen</td><td>37.8</td><td>17.1</td><td>186</td><td>3300</td><td>NA    </td></tr>\n",
       "\t<tr><td>Adelie</td><td>Torgersen</td><td>37.8</td><td>17.3</td><td>180</td><td>3700</td><td>NA    </td></tr>\n",
       "\t<tr><td>Adelie</td><td>Torgersen</td><td>41.1</td><td>17.6</td><td>182</td><td>3200</td><td>FEMALE</td></tr>\n",
       "\t<tr><td>Adelie</td><td>Torgersen</td><td>38.6</td><td>21.2</td><td>191</td><td>3800</td><td>MALE  </td></tr>\n",
       "\t<tr><td>Adelie</td><td>Torgersen</td><td>34.6</td><td>21.1</td><td>198</td><td>4400</td><td>MALE  </td></tr>\n",
       "\t<tr><td>Adelie</td><td>Torgersen</td><td>36.6</td><td>17.8</td><td>185</td><td>3700</td><td>FEMALE</td></tr>\n",
       "\t<tr><td>Adelie</td><td>Torgersen</td><td>38.7</td><td>19.0</td><td>195</td><td>3450</td><td>FEMALE</td></tr>\n",
       "\t<tr><td>Adelie</td><td>Torgersen</td><td>42.5</td><td>20.7</td><td>197</td><td>4500</td><td>MALE  </td></tr>\n",
       "\t<tr><td>Adelie</td><td>Torgersen</td><td>34.4</td><td>18.4</td><td>184</td><td>3325</td><td>FEMALE</td></tr>\n",
       "\t<tr><td>Adelie</td><td>Torgersen</td><td>46.0</td><td>21.5</td><td>194</td><td>4200</td><td>MALE  </td></tr>\n",
       "\t<tr><td>Adelie</td><td>Biscoe   </td><td>37.8</td><td>18.3</td><td>174</td><td>3400</td><td>FEMALE</td></tr>\n",
       "\t<tr><td>Adelie</td><td>Biscoe   </td><td>37.7</td><td>18.7</td><td>180</td><td>3600</td><td>MALE  </td></tr>\n",
       "\t<tr><td>Adelie</td><td>Biscoe   </td><td>35.9</td><td>19.2</td><td>189</td><td>3800</td><td>FEMALE</td></tr>\n",
       "\t<tr><td>Adelie</td><td>Biscoe   </td><td>38.2</td><td>18.1</td><td>185</td><td>3950</td><td>MALE  </td></tr>\n",
       "\t<tr><td>Adelie</td><td>Biscoe   </td><td>38.8</td><td>17.2</td><td>180</td><td>3800</td><td>MALE  </td></tr>\n",
       "\t<tr><td>Adelie</td><td>Biscoe   </td><td>35.3</td><td>18.9</td><td>187</td><td>3800</td><td>FEMALE</td></tr>\n",
       "\t<tr><td>Adelie</td><td>Biscoe   </td><td>40.6</td><td>18.6</td><td>183</td><td>3550</td><td>MALE  </td></tr>\n",
       "\t<tr><td>Adelie</td><td>Biscoe   </td><td>40.5</td><td>17.9</td><td>187</td><td>3200</td><td>FEMALE</td></tr>\n",
       "\t<tr><td>Adelie</td><td>Biscoe   </td><td>37.9</td><td>18.6</td><td>172</td><td>3150</td><td>FEMALE</td></tr>\n",
       "\t<tr><td>Adelie</td><td>Biscoe   </td><td>40.5</td><td>18.9</td><td>180</td><td>3950</td><td>MALE  </td></tr>\n",
       "\t<tr><td>⋮</td><td>⋮</td><td>⋮</td><td>⋮</td><td>⋮</td><td>⋮</td><td>⋮</td></tr>\n",
       "\t<tr><td>Gentoo</td><td>Biscoe</td><td>44.5</td><td>14.7</td><td>214</td><td>4850</td><td>FEMALE</td></tr>\n",
       "\t<tr><td>Gentoo</td><td>Biscoe</td><td>50.8</td><td>15.7</td><td>226</td><td>5200</td><td>MALE  </td></tr>\n",
       "\t<tr><td>Gentoo</td><td>Biscoe</td><td>49.4</td><td>15.8</td><td>216</td><td>4925</td><td>MALE  </td></tr>\n",
       "\t<tr><td>Gentoo</td><td>Biscoe</td><td>46.9</td><td>14.6</td><td>222</td><td>4875</td><td>FEMALE</td></tr>\n",
       "\t<tr><td>Gentoo</td><td>Biscoe</td><td>48.4</td><td>14.4</td><td>203</td><td>4625</td><td>FEMALE</td></tr>\n",
       "\t<tr><td>Gentoo</td><td>Biscoe</td><td>51.1</td><td>16.5</td><td>225</td><td>5250</td><td>MALE  </td></tr>\n",
       "\t<tr><td>Gentoo</td><td>Biscoe</td><td>48.5</td><td>15.0</td><td>219</td><td>4850</td><td>FEMALE</td></tr>\n",
       "\t<tr><td>Gentoo</td><td>Biscoe</td><td>55.9</td><td>17.0</td><td>228</td><td>5600</td><td>MALE  </td></tr>\n",
       "\t<tr><td>Gentoo</td><td>Biscoe</td><td>47.2</td><td>15.5</td><td>215</td><td>4975</td><td>FEMALE</td></tr>\n",
       "\t<tr><td>Gentoo</td><td>Biscoe</td><td>49.1</td><td>15.0</td><td>228</td><td>5500</td><td>MALE  </td></tr>\n",
       "\t<tr><td>Gentoo</td><td>Biscoe</td><td>47.3</td><td>13.8</td><td>216</td><td>4725</td><td>NA    </td></tr>\n",
       "\t<tr><td>Gentoo</td><td>Biscoe</td><td>46.8</td><td>16.1</td><td>215</td><td>5500</td><td>MALE  </td></tr>\n",
       "\t<tr><td>Gentoo</td><td>Biscoe</td><td>41.7</td><td>14.7</td><td>210</td><td>4700</td><td>FEMALE</td></tr>\n",
       "\t<tr><td>Gentoo</td><td>Biscoe</td><td>53.4</td><td>15.8</td><td>219</td><td>5500</td><td>MALE  </td></tr>\n",
       "\t<tr><td>Gentoo</td><td>Biscoe</td><td>43.3</td><td>14.0</td><td>208</td><td>4575</td><td>FEMALE</td></tr>\n",
       "\t<tr><td>Gentoo</td><td>Biscoe</td><td>48.1</td><td>15.1</td><td>209</td><td>5500</td><td>MALE  </td></tr>\n",
       "\t<tr><td>Gentoo</td><td>Biscoe</td><td>50.5</td><td>15.2</td><td>216</td><td>5000</td><td>FEMALE</td></tr>\n",
       "\t<tr><td>Gentoo</td><td>Biscoe</td><td>49.8</td><td>15.9</td><td>229</td><td>5950</td><td>MALE  </td></tr>\n",
       "\t<tr><td>Gentoo</td><td>Biscoe</td><td>43.5</td><td>15.2</td><td>213</td><td>4650</td><td>FEMALE</td></tr>\n",
       "\t<tr><td>Gentoo</td><td>Biscoe</td><td>51.5</td><td>16.3</td><td>230</td><td>5500</td><td>MALE  </td></tr>\n",
       "\t<tr><td>Gentoo</td><td>Biscoe</td><td>46.2</td><td>14.1</td><td>217</td><td>4375</td><td>FEMALE</td></tr>\n",
       "\t<tr><td>Gentoo</td><td>Biscoe</td><td>55.1</td><td>16.0</td><td>230</td><td>5850</td><td>MALE  </td></tr>\n",
       "\t<tr><td>Gentoo</td><td>Biscoe</td><td>44.5</td><td>15.7</td><td>217</td><td>4875</td><td>.     </td></tr>\n",
       "\t<tr><td>Gentoo</td><td>Biscoe</td><td>48.8</td><td>16.2</td><td>222</td><td>6000</td><td>MALE  </td></tr>\n",
       "\t<tr><td>Gentoo</td><td>Biscoe</td><td>47.2</td><td>13.7</td><td>214</td><td>4925</td><td>FEMALE</td></tr>\n",
       "\t<tr><td>Gentoo</td><td>Biscoe</td><td>  NA</td><td>  NA</td><td> NA</td><td>  NA</td><td>NA    </td></tr>\n",
       "\t<tr><td>Gentoo</td><td>Biscoe</td><td>46.8</td><td>14.3</td><td>215</td><td>4850</td><td>FEMALE</td></tr>\n",
       "\t<tr><td>Gentoo</td><td>Biscoe</td><td>50.4</td><td>15.7</td><td>222</td><td>5750</td><td>MALE  </td></tr>\n",
       "\t<tr><td>Gentoo</td><td>Biscoe</td><td>45.2</td><td>14.8</td><td>212</td><td>5200</td><td>FEMALE</td></tr>\n",
       "\t<tr><td>Gentoo</td><td>Biscoe</td><td>49.9</td><td>16.1</td><td>213</td><td>5400</td><td>MALE  </td></tr>\n",
       "</tbody>\n",
       "</table>\n"
      ],
      "text/latex": [
       "A data.frame: 344 × 7\n",
       "\\begin{tabular}{lllllll}\n",
       " species & island & bill\\_length\\_mm & bill\\_depth\\_mm & flipper\\_length\\_mm & body\\_mass\\_g & sex\\\\\n",
       " <chr> & <chr> & <dbl> & <dbl> & <int> & <int> & <chr>\\\\\n",
       "\\hline\n",
       "\t Adelie & Torgersen & 39.1 & 18.7 & 181 & 3750 & MALE  \\\\\n",
       "\t Adelie & Torgersen & 39.5 & 17.4 & 186 & 3800 & FEMALE\\\\\n",
       "\t Adelie & Torgersen & 40.3 & 18.0 & 195 & 3250 & FEMALE\\\\\n",
       "\t Adelie & Torgersen &   NA &   NA &  NA &   NA & NA    \\\\\n",
       "\t Adelie & Torgersen & 36.7 & 19.3 & 193 & 3450 & FEMALE\\\\\n",
       "\t Adelie & Torgersen & 39.3 & 20.6 & 190 & 3650 & MALE  \\\\\n",
       "\t Adelie & Torgersen & 38.9 & 17.8 & 181 & 3625 & FEMALE\\\\\n",
       "\t Adelie & Torgersen & 39.2 & 19.6 & 195 & 4675 & MALE  \\\\\n",
       "\t Adelie & Torgersen & 34.1 & 18.1 & 193 & 3475 & NA    \\\\\n",
       "\t Adelie & Torgersen & 42.0 & 20.2 & 190 & 4250 & NA    \\\\\n",
       "\t Adelie & Torgersen & 37.8 & 17.1 & 186 & 3300 & NA    \\\\\n",
       "\t Adelie & Torgersen & 37.8 & 17.3 & 180 & 3700 & NA    \\\\\n",
       "\t Adelie & Torgersen & 41.1 & 17.6 & 182 & 3200 & FEMALE\\\\\n",
       "\t Adelie & Torgersen & 38.6 & 21.2 & 191 & 3800 & MALE  \\\\\n",
       "\t Adelie & Torgersen & 34.6 & 21.1 & 198 & 4400 & MALE  \\\\\n",
       "\t Adelie & Torgersen & 36.6 & 17.8 & 185 & 3700 & FEMALE\\\\\n",
       "\t Adelie & Torgersen & 38.7 & 19.0 & 195 & 3450 & FEMALE\\\\\n",
       "\t Adelie & Torgersen & 42.5 & 20.7 & 197 & 4500 & MALE  \\\\\n",
       "\t Adelie & Torgersen & 34.4 & 18.4 & 184 & 3325 & FEMALE\\\\\n",
       "\t Adelie & Torgersen & 46.0 & 21.5 & 194 & 4200 & MALE  \\\\\n",
       "\t Adelie & Biscoe    & 37.8 & 18.3 & 174 & 3400 & FEMALE\\\\\n",
       "\t Adelie & Biscoe    & 37.7 & 18.7 & 180 & 3600 & MALE  \\\\\n",
       "\t Adelie & Biscoe    & 35.9 & 19.2 & 189 & 3800 & FEMALE\\\\\n",
       "\t Adelie & Biscoe    & 38.2 & 18.1 & 185 & 3950 & MALE  \\\\\n",
       "\t Adelie & Biscoe    & 38.8 & 17.2 & 180 & 3800 & MALE  \\\\\n",
       "\t Adelie & Biscoe    & 35.3 & 18.9 & 187 & 3800 & FEMALE\\\\\n",
       "\t Adelie & Biscoe    & 40.6 & 18.6 & 183 & 3550 & MALE  \\\\\n",
       "\t Adelie & Biscoe    & 40.5 & 17.9 & 187 & 3200 & FEMALE\\\\\n",
       "\t Adelie & Biscoe    & 37.9 & 18.6 & 172 & 3150 & FEMALE\\\\\n",
       "\t Adelie & Biscoe    & 40.5 & 18.9 & 180 & 3950 & MALE  \\\\\n",
       "\t ⋮ & ⋮ & ⋮ & ⋮ & ⋮ & ⋮ & ⋮\\\\\n",
       "\t Gentoo & Biscoe & 44.5 & 14.7 & 214 & 4850 & FEMALE\\\\\n",
       "\t Gentoo & Biscoe & 50.8 & 15.7 & 226 & 5200 & MALE  \\\\\n",
       "\t Gentoo & Biscoe & 49.4 & 15.8 & 216 & 4925 & MALE  \\\\\n",
       "\t Gentoo & Biscoe & 46.9 & 14.6 & 222 & 4875 & FEMALE\\\\\n",
       "\t Gentoo & Biscoe & 48.4 & 14.4 & 203 & 4625 & FEMALE\\\\\n",
       "\t Gentoo & Biscoe & 51.1 & 16.5 & 225 & 5250 & MALE  \\\\\n",
       "\t Gentoo & Biscoe & 48.5 & 15.0 & 219 & 4850 & FEMALE\\\\\n",
       "\t Gentoo & Biscoe & 55.9 & 17.0 & 228 & 5600 & MALE  \\\\\n",
       "\t Gentoo & Biscoe & 47.2 & 15.5 & 215 & 4975 & FEMALE\\\\\n",
       "\t Gentoo & Biscoe & 49.1 & 15.0 & 228 & 5500 & MALE  \\\\\n",
       "\t Gentoo & Biscoe & 47.3 & 13.8 & 216 & 4725 & NA    \\\\\n",
       "\t Gentoo & Biscoe & 46.8 & 16.1 & 215 & 5500 & MALE  \\\\\n",
       "\t Gentoo & Biscoe & 41.7 & 14.7 & 210 & 4700 & FEMALE\\\\\n",
       "\t Gentoo & Biscoe & 53.4 & 15.8 & 219 & 5500 & MALE  \\\\\n",
       "\t Gentoo & Biscoe & 43.3 & 14.0 & 208 & 4575 & FEMALE\\\\\n",
       "\t Gentoo & Biscoe & 48.1 & 15.1 & 209 & 5500 & MALE  \\\\\n",
       "\t Gentoo & Biscoe & 50.5 & 15.2 & 216 & 5000 & FEMALE\\\\\n",
       "\t Gentoo & Biscoe & 49.8 & 15.9 & 229 & 5950 & MALE  \\\\\n",
       "\t Gentoo & Biscoe & 43.5 & 15.2 & 213 & 4650 & FEMALE\\\\\n",
       "\t Gentoo & Biscoe & 51.5 & 16.3 & 230 & 5500 & MALE  \\\\\n",
       "\t Gentoo & Biscoe & 46.2 & 14.1 & 217 & 4375 & FEMALE\\\\\n",
       "\t Gentoo & Biscoe & 55.1 & 16.0 & 230 & 5850 & MALE  \\\\\n",
       "\t Gentoo & Biscoe & 44.5 & 15.7 & 217 & 4875 & .     \\\\\n",
       "\t Gentoo & Biscoe & 48.8 & 16.2 & 222 & 6000 & MALE  \\\\\n",
       "\t Gentoo & Biscoe & 47.2 & 13.7 & 214 & 4925 & FEMALE\\\\\n",
       "\t Gentoo & Biscoe &   NA &   NA &  NA &   NA & NA    \\\\\n",
       "\t Gentoo & Biscoe & 46.8 & 14.3 & 215 & 4850 & FEMALE\\\\\n",
       "\t Gentoo & Biscoe & 50.4 & 15.7 & 222 & 5750 & MALE  \\\\\n",
       "\t Gentoo & Biscoe & 45.2 & 14.8 & 212 & 5200 & FEMALE\\\\\n",
       "\t Gentoo & Biscoe & 49.9 & 16.1 & 213 & 5400 & MALE  \\\\\n",
       "\\end{tabular}\n"
      ],
      "text/markdown": [
       "\n",
       "A data.frame: 344 × 7\n",
       "\n",
       "| species &lt;chr&gt; | island &lt;chr&gt; | bill_length_mm &lt;dbl&gt; | bill_depth_mm &lt;dbl&gt; | flipper_length_mm &lt;int&gt; | body_mass_g &lt;int&gt; | sex &lt;chr&gt; |\n",
       "|---|---|---|---|---|---|---|\n",
       "| Adelie | Torgersen | 39.1 | 18.7 | 181 | 3750 | MALE   |\n",
       "| Adelie | Torgersen | 39.5 | 17.4 | 186 | 3800 | FEMALE |\n",
       "| Adelie | Torgersen | 40.3 | 18.0 | 195 | 3250 | FEMALE |\n",
       "| Adelie | Torgersen |   NA |   NA |  NA |   NA | NA     |\n",
       "| Adelie | Torgersen | 36.7 | 19.3 | 193 | 3450 | FEMALE |\n",
       "| Adelie | Torgersen | 39.3 | 20.6 | 190 | 3650 | MALE   |\n",
       "| Adelie | Torgersen | 38.9 | 17.8 | 181 | 3625 | FEMALE |\n",
       "| Adelie | Torgersen | 39.2 | 19.6 | 195 | 4675 | MALE   |\n",
       "| Adelie | Torgersen | 34.1 | 18.1 | 193 | 3475 | NA     |\n",
       "| Adelie | Torgersen | 42.0 | 20.2 | 190 | 4250 | NA     |\n",
       "| Adelie | Torgersen | 37.8 | 17.1 | 186 | 3300 | NA     |\n",
       "| Adelie | Torgersen | 37.8 | 17.3 | 180 | 3700 | NA     |\n",
       "| Adelie | Torgersen | 41.1 | 17.6 | 182 | 3200 | FEMALE |\n",
       "| Adelie | Torgersen | 38.6 | 21.2 | 191 | 3800 | MALE   |\n",
       "| Adelie | Torgersen | 34.6 | 21.1 | 198 | 4400 | MALE   |\n",
       "| Adelie | Torgersen | 36.6 | 17.8 | 185 | 3700 | FEMALE |\n",
       "| Adelie | Torgersen | 38.7 | 19.0 | 195 | 3450 | FEMALE |\n",
       "| Adelie | Torgersen | 42.5 | 20.7 | 197 | 4500 | MALE   |\n",
       "| Adelie | Torgersen | 34.4 | 18.4 | 184 | 3325 | FEMALE |\n",
       "| Adelie | Torgersen | 46.0 | 21.5 | 194 | 4200 | MALE   |\n",
       "| Adelie | Biscoe    | 37.8 | 18.3 | 174 | 3400 | FEMALE |\n",
       "| Adelie | Biscoe    | 37.7 | 18.7 | 180 | 3600 | MALE   |\n",
       "| Adelie | Biscoe    | 35.9 | 19.2 | 189 | 3800 | FEMALE |\n",
       "| Adelie | Biscoe    | 38.2 | 18.1 | 185 | 3950 | MALE   |\n",
       "| Adelie | Biscoe    | 38.8 | 17.2 | 180 | 3800 | MALE   |\n",
       "| Adelie | Biscoe    | 35.3 | 18.9 | 187 | 3800 | FEMALE |\n",
       "| Adelie | Biscoe    | 40.6 | 18.6 | 183 | 3550 | MALE   |\n",
       "| Adelie | Biscoe    | 40.5 | 17.9 | 187 | 3200 | FEMALE |\n",
       "| Adelie | Biscoe    | 37.9 | 18.6 | 172 | 3150 | FEMALE |\n",
       "| Adelie | Biscoe    | 40.5 | 18.9 | 180 | 3950 | MALE   |\n",
       "| ⋮ | ⋮ | ⋮ | ⋮ | ⋮ | ⋮ | ⋮ |\n",
       "| Gentoo | Biscoe | 44.5 | 14.7 | 214 | 4850 | FEMALE |\n",
       "| Gentoo | Biscoe | 50.8 | 15.7 | 226 | 5200 | MALE   |\n",
       "| Gentoo | Biscoe | 49.4 | 15.8 | 216 | 4925 | MALE   |\n",
       "| Gentoo | Biscoe | 46.9 | 14.6 | 222 | 4875 | FEMALE |\n",
       "| Gentoo | Biscoe | 48.4 | 14.4 | 203 | 4625 | FEMALE |\n",
       "| Gentoo | Biscoe | 51.1 | 16.5 | 225 | 5250 | MALE   |\n",
       "| Gentoo | Biscoe | 48.5 | 15.0 | 219 | 4850 | FEMALE |\n",
       "| Gentoo | Biscoe | 55.9 | 17.0 | 228 | 5600 | MALE   |\n",
       "| Gentoo | Biscoe | 47.2 | 15.5 | 215 | 4975 | FEMALE |\n",
       "| Gentoo | Biscoe | 49.1 | 15.0 | 228 | 5500 | MALE   |\n",
       "| Gentoo | Biscoe | 47.3 | 13.8 | 216 | 4725 | NA     |\n",
       "| Gentoo | Biscoe | 46.8 | 16.1 | 215 | 5500 | MALE   |\n",
       "| Gentoo | Biscoe | 41.7 | 14.7 | 210 | 4700 | FEMALE |\n",
       "| Gentoo | Biscoe | 53.4 | 15.8 | 219 | 5500 | MALE   |\n",
       "| Gentoo | Biscoe | 43.3 | 14.0 | 208 | 4575 | FEMALE |\n",
       "| Gentoo | Biscoe | 48.1 | 15.1 | 209 | 5500 | MALE   |\n",
       "| Gentoo | Biscoe | 50.5 | 15.2 | 216 | 5000 | FEMALE |\n",
       "| Gentoo | Biscoe | 49.8 | 15.9 | 229 | 5950 | MALE   |\n",
       "| Gentoo | Biscoe | 43.5 | 15.2 | 213 | 4650 | FEMALE |\n",
       "| Gentoo | Biscoe | 51.5 | 16.3 | 230 | 5500 | MALE   |\n",
       "| Gentoo | Biscoe | 46.2 | 14.1 | 217 | 4375 | FEMALE |\n",
       "| Gentoo | Biscoe | 55.1 | 16.0 | 230 | 5850 | MALE   |\n",
       "| Gentoo | Biscoe | 44.5 | 15.7 | 217 | 4875 | .      |\n",
       "| Gentoo | Biscoe | 48.8 | 16.2 | 222 | 6000 | MALE   |\n",
       "| Gentoo | Biscoe | 47.2 | 13.7 | 214 | 4925 | FEMALE |\n",
       "| Gentoo | Biscoe |   NA |   NA |  NA |   NA | NA     |\n",
       "| Gentoo | Biscoe | 46.8 | 14.3 | 215 | 4850 | FEMALE |\n",
       "| Gentoo | Biscoe | 50.4 | 15.7 | 222 | 5750 | MALE   |\n",
       "| Gentoo | Biscoe | 45.2 | 14.8 | 212 | 5200 | FEMALE |\n",
       "| Gentoo | Biscoe | 49.9 | 16.1 | 213 | 5400 | MALE   |\n",
       "\n"
      ],
      "text/plain": [
       "    species island    bill_length_mm bill_depth_mm flipper_length_mm\n",
       "1   Adelie  Torgersen 39.1           18.7          181              \n",
       "2   Adelie  Torgersen 39.5           17.4          186              \n",
       "3   Adelie  Torgersen 40.3           18.0          195              \n",
       "4   Adelie  Torgersen   NA             NA           NA              \n",
       "5   Adelie  Torgersen 36.7           19.3          193              \n",
       "6   Adelie  Torgersen 39.3           20.6          190              \n",
       "7   Adelie  Torgersen 38.9           17.8          181              \n",
       "8   Adelie  Torgersen 39.2           19.6          195              \n",
       "9   Adelie  Torgersen 34.1           18.1          193              \n",
       "10  Adelie  Torgersen 42.0           20.2          190              \n",
       "11  Adelie  Torgersen 37.8           17.1          186              \n",
       "12  Adelie  Torgersen 37.8           17.3          180              \n",
       "13  Adelie  Torgersen 41.1           17.6          182              \n",
       "14  Adelie  Torgersen 38.6           21.2          191              \n",
       "15  Adelie  Torgersen 34.6           21.1          198              \n",
       "16  Adelie  Torgersen 36.6           17.8          185              \n",
       "17  Adelie  Torgersen 38.7           19.0          195              \n",
       "18  Adelie  Torgersen 42.5           20.7          197              \n",
       "19  Adelie  Torgersen 34.4           18.4          184              \n",
       "20  Adelie  Torgersen 46.0           21.5          194              \n",
       "21  Adelie  Biscoe    37.8           18.3          174              \n",
       "22  Adelie  Biscoe    37.7           18.7          180              \n",
       "23  Adelie  Biscoe    35.9           19.2          189              \n",
       "24  Adelie  Biscoe    38.2           18.1          185              \n",
       "25  Adelie  Biscoe    38.8           17.2          180              \n",
       "26  Adelie  Biscoe    35.3           18.9          187              \n",
       "27  Adelie  Biscoe    40.6           18.6          183              \n",
       "28  Adelie  Biscoe    40.5           17.9          187              \n",
       "29  Adelie  Biscoe    37.9           18.6          172              \n",
       "30  Adelie  Biscoe    40.5           18.9          180              \n",
       "⋮   ⋮       ⋮         ⋮              ⋮             ⋮                \n",
       "315 Gentoo  Biscoe    44.5           14.7          214              \n",
       "316 Gentoo  Biscoe    50.8           15.7          226              \n",
       "317 Gentoo  Biscoe    49.4           15.8          216              \n",
       "318 Gentoo  Biscoe    46.9           14.6          222              \n",
       "319 Gentoo  Biscoe    48.4           14.4          203              \n",
       "320 Gentoo  Biscoe    51.1           16.5          225              \n",
       "321 Gentoo  Biscoe    48.5           15.0          219              \n",
       "322 Gentoo  Biscoe    55.9           17.0          228              \n",
       "323 Gentoo  Biscoe    47.2           15.5          215              \n",
       "324 Gentoo  Biscoe    49.1           15.0          228              \n",
       "325 Gentoo  Biscoe    47.3           13.8          216              \n",
       "326 Gentoo  Biscoe    46.8           16.1          215              \n",
       "327 Gentoo  Biscoe    41.7           14.7          210              \n",
       "328 Gentoo  Biscoe    53.4           15.8          219              \n",
       "329 Gentoo  Biscoe    43.3           14.0          208              \n",
       "330 Gentoo  Biscoe    48.1           15.1          209              \n",
       "331 Gentoo  Biscoe    50.5           15.2          216              \n",
       "332 Gentoo  Biscoe    49.8           15.9          229              \n",
       "333 Gentoo  Biscoe    43.5           15.2          213              \n",
       "334 Gentoo  Biscoe    51.5           16.3          230              \n",
       "335 Gentoo  Biscoe    46.2           14.1          217              \n",
       "336 Gentoo  Biscoe    55.1           16.0          230              \n",
       "337 Gentoo  Biscoe    44.5           15.7          217              \n",
       "338 Gentoo  Biscoe    48.8           16.2          222              \n",
       "339 Gentoo  Biscoe    47.2           13.7          214              \n",
       "340 Gentoo  Biscoe      NA             NA           NA              \n",
       "341 Gentoo  Biscoe    46.8           14.3          215              \n",
       "342 Gentoo  Biscoe    50.4           15.7          222              \n",
       "343 Gentoo  Biscoe    45.2           14.8          212              \n",
       "344 Gentoo  Biscoe    49.9           16.1          213              \n",
       "    body_mass_g sex   \n",
       "1   3750        MALE  \n",
       "2   3800        FEMALE\n",
       "3   3250        FEMALE\n",
       "4     NA        NA    \n",
       "5   3450        FEMALE\n",
       "6   3650        MALE  \n",
       "7   3625        FEMALE\n",
       "8   4675        MALE  \n",
       "9   3475        NA    \n",
       "10  4250        NA    \n",
       "11  3300        NA    \n",
       "12  3700        NA    \n",
       "13  3200        FEMALE\n",
       "14  3800        MALE  \n",
       "15  4400        MALE  \n",
       "16  3700        FEMALE\n",
       "17  3450        FEMALE\n",
       "18  4500        MALE  \n",
       "19  3325        FEMALE\n",
       "20  4200        MALE  \n",
       "21  3400        FEMALE\n",
       "22  3600        MALE  \n",
       "23  3800        FEMALE\n",
       "24  3950        MALE  \n",
       "25  3800        MALE  \n",
       "26  3800        FEMALE\n",
       "27  3550        MALE  \n",
       "28  3200        FEMALE\n",
       "29  3150        FEMALE\n",
       "30  3950        MALE  \n",
       "⋮   ⋮           ⋮     \n",
       "315 4850        FEMALE\n",
       "316 5200        MALE  \n",
       "317 4925        MALE  \n",
       "318 4875        FEMALE\n",
       "319 4625        FEMALE\n",
       "320 5250        MALE  \n",
       "321 4850        FEMALE\n",
       "322 5600        MALE  \n",
       "323 4975        FEMALE\n",
       "324 5500        MALE  \n",
       "325 4725        NA    \n",
       "326 5500        MALE  \n",
       "327 4700        FEMALE\n",
       "328 5500        MALE  \n",
       "329 4575        FEMALE\n",
       "330 5500        MALE  \n",
       "331 5000        FEMALE\n",
       "332 5950        MALE  \n",
       "333 4650        FEMALE\n",
       "334 5500        MALE  \n",
       "335 4375        FEMALE\n",
       "336 5850        MALE  \n",
       "337 4875        .     \n",
       "338 6000        MALE  \n",
       "339 4925        FEMALE\n",
       "340   NA        NA    \n",
       "341 4850        FEMALE\n",
       "342 5750        MALE  \n",
       "343 5200        FEMALE\n",
       "344 5400        MALE  "
      ]
     },
     "metadata": {},
     "output_type": "display_data"
    }
   ],
   "source": [
    "df <- read.csv(\"penguins.csv\")\n",
    "df"
   ]
  },
  {
   "cell_type": "markdown",
   "id": "1653ba57",
   "metadata": {},
   "source": [
    "Call the 'summary' function on df and pay attention to its result. As you see, some columns contain numerical data and some contain characters. Try to gain some sense of the distribution of numerical columns, given their min, max, and quartiles."
   ]
  },
  {
   "cell_type": "code",
   "execution_count": 3,
   "id": "6cc00a88",
   "metadata": {},
   "outputs": [
    {
     "data": {
      "text/plain": [
       "   species             island          bill_length_mm  bill_depth_mm  \n",
       " Length:344         Length:344         Min.   :32.10   Min.   :13.10  \n",
       " Class :character   Class :character   1st Qu.:39.23   1st Qu.:15.60  \n",
       " Mode  :character   Mode  :character   Median :44.45   Median :17.30  \n",
       "                                       Mean   :43.92   Mean   :17.15  \n",
       "                                       3rd Qu.:48.50   3rd Qu.:18.70  \n",
       "                                       Max.   :59.60   Max.   :21.50  \n",
       "                                       NA's   :2       NA's   :2      \n",
       " flipper_length_mm  body_mass_g       sex           \n",
       " Min.   :172.0     Min.   :2700   Length:344        \n",
       " 1st Qu.:190.0     1st Qu.:3550   Class :character  \n",
       " Median :197.0     Median :4050   Mode  :character  \n",
       " Mean   :200.9     Mean   :4202                     \n",
       " 3rd Qu.:213.0     3rd Qu.:4750                     \n",
       " Max.   :231.0     Max.   :6300                     \n",
       " NA's   :2         NA's   :2                        "
      ]
     },
     "metadata": {},
     "output_type": "display_data"
    }
   ],
   "source": [
    "summary(df)"
   ]
  },
  {
   "cell_type": "markdown",
   "id": "e3e6d77e",
   "metadata": {},
   "source": [
    "*Suppose that in some distribution, the mean is greater than the median. What does this say about the distribution? What if the mean is less than, or equal to the median?*"
   ]
  },
  {
   "cell_type": "markdown",
   "id": "8bb91f32",
   "metadata": {},
   "source": [
    "The 'table' function takes an array as input and outputs its frequency table. Which columns of df are better to call this function on? Do the call for them."
   ]
  },
  {
   "cell_type": "code",
   "execution_count": 4,
   "id": "58039b1f",
   "metadata": {},
   "outputs": [
    {
     "data": {
      "text/plain": [
       "\n",
       "   Adelie Chinstrap    Gentoo \n",
       "      152        68       124 "
      ]
     },
     "metadata": {},
     "output_type": "display_data"
    },
    {
     "data": {
      "text/plain": [
       "\n",
       "   Biscoe     Dream Torgersen \n",
       "      168       124        52 "
      ]
     },
     "metadata": {},
     "output_type": "display_data"
    },
    {
     "data": {
      "text/plain": [
       "\n",
       "     . FEMALE   MALE \n",
       "     1    165    168 "
      ]
     },
     "metadata": {},
     "output_type": "display_data"
    }
   ],
   "source": [
    "table(df$species)\n",
    "table(df$island)\n",
    "table(df$sex)"
   ]
  },
  {
   "cell_type": "markdown",
   "id": "4000015b",
   "metadata": {},
   "source": [
    "For initial exposure to data, one can use more advanced functions rather than built-in R functions. The function 'skim' in the library 'skimr' is one such powerful function. Call this function on df and consider the result carefully. If you have not installed 'skimr', first do so by issuing the command below:\n",
    "\n",
    "install.packages(\"skimr\")."
   ]
  },
  {
   "cell_type": "code",
   "execution_count": 7,
   "id": "8990c4b8",
   "metadata": {},
   "outputs": [
    {
     "name": "stdout",
     "output_type": "stream",
     "text": [
      "── Data Summary ────────────────────────\n",
      "                           Values\n",
      "Name                       df    \n",
      "Number of rows             344   \n",
      "Number of columns          7     \n",
      "_______________________          \n",
      "Column type frequency:           \n",
      "  character                3     \n",
      "  numeric                  4     \n",
      "________________________         \n",
      "Group variables            None  \n",
      "\n",
      "── Variable type: character ────────────────────────────────────────────────────\n",
      "  skim_variable n_missing complete_rate min max empty n_unique whitespace\n",
      "\u001b[90m1\u001b[39m species               0         1       6   9     0        3          0\n",
      "\u001b[90m2\u001b[39m island                0         1       5   9     0        3          0\n",
      "\u001b[90m3\u001b[39m sex                  10         0.971   1   6     0        3          0\n",
      "\n",
      "── Variable type: numeric ──────────────────────────────────────────────────────\n",
      "  skim_variable     n_missing complete_rate   mean     sd     p0    p25    p50\n",
      "\u001b[90m1\u001b[39m bill_length_mm            2         0.994   43.9   5.46   32.1   39.2   44.4\n",
      "\u001b[90m2\u001b[39m bill_depth_mm             2         0.994   17.2   1.97   13.1   15.6   17.3\n",
      "\u001b[90m3\u001b[39m flipper_length_mm         2         0.994  201.   14.1   172    190    197  \n",
      "\u001b[90m4\u001b[39m body_mass_g               2         0.994 \u001b[4m4\u001b[24m202.  802.   \u001b[4m2\u001b[24m700   \u001b[4m3\u001b[24m550   \u001b[4m4\u001b[24m050  \n",
      "     p75   p100 hist \n",
      "\u001b[90m1\u001b[39m   48.5   59.6 ▃▇▇▆▁\n",
      "\u001b[90m2\u001b[39m   18.7   21.5 ▅▅▇▇▂\n",
      "\u001b[90m3\u001b[39m  213    231   ▂▇▃▅▂\n",
      "\u001b[90m4\u001b[39m \u001b[4m4\u001b[24m750   \u001b[4m6\u001b[24m300   ▃▇▆▃▂\n"
     ]
    },
    {
     "name": "stderr",
     "output_type": "stream",
     "text": [
      "Warning message in is.null(text_repr) || nchar(text_repr) == 0L:\n",
      "\"'length(x) = 17 > 1' in coercion to 'logical(1)'\"\n"
     ]
    },
    {
     "data": {
      "text/html": [
       "<table class=\"dataframe\">\n",
       "<caption>A skim_df: 7 × 17</caption>\n",
       "<thead>\n",
       "\t<tr><th></th><th scope=col>skim_type</th><th scope=col>skim_variable</th><th scope=col>n_missing</th><th scope=col>complete_rate</th><th scope=col>character.min</th><th scope=col>character.max</th><th scope=col>character.empty</th><th scope=col>character.n_unique</th><th scope=col>character.whitespace</th><th scope=col>numeric.mean</th><th scope=col>numeric.sd</th><th scope=col>numeric.p0</th><th scope=col>numeric.p25</th><th scope=col>numeric.p50</th><th scope=col>numeric.p75</th><th scope=col>numeric.p100</th><th scope=col>numeric.hist</th></tr>\n",
       "\t<tr><th></th><th scope=col>&lt;chr&gt;</th><th scope=col>&lt;chr&gt;</th><th scope=col>&lt;int&gt;</th><th scope=col>&lt;dbl&gt;</th><th scope=col>&lt;int&gt;</th><th scope=col>&lt;int&gt;</th><th scope=col>&lt;int&gt;</th><th scope=col>&lt;int&gt;</th><th scope=col>&lt;int&gt;</th><th scope=col>&lt;dbl&gt;</th><th scope=col>&lt;dbl&gt;</th><th scope=col>&lt;dbl&gt;</th><th scope=col>&lt;dbl&gt;</th><th scope=col>&lt;dbl&gt;</th><th scope=col>&lt;dbl&gt;</th><th scope=col>&lt;dbl&gt;</th><th scope=col>&lt;chr&gt;</th></tr>\n",
       "</thead>\n",
       "<tbody>\n",
       "\t<tr><th scope=row>1</th><td>character</td><td>species          </td><td> 0</td><td>1.0000000</td><td> 6</td><td> 9</td><td> 0</td><td> 3</td><td> 0</td><td>        NA</td><td>        NA</td><td>    NA</td><td>      NA</td><td>     NA</td><td>    NA</td><td>    NA</td><td>NA   </td></tr>\n",
       "\t<tr><th scope=row>2</th><td>character</td><td>island           </td><td> 0</td><td>1.0000000</td><td> 5</td><td> 9</td><td> 0</td><td> 3</td><td> 0</td><td>        NA</td><td>        NA</td><td>    NA</td><td>      NA</td><td>     NA</td><td>    NA</td><td>    NA</td><td>NA   </td></tr>\n",
       "\t<tr><th scope=row>3</th><td>character</td><td>sex              </td><td>10</td><td>0.9709302</td><td> 1</td><td> 6</td><td> 0</td><td> 3</td><td> 0</td><td>        NA</td><td>        NA</td><td>    NA</td><td>      NA</td><td>     NA</td><td>    NA</td><td>    NA</td><td>NA   </td></tr>\n",
       "\t<tr><th scope=row>4</th><td>numeric  </td><td>bill_length_mm   </td><td> 2</td><td>0.9941860</td><td>NA</td><td>NA</td><td>NA</td><td>NA</td><td>NA</td><td>  43.92193</td><td>  5.459584</td><td>  32.1</td><td>  39.225</td><td>  44.45</td><td>  48.5</td><td>  59.6</td><td>▃▇▇▆▁</td></tr>\n",
       "\t<tr><th scope=row>5</th><td>numeric  </td><td>bill_depth_mm    </td><td> 2</td><td>0.9941860</td><td>NA</td><td>NA</td><td>NA</td><td>NA</td><td>NA</td><td>  17.15117</td><td>  1.974793</td><td>  13.1</td><td>  15.600</td><td>  17.30</td><td>  18.7</td><td>  21.5</td><td>▅▅▇▇▂</td></tr>\n",
       "\t<tr><th scope=row>6</th><td>numeric  </td><td>flipper_length_mm</td><td> 2</td><td>0.9941860</td><td>NA</td><td>NA</td><td>NA</td><td>NA</td><td>NA</td><td> 200.91520</td><td> 14.061714</td><td> 172.0</td><td> 190.000</td><td> 197.00</td><td> 213.0</td><td> 231.0</td><td>▂▇▃▅▂</td></tr>\n",
       "\t<tr><th scope=row>7</th><td>numeric  </td><td>body_mass_g      </td><td> 2</td><td>0.9941860</td><td>NA</td><td>NA</td><td>NA</td><td>NA</td><td>NA</td><td>4201.75439</td><td>801.954536</td><td>2700.0</td><td>3550.000</td><td>4050.00</td><td>4750.0</td><td>6300.0</td><td>▃▇▆▃▂</td></tr>\n",
       "</tbody>\n",
       "</table>\n"
      ],
      "text/latex": [
       "A skim\\_df: 7 × 17\n",
       "\\begin{tabular}{r|lllllllllllllllll}\n",
       "  & skim\\_type & skim\\_variable & n\\_missing & complete\\_rate & character.min & character.max & character.empty & character.n\\_unique & character.whitespace & numeric.mean & numeric.sd & numeric.p0 & numeric.p25 & numeric.p50 & numeric.p75 & numeric.p100 & numeric.hist\\\\\n",
       "  & <chr> & <chr> & <int> & <dbl> & <int> & <int> & <int> & <int> & <int> & <dbl> & <dbl> & <dbl> & <dbl> & <dbl> & <dbl> & <dbl> & <chr>\\\\\n",
       "\\hline\n",
       "\t1 & character & species           &  0 & 1.0000000 &  6 &  9 &  0 &  3 &  0 &         NA &         NA &     NA &       NA &      NA &     NA &     NA & NA   \\\\\n",
       "\t2 & character & island            &  0 & 1.0000000 &  5 &  9 &  0 &  3 &  0 &         NA &         NA &     NA &       NA &      NA &     NA &     NA & NA   \\\\\n",
       "\t3 & character & sex               & 10 & 0.9709302 &  1 &  6 &  0 &  3 &  0 &         NA &         NA &     NA &       NA &      NA &     NA &     NA & NA   \\\\\n",
       "\t4 & numeric   & bill\\_length\\_mm    &  2 & 0.9941860 & NA & NA & NA & NA & NA &   43.92193 &   5.459584 &   32.1 &   39.225 &   44.45 &   48.5 &   59.6 & ▃▇▇▆▁\\\\\n",
       "\t5 & numeric   & bill\\_depth\\_mm     &  2 & 0.9941860 & NA & NA & NA & NA & NA &   17.15117 &   1.974793 &   13.1 &   15.600 &   17.30 &   18.7 &   21.5 & ▅▅▇▇▂\\\\\n",
       "\t6 & numeric   & flipper\\_length\\_mm &  2 & 0.9941860 & NA & NA & NA & NA & NA &  200.91520 &  14.061714 &  172.0 &  190.000 &  197.00 &  213.0 &  231.0 & ▂▇▃▅▂\\\\\n",
       "\t7 & numeric   & body\\_mass\\_g       &  2 & 0.9941860 & NA & NA & NA & NA & NA & 4201.75439 & 801.954536 & 2700.0 & 3550.000 & 4050.00 & 4750.0 & 6300.0 & ▃▇▆▃▂\\\\\n",
       "\\end{tabular}\n"
      ],
      "text/markdown": [
       "\n",
       "A skim_df: 7 × 17\n",
       "\n",
       "| <!--/--> | skim_type &lt;chr&gt; | skim_variable &lt;chr&gt; | n_missing &lt;int&gt; | complete_rate &lt;dbl&gt; | character.min &lt;int&gt; | character.max &lt;int&gt; | character.empty &lt;int&gt; | character.n_unique &lt;int&gt; | character.whitespace &lt;int&gt; | numeric.mean &lt;dbl&gt; | numeric.sd &lt;dbl&gt; | numeric.p0 &lt;dbl&gt; | numeric.p25 &lt;dbl&gt; | numeric.p50 &lt;dbl&gt; | numeric.p75 &lt;dbl&gt; | numeric.p100 &lt;dbl&gt; | numeric.hist &lt;chr&gt; |\n",
       "|---|---|---|---|---|---|---|---|---|---|---|---|---|---|---|---|---|---|\n",
       "| 1 | character | species           |  0 | 1.0000000 |  6 |  9 |  0 |  3 |  0 |         NA |         NA |     NA |       NA |      NA |     NA |     NA | NA    |\n",
       "| 2 | character | island            |  0 | 1.0000000 |  5 |  9 |  0 |  3 |  0 |         NA |         NA |     NA |       NA |      NA |     NA |     NA | NA    |\n",
       "| 3 | character | sex               | 10 | 0.9709302 |  1 |  6 |  0 |  3 |  0 |         NA |         NA |     NA |       NA |      NA |     NA |     NA | NA    |\n",
       "| 4 | numeric   | bill_length_mm    |  2 | 0.9941860 | NA | NA | NA | NA | NA |   43.92193 |   5.459584 |   32.1 |   39.225 |   44.45 |   48.5 |   59.6 | ▃▇▇▆▁ |\n",
       "| 5 | numeric   | bill_depth_mm     |  2 | 0.9941860 | NA | NA | NA | NA | NA |   17.15117 |   1.974793 |   13.1 |   15.600 |   17.30 |   18.7 |   21.5 | ▅▅▇▇▂ |\n",
       "| 6 | numeric   | flipper_length_mm |  2 | 0.9941860 | NA | NA | NA | NA | NA |  200.91520 |  14.061714 |  172.0 |  190.000 |  197.00 |  213.0 |  231.0 | ▂▇▃▅▂ |\n",
       "| 7 | numeric   | body_mass_g       |  2 | 0.9941860 | NA | NA | NA | NA | NA | 4201.75439 | 801.954536 | 2700.0 | 3550.000 | 4050.00 | 4750.0 | 6300.0 | ▃▇▆▃▂ |\n",
       "\n"
      ]
     },
     "metadata": {},
     "output_type": "display_data"
    }
   ],
   "source": [
    "library(\"skimr\")\n",
    "skim(df)"
   ]
  },
  {
   "cell_type": "markdown",
   "id": "7d200721",
   "metadata": {},
   "source": [
    "As you can see, some rows of data contain values that are NA. NA stands for Not Available. When encountering such rows, we can follow different strategies. One is to replace them with specific values, like mean or median. In this case, due to the relatively small number of NAs, we can simply remove them from our dataframe.\n",
    "So write a code to remove all rows in df that contain NA values."
   ]
  },
  {
   "cell_type": "code",
   "execution_count": 8,
   "id": "86ed4052",
   "metadata": {},
   "outputs": [
    {
     "data": {
      "text/html": [
       "<table class=\"dataframe\">\n",
       "<caption>A data.frame: 334 × 7</caption>\n",
       "<thead>\n",
       "\t<tr><th></th><th scope=col>species</th><th scope=col>island</th><th scope=col>bill_length_mm</th><th scope=col>bill_depth_mm</th><th scope=col>flipper_length_mm</th><th scope=col>body_mass_g</th><th scope=col>sex</th></tr>\n",
       "\t<tr><th></th><th scope=col>&lt;chr&gt;</th><th scope=col>&lt;chr&gt;</th><th scope=col>&lt;dbl&gt;</th><th scope=col>&lt;dbl&gt;</th><th scope=col>&lt;int&gt;</th><th scope=col>&lt;int&gt;</th><th scope=col>&lt;chr&gt;</th></tr>\n",
       "</thead>\n",
       "<tbody>\n",
       "\t<tr><th scope=row>1</th><td>Adelie</td><td>Torgersen</td><td>39.1</td><td>18.7</td><td>181</td><td>3750</td><td>MALE  </td></tr>\n",
       "\t<tr><th scope=row>2</th><td>Adelie</td><td>Torgersen</td><td>39.5</td><td>17.4</td><td>186</td><td>3800</td><td>FEMALE</td></tr>\n",
       "\t<tr><th scope=row>3</th><td>Adelie</td><td>Torgersen</td><td>40.3</td><td>18.0</td><td>195</td><td>3250</td><td>FEMALE</td></tr>\n",
       "\t<tr><th scope=row>5</th><td>Adelie</td><td>Torgersen</td><td>36.7</td><td>19.3</td><td>193</td><td>3450</td><td>FEMALE</td></tr>\n",
       "\t<tr><th scope=row>6</th><td>Adelie</td><td>Torgersen</td><td>39.3</td><td>20.6</td><td>190</td><td>3650</td><td>MALE  </td></tr>\n",
       "\t<tr><th scope=row>7</th><td>Adelie</td><td>Torgersen</td><td>38.9</td><td>17.8</td><td>181</td><td>3625</td><td>FEMALE</td></tr>\n",
       "\t<tr><th scope=row>8</th><td>Adelie</td><td>Torgersen</td><td>39.2</td><td>19.6</td><td>195</td><td>4675</td><td>MALE  </td></tr>\n",
       "\t<tr><th scope=row>13</th><td>Adelie</td><td>Torgersen</td><td>41.1</td><td>17.6</td><td>182</td><td>3200</td><td>FEMALE</td></tr>\n",
       "\t<tr><th scope=row>14</th><td>Adelie</td><td>Torgersen</td><td>38.6</td><td>21.2</td><td>191</td><td>3800</td><td>MALE  </td></tr>\n",
       "\t<tr><th scope=row>15</th><td>Adelie</td><td>Torgersen</td><td>34.6</td><td>21.1</td><td>198</td><td>4400</td><td>MALE  </td></tr>\n",
       "\t<tr><th scope=row>16</th><td>Adelie</td><td>Torgersen</td><td>36.6</td><td>17.8</td><td>185</td><td>3700</td><td>FEMALE</td></tr>\n",
       "\t<tr><th scope=row>17</th><td>Adelie</td><td>Torgersen</td><td>38.7</td><td>19.0</td><td>195</td><td>3450</td><td>FEMALE</td></tr>\n",
       "\t<tr><th scope=row>18</th><td>Adelie</td><td>Torgersen</td><td>42.5</td><td>20.7</td><td>197</td><td>4500</td><td>MALE  </td></tr>\n",
       "\t<tr><th scope=row>19</th><td>Adelie</td><td>Torgersen</td><td>34.4</td><td>18.4</td><td>184</td><td>3325</td><td>FEMALE</td></tr>\n",
       "\t<tr><th scope=row>20</th><td>Adelie</td><td>Torgersen</td><td>46.0</td><td>21.5</td><td>194</td><td>4200</td><td>MALE  </td></tr>\n",
       "\t<tr><th scope=row>21</th><td>Adelie</td><td>Biscoe   </td><td>37.8</td><td>18.3</td><td>174</td><td>3400</td><td>FEMALE</td></tr>\n",
       "\t<tr><th scope=row>22</th><td>Adelie</td><td>Biscoe   </td><td>37.7</td><td>18.7</td><td>180</td><td>3600</td><td>MALE  </td></tr>\n",
       "\t<tr><th scope=row>23</th><td>Adelie</td><td>Biscoe   </td><td>35.9</td><td>19.2</td><td>189</td><td>3800</td><td>FEMALE</td></tr>\n",
       "\t<tr><th scope=row>24</th><td>Adelie</td><td>Biscoe   </td><td>38.2</td><td>18.1</td><td>185</td><td>3950</td><td>MALE  </td></tr>\n",
       "\t<tr><th scope=row>25</th><td>Adelie</td><td>Biscoe   </td><td>38.8</td><td>17.2</td><td>180</td><td>3800</td><td>MALE  </td></tr>\n",
       "\t<tr><th scope=row>26</th><td>Adelie</td><td>Biscoe   </td><td>35.3</td><td>18.9</td><td>187</td><td>3800</td><td>FEMALE</td></tr>\n",
       "\t<tr><th scope=row>27</th><td>Adelie</td><td>Biscoe   </td><td>40.6</td><td>18.6</td><td>183</td><td>3550</td><td>MALE  </td></tr>\n",
       "\t<tr><th scope=row>28</th><td>Adelie</td><td>Biscoe   </td><td>40.5</td><td>17.9</td><td>187</td><td>3200</td><td>FEMALE</td></tr>\n",
       "\t<tr><th scope=row>29</th><td>Adelie</td><td>Biscoe   </td><td>37.9</td><td>18.6</td><td>172</td><td>3150</td><td>FEMALE</td></tr>\n",
       "\t<tr><th scope=row>30</th><td>Adelie</td><td>Biscoe   </td><td>40.5</td><td>18.9</td><td>180</td><td>3950</td><td>MALE  </td></tr>\n",
       "\t<tr><th scope=row>31</th><td>Adelie</td><td>Dream    </td><td>39.5</td><td>16.7</td><td>178</td><td>3250</td><td>FEMALE</td></tr>\n",
       "\t<tr><th scope=row>32</th><td>Adelie</td><td>Dream    </td><td>37.2</td><td>18.1</td><td>178</td><td>3900</td><td>MALE  </td></tr>\n",
       "\t<tr><th scope=row>33</th><td>Adelie</td><td>Dream    </td><td>39.5</td><td>17.8</td><td>188</td><td>3300</td><td>FEMALE</td></tr>\n",
       "\t<tr><th scope=row>34</th><td>Adelie</td><td>Dream    </td><td>40.9</td><td>18.9</td><td>184</td><td>3900</td><td>MALE  </td></tr>\n",
       "\t<tr><th scope=row>35</th><td>Adelie</td><td>Dream    </td><td>36.4</td><td>17.0</td><td>195</td><td>3325</td><td>FEMALE</td></tr>\n",
       "\t<tr><th scope=row>⋮</th><td>⋮</td><td>⋮</td><td>⋮</td><td>⋮</td><td>⋮</td><td>⋮</td><td>⋮</td></tr>\n",
       "\t<tr><th scope=row>313</th><td>Gentoo</td><td>Biscoe</td><td>45.5</td><td>14.5</td><td>212</td><td>4750</td><td>FEMALE</td></tr>\n",
       "\t<tr><th scope=row>314</th><td>Gentoo</td><td>Biscoe</td><td>49.5</td><td>16.1</td><td>224</td><td>5650</td><td>MALE  </td></tr>\n",
       "\t<tr><th scope=row>315</th><td>Gentoo</td><td>Biscoe</td><td>44.5</td><td>14.7</td><td>214</td><td>4850</td><td>FEMALE</td></tr>\n",
       "\t<tr><th scope=row>316</th><td>Gentoo</td><td>Biscoe</td><td>50.8</td><td>15.7</td><td>226</td><td>5200</td><td>MALE  </td></tr>\n",
       "\t<tr><th scope=row>317</th><td>Gentoo</td><td>Biscoe</td><td>49.4</td><td>15.8</td><td>216</td><td>4925</td><td>MALE  </td></tr>\n",
       "\t<tr><th scope=row>318</th><td>Gentoo</td><td>Biscoe</td><td>46.9</td><td>14.6</td><td>222</td><td>4875</td><td>FEMALE</td></tr>\n",
       "\t<tr><th scope=row>319</th><td>Gentoo</td><td>Biscoe</td><td>48.4</td><td>14.4</td><td>203</td><td>4625</td><td>FEMALE</td></tr>\n",
       "\t<tr><th scope=row>320</th><td>Gentoo</td><td>Biscoe</td><td>51.1</td><td>16.5</td><td>225</td><td>5250</td><td>MALE  </td></tr>\n",
       "\t<tr><th scope=row>321</th><td>Gentoo</td><td>Biscoe</td><td>48.5</td><td>15.0</td><td>219</td><td>4850</td><td>FEMALE</td></tr>\n",
       "\t<tr><th scope=row>322</th><td>Gentoo</td><td>Biscoe</td><td>55.9</td><td>17.0</td><td>228</td><td>5600</td><td>MALE  </td></tr>\n",
       "\t<tr><th scope=row>323</th><td>Gentoo</td><td>Biscoe</td><td>47.2</td><td>15.5</td><td>215</td><td>4975</td><td>FEMALE</td></tr>\n",
       "\t<tr><th scope=row>324</th><td>Gentoo</td><td>Biscoe</td><td>49.1</td><td>15.0</td><td>228</td><td>5500</td><td>MALE  </td></tr>\n",
       "\t<tr><th scope=row>326</th><td>Gentoo</td><td>Biscoe</td><td>46.8</td><td>16.1</td><td>215</td><td>5500</td><td>MALE  </td></tr>\n",
       "\t<tr><th scope=row>327</th><td>Gentoo</td><td>Biscoe</td><td>41.7</td><td>14.7</td><td>210</td><td>4700</td><td>FEMALE</td></tr>\n",
       "\t<tr><th scope=row>328</th><td>Gentoo</td><td>Biscoe</td><td>53.4</td><td>15.8</td><td>219</td><td>5500</td><td>MALE  </td></tr>\n",
       "\t<tr><th scope=row>329</th><td>Gentoo</td><td>Biscoe</td><td>43.3</td><td>14.0</td><td>208</td><td>4575</td><td>FEMALE</td></tr>\n",
       "\t<tr><th scope=row>330</th><td>Gentoo</td><td>Biscoe</td><td>48.1</td><td>15.1</td><td>209</td><td>5500</td><td>MALE  </td></tr>\n",
       "\t<tr><th scope=row>331</th><td>Gentoo</td><td>Biscoe</td><td>50.5</td><td>15.2</td><td>216</td><td>5000</td><td>FEMALE</td></tr>\n",
       "\t<tr><th scope=row>332</th><td>Gentoo</td><td>Biscoe</td><td>49.8</td><td>15.9</td><td>229</td><td>5950</td><td>MALE  </td></tr>\n",
       "\t<tr><th scope=row>333</th><td>Gentoo</td><td>Biscoe</td><td>43.5</td><td>15.2</td><td>213</td><td>4650</td><td>FEMALE</td></tr>\n",
       "\t<tr><th scope=row>334</th><td>Gentoo</td><td>Biscoe</td><td>51.5</td><td>16.3</td><td>230</td><td>5500</td><td>MALE  </td></tr>\n",
       "\t<tr><th scope=row>335</th><td>Gentoo</td><td>Biscoe</td><td>46.2</td><td>14.1</td><td>217</td><td>4375</td><td>FEMALE</td></tr>\n",
       "\t<tr><th scope=row>336</th><td>Gentoo</td><td>Biscoe</td><td>55.1</td><td>16.0</td><td>230</td><td>5850</td><td>MALE  </td></tr>\n",
       "\t<tr><th scope=row>337</th><td>Gentoo</td><td>Biscoe</td><td>44.5</td><td>15.7</td><td>217</td><td>4875</td><td>.     </td></tr>\n",
       "\t<tr><th scope=row>338</th><td>Gentoo</td><td>Biscoe</td><td>48.8</td><td>16.2</td><td>222</td><td>6000</td><td>MALE  </td></tr>\n",
       "\t<tr><th scope=row>339</th><td>Gentoo</td><td>Biscoe</td><td>47.2</td><td>13.7</td><td>214</td><td>4925</td><td>FEMALE</td></tr>\n",
       "\t<tr><th scope=row>341</th><td>Gentoo</td><td>Biscoe</td><td>46.8</td><td>14.3</td><td>215</td><td>4850</td><td>FEMALE</td></tr>\n",
       "\t<tr><th scope=row>342</th><td>Gentoo</td><td>Biscoe</td><td>50.4</td><td>15.7</td><td>222</td><td>5750</td><td>MALE  </td></tr>\n",
       "\t<tr><th scope=row>343</th><td>Gentoo</td><td>Biscoe</td><td>45.2</td><td>14.8</td><td>212</td><td>5200</td><td>FEMALE</td></tr>\n",
       "\t<tr><th scope=row>344</th><td>Gentoo</td><td>Biscoe</td><td>49.9</td><td>16.1</td><td>213</td><td>5400</td><td>MALE  </td></tr>\n",
       "</tbody>\n",
       "</table>\n"
      ],
      "text/latex": [
       "A data.frame: 334 × 7\n",
       "\\begin{tabular}{r|lllllll}\n",
       "  & species & island & bill\\_length\\_mm & bill\\_depth\\_mm & flipper\\_length\\_mm & body\\_mass\\_g & sex\\\\\n",
       "  & <chr> & <chr> & <dbl> & <dbl> & <int> & <int> & <chr>\\\\\n",
       "\\hline\n",
       "\t1 & Adelie & Torgersen & 39.1 & 18.7 & 181 & 3750 & MALE  \\\\\n",
       "\t2 & Adelie & Torgersen & 39.5 & 17.4 & 186 & 3800 & FEMALE\\\\\n",
       "\t3 & Adelie & Torgersen & 40.3 & 18.0 & 195 & 3250 & FEMALE\\\\\n",
       "\t5 & Adelie & Torgersen & 36.7 & 19.3 & 193 & 3450 & FEMALE\\\\\n",
       "\t6 & Adelie & Torgersen & 39.3 & 20.6 & 190 & 3650 & MALE  \\\\\n",
       "\t7 & Adelie & Torgersen & 38.9 & 17.8 & 181 & 3625 & FEMALE\\\\\n",
       "\t8 & Adelie & Torgersen & 39.2 & 19.6 & 195 & 4675 & MALE  \\\\\n",
       "\t13 & Adelie & Torgersen & 41.1 & 17.6 & 182 & 3200 & FEMALE\\\\\n",
       "\t14 & Adelie & Torgersen & 38.6 & 21.2 & 191 & 3800 & MALE  \\\\\n",
       "\t15 & Adelie & Torgersen & 34.6 & 21.1 & 198 & 4400 & MALE  \\\\\n",
       "\t16 & Adelie & Torgersen & 36.6 & 17.8 & 185 & 3700 & FEMALE\\\\\n",
       "\t17 & Adelie & Torgersen & 38.7 & 19.0 & 195 & 3450 & FEMALE\\\\\n",
       "\t18 & Adelie & Torgersen & 42.5 & 20.7 & 197 & 4500 & MALE  \\\\\n",
       "\t19 & Adelie & Torgersen & 34.4 & 18.4 & 184 & 3325 & FEMALE\\\\\n",
       "\t20 & Adelie & Torgersen & 46.0 & 21.5 & 194 & 4200 & MALE  \\\\\n",
       "\t21 & Adelie & Biscoe    & 37.8 & 18.3 & 174 & 3400 & FEMALE\\\\\n",
       "\t22 & Adelie & Biscoe    & 37.7 & 18.7 & 180 & 3600 & MALE  \\\\\n",
       "\t23 & Adelie & Biscoe    & 35.9 & 19.2 & 189 & 3800 & FEMALE\\\\\n",
       "\t24 & Adelie & Biscoe    & 38.2 & 18.1 & 185 & 3950 & MALE  \\\\\n",
       "\t25 & Adelie & Biscoe    & 38.8 & 17.2 & 180 & 3800 & MALE  \\\\\n",
       "\t26 & Adelie & Biscoe    & 35.3 & 18.9 & 187 & 3800 & FEMALE\\\\\n",
       "\t27 & Adelie & Biscoe    & 40.6 & 18.6 & 183 & 3550 & MALE  \\\\\n",
       "\t28 & Adelie & Biscoe    & 40.5 & 17.9 & 187 & 3200 & FEMALE\\\\\n",
       "\t29 & Adelie & Biscoe    & 37.9 & 18.6 & 172 & 3150 & FEMALE\\\\\n",
       "\t30 & Adelie & Biscoe    & 40.5 & 18.9 & 180 & 3950 & MALE  \\\\\n",
       "\t31 & Adelie & Dream     & 39.5 & 16.7 & 178 & 3250 & FEMALE\\\\\n",
       "\t32 & Adelie & Dream     & 37.2 & 18.1 & 178 & 3900 & MALE  \\\\\n",
       "\t33 & Adelie & Dream     & 39.5 & 17.8 & 188 & 3300 & FEMALE\\\\\n",
       "\t34 & Adelie & Dream     & 40.9 & 18.9 & 184 & 3900 & MALE  \\\\\n",
       "\t35 & Adelie & Dream     & 36.4 & 17.0 & 195 & 3325 & FEMALE\\\\\n",
       "\t⋮ & ⋮ & ⋮ & ⋮ & ⋮ & ⋮ & ⋮ & ⋮\\\\\n",
       "\t313 & Gentoo & Biscoe & 45.5 & 14.5 & 212 & 4750 & FEMALE\\\\\n",
       "\t314 & Gentoo & Biscoe & 49.5 & 16.1 & 224 & 5650 & MALE  \\\\\n",
       "\t315 & Gentoo & Biscoe & 44.5 & 14.7 & 214 & 4850 & FEMALE\\\\\n",
       "\t316 & Gentoo & Biscoe & 50.8 & 15.7 & 226 & 5200 & MALE  \\\\\n",
       "\t317 & Gentoo & Biscoe & 49.4 & 15.8 & 216 & 4925 & MALE  \\\\\n",
       "\t318 & Gentoo & Biscoe & 46.9 & 14.6 & 222 & 4875 & FEMALE\\\\\n",
       "\t319 & Gentoo & Biscoe & 48.4 & 14.4 & 203 & 4625 & FEMALE\\\\\n",
       "\t320 & Gentoo & Biscoe & 51.1 & 16.5 & 225 & 5250 & MALE  \\\\\n",
       "\t321 & Gentoo & Biscoe & 48.5 & 15.0 & 219 & 4850 & FEMALE\\\\\n",
       "\t322 & Gentoo & Biscoe & 55.9 & 17.0 & 228 & 5600 & MALE  \\\\\n",
       "\t323 & Gentoo & Biscoe & 47.2 & 15.5 & 215 & 4975 & FEMALE\\\\\n",
       "\t324 & Gentoo & Biscoe & 49.1 & 15.0 & 228 & 5500 & MALE  \\\\\n",
       "\t326 & Gentoo & Biscoe & 46.8 & 16.1 & 215 & 5500 & MALE  \\\\\n",
       "\t327 & Gentoo & Biscoe & 41.7 & 14.7 & 210 & 4700 & FEMALE\\\\\n",
       "\t328 & Gentoo & Biscoe & 53.4 & 15.8 & 219 & 5500 & MALE  \\\\\n",
       "\t329 & Gentoo & Biscoe & 43.3 & 14.0 & 208 & 4575 & FEMALE\\\\\n",
       "\t330 & Gentoo & Biscoe & 48.1 & 15.1 & 209 & 5500 & MALE  \\\\\n",
       "\t331 & Gentoo & Biscoe & 50.5 & 15.2 & 216 & 5000 & FEMALE\\\\\n",
       "\t332 & Gentoo & Biscoe & 49.8 & 15.9 & 229 & 5950 & MALE  \\\\\n",
       "\t333 & Gentoo & Biscoe & 43.5 & 15.2 & 213 & 4650 & FEMALE\\\\\n",
       "\t334 & Gentoo & Biscoe & 51.5 & 16.3 & 230 & 5500 & MALE  \\\\\n",
       "\t335 & Gentoo & Biscoe & 46.2 & 14.1 & 217 & 4375 & FEMALE\\\\\n",
       "\t336 & Gentoo & Biscoe & 55.1 & 16.0 & 230 & 5850 & MALE  \\\\\n",
       "\t337 & Gentoo & Biscoe & 44.5 & 15.7 & 217 & 4875 & .     \\\\\n",
       "\t338 & Gentoo & Biscoe & 48.8 & 16.2 & 222 & 6000 & MALE  \\\\\n",
       "\t339 & Gentoo & Biscoe & 47.2 & 13.7 & 214 & 4925 & FEMALE\\\\\n",
       "\t341 & Gentoo & Biscoe & 46.8 & 14.3 & 215 & 4850 & FEMALE\\\\\n",
       "\t342 & Gentoo & Biscoe & 50.4 & 15.7 & 222 & 5750 & MALE  \\\\\n",
       "\t343 & Gentoo & Biscoe & 45.2 & 14.8 & 212 & 5200 & FEMALE\\\\\n",
       "\t344 & Gentoo & Biscoe & 49.9 & 16.1 & 213 & 5400 & MALE  \\\\\n",
       "\\end{tabular}\n"
      ],
      "text/markdown": [
       "\n",
       "A data.frame: 334 × 7\n",
       "\n",
       "| <!--/--> | species &lt;chr&gt; | island &lt;chr&gt; | bill_length_mm &lt;dbl&gt; | bill_depth_mm &lt;dbl&gt; | flipper_length_mm &lt;int&gt; | body_mass_g &lt;int&gt; | sex &lt;chr&gt; |\n",
       "|---|---|---|---|---|---|---|---|\n",
       "| 1 | Adelie | Torgersen | 39.1 | 18.7 | 181 | 3750 | MALE   |\n",
       "| 2 | Adelie | Torgersen | 39.5 | 17.4 | 186 | 3800 | FEMALE |\n",
       "| 3 | Adelie | Torgersen | 40.3 | 18.0 | 195 | 3250 | FEMALE |\n",
       "| 5 | Adelie | Torgersen | 36.7 | 19.3 | 193 | 3450 | FEMALE |\n",
       "| 6 | Adelie | Torgersen | 39.3 | 20.6 | 190 | 3650 | MALE   |\n",
       "| 7 | Adelie | Torgersen | 38.9 | 17.8 | 181 | 3625 | FEMALE |\n",
       "| 8 | Adelie | Torgersen | 39.2 | 19.6 | 195 | 4675 | MALE   |\n",
       "| 13 | Adelie | Torgersen | 41.1 | 17.6 | 182 | 3200 | FEMALE |\n",
       "| 14 | Adelie | Torgersen | 38.6 | 21.2 | 191 | 3800 | MALE   |\n",
       "| 15 | Adelie | Torgersen | 34.6 | 21.1 | 198 | 4400 | MALE   |\n",
       "| 16 | Adelie | Torgersen | 36.6 | 17.8 | 185 | 3700 | FEMALE |\n",
       "| 17 | Adelie | Torgersen | 38.7 | 19.0 | 195 | 3450 | FEMALE |\n",
       "| 18 | Adelie | Torgersen | 42.5 | 20.7 | 197 | 4500 | MALE   |\n",
       "| 19 | Adelie | Torgersen | 34.4 | 18.4 | 184 | 3325 | FEMALE |\n",
       "| 20 | Adelie | Torgersen | 46.0 | 21.5 | 194 | 4200 | MALE   |\n",
       "| 21 | Adelie | Biscoe    | 37.8 | 18.3 | 174 | 3400 | FEMALE |\n",
       "| 22 | Adelie | Biscoe    | 37.7 | 18.7 | 180 | 3600 | MALE   |\n",
       "| 23 | Adelie | Biscoe    | 35.9 | 19.2 | 189 | 3800 | FEMALE |\n",
       "| 24 | Adelie | Biscoe    | 38.2 | 18.1 | 185 | 3950 | MALE   |\n",
       "| 25 | Adelie | Biscoe    | 38.8 | 17.2 | 180 | 3800 | MALE   |\n",
       "| 26 | Adelie | Biscoe    | 35.3 | 18.9 | 187 | 3800 | FEMALE |\n",
       "| 27 | Adelie | Biscoe    | 40.6 | 18.6 | 183 | 3550 | MALE   |\n",
       "| 28 | Adelie | Biscoe    | 40.5 | 17.9 | 187 | 3200 | FEMALE |\n",
       "| 29 | Adelie | Biscoe    | 37.9 | 18.6 | 172 | 3150 | FEMALE |\n",
       "| 30 | Adelie | Biscoe    | 40.5 | 18.9 | 180 | 3950 | MALE   |\n",
       "| 31 | Adelie | Dream     | 39.5 | 16.7 | 178 | 3250 | FEMALE |\n",
       "| 32 | Adelie | Dream     | 37.2 | 18.1 | 178 | 3900 | MALE   |\n",
       "| 33 | Adelie | Dream     | 39.5 | 17.8 | 188 | 3300 | FEMALE |\n",
       "| 34 | Adelie | Dream     | 40.9 | 18.9 | 184 | 3900 | MALE   |\n",
       "| 35 | Adelie | Dream     | 36.4 | 17.0 | 195 | 3325 | FEMALE |\n",
       "| ⋮ | ⋮ | ⋮ | ⋮ | ⋮ | ⋮ | ⋮ | ⋮ |\n",
       "| 313 | Gentoo | Biscoe | 45.5 | 14.5 | 212 | 4750 | FEMALE |\n",
       "| 314 | Gentoo | Biscoe | 49.5 | 16.1 | 224 | 5650 | MALE   |\n",
       "| 315 | Gentoo | Biscoe | 44.5 | 14.7 | 214 | 4850 | FEMALE |\n",
       "| 316 | Gentoo | Biscoe | 50.8 | 15.7 | 226 | 5200 | MALE   |\n",
       "| 317 | Gentoo | Biscoe | 49.4 | 15.8 | 216 | 4925 | MALE   |\n",
       "| 318 | Gentoo | Biscoe | 46.9 | 14.6 | 222 | 4875 | FEMALE |\n",
       "| 319 | Gentoo | Biscoe | 48.4 | 14.4 | 203 | 4625 | FEMALE |\n",
       "| 320 | Gentoo | Biscoe | 51.1 | 16.5 | 225 | 5250 | MALE   |\n",
       "| 321 | Gentoo | Biscoe | 48.5 | 15.0 | 219 | 4850 | FEMALE |\n",
       "| 322 | Gentoo | Biscoe | 55.9 | 17.0 | 228 | 5600 | MALE   |\n",
       "| 323 | Gentoo | Biscoe | 47.2 | 15.5 | 215 | 4975 | FEMALE |\n",
       "| 324 | Gentoo | Biscoe | 49.1 | 15.0 | 228 | 5500 | MALE   |\n",
       "| 326 | Gentoo | Biscoe | 46.8 | 16.1 | 215 | 5500 | MALE   |\n",
       "| 327 | Gentoo | Biscoe | 41.7 | 14.7 | 210 | 4700 | FEMALE |\n",
       "| 328 | Gentoo | Biscoe | 53.4 | 15.8 | 219 | 5500 | MALE   |\n",
       "| 329 | Gentoo | Biscoe | 43.3 | 14.0 | 208 | 4575 | FEMALE |\n",
       "| 330 | Gentoo | Biscoe | 48.1 | 15.1 | 209 | 5500 | MALE   |\n",
       "| 331 | Gentoo | Biscoe | 50.5 | 15.2 | 216 | 5000 | FEMALE |\n",
       "| 332 | Gentoo | Biscoe | 49.8 | 15.9 | 229 | 5950 | MALE   |\n",
       "| 333 | Gentoo | Biscoe | 43.5 | 15.2 | 213 | 4650 | FEMALE |\n",
       "| 334 | Gentoo | Biscoe | 51.5 | 16.3 | 230 | 5500 | MALE   |\n",
       "| 335 | Gentoo | Biscoe | 46.2 | 14.1 | 217 | 4375 | FEMALE |\n",
       "| 336 | Gentoo | Biscoe | 55.1 | 16.0 | 230 | 5850 | MALE   |\n",
       "| 337 | Gentoo | Biscoe | 44.5 | 15.7 | 217 | 4875 | .      |\n",
       "| 338 | Gentoo | Biscoe | 48.8 | 16.2 | 222 | 6000 | MALE   |\n",
       "| 339 | Gentoo | Biscoe | 47.2 | 13.7 | 214 | 4925 | FEMALE |\n",
       "| 341 | Gentoo | Biscoe | 46.8 | 14.3 | 215 | 4850 | FEMALE |\n",
       "| 342 | Gentoo | Biscoe | 50.4 | 15.7 | 222 | 5750 | MALE   |\n",
       "| 343 | Gentoo | Biscoe | 45.2 | 14.8 | 212 | 5200 | FEMALE |\n",
       "| 344 | Gentoo | Biscoe | 49.9 | 16.1 | 213 | 5400 | MALE   |\n",
       "\n"
      ],
      "text/plain": [
       "    species island    bill_length_mm bill_depth_mm flipper_length_mm\n",
       "1   Adelie  Torgersen 39.1           18.7          181              \n",
       "2   Adelie  Torgersen 39.5           17.4          186              \n",
       "3   Adelie  Torgersen 40.3           18.0          195              \n",
       "5   Adelie  Torgersen 36.7           19.3          193              \n",
       "6   Adelie  Torgersen 39.3           20.6          190              \n",
       "7   Adelie  Torgersen 38.9           17.8          181              \n",
       "8   Adelie  Torgersen 39.2           19.6          195              \n",
       "13  Adelie  Torgersen 41.1           17.6          182              \n",
       "14  Adelie  Torgersen 38.6           21.2          191              \n",
       "15  Adelie  Torgersen 34.6           21.1          198              \n",
       "16  Adelie  Torgersen 36.6           17.8          185              \n",
       "17  Adelie  Torgersen 38.7           19.0          195              \n",
       "18  Adelie  Torgersen 42.5           20.7          197              \n",
       "19  Adelie  Torgersen 34.4           18.4          184              \n",
       "20  Adelie  Torgersen 46.0           21.5          194              \n",
       "21  Adelie  Biscoe    37.8           18.3          174              \n",
       "22  Adelie  Biscoe    37.7           18.7          180              \n",
       "23  Adelie  Biscoe    35.9           19.2          189              \n",
       "24  Adelie  Biscoe    38.2           18.1          185              \n",
       "25  Adelie  Biscoe    38.8           17.2          180              \n",
       "26  Adelie  Biscoe    35.3           18.9          187              \n",
       "27  Adelie  Biscoe    40.6           18.6          183              \n",
       "28  Adelie  Biscoe    40.5           17.9          187              \n",
       "29  Adelie  Biscoe    37.9           18.6          172              \n",
       "30  Adelie  Biscoe    40.5           18.9          180              \n",
       "31  Adelie  Dream     39.5           16.7          178              \n",
       "32  Adelie  Dream     37.2           18.1          178              \n",
       "33  Adelie  Dream     39.5           17.8          188              \n",
       "34  Adelie  Dream     40.9           18.9          184              \n",
       "35  Adelie  Dream     36.4           17.0          195              \n",
       "⋮   ⋮       ⋮         ⋮              ⋮             ⋮                \n",
       "313 Gentoo  Biscoe    45.5           14.5          212              \n",
       "314 Gentoo  Biscoe    49.5           16.1          224              \n",
       "315 Gentoo  Biscoe    44.5           14.7          214              \n",
       "316 Gentoo  Biscoe    50.8           15.7          226              \n",
       "317 Gentoo  Biscoe    49.4           15.8          216              \n",
       "318 Gentoo  Biscoe    46.9           14.6          222              \n",
       "319 Gentoo  Biscoe    48.4           14.4          203              \n",
       "320 Gentoo  Biscoe    51.1           16.5          225              \n",
       "321 Gentoo  Biscoe    48.5           15.0          219              \n",
       "322 Gentoo  Biscoe    55.9           17.0          228              \n",
       "323 Gentoo  Biscoe    47.2           15.5          215              \n",
       "324 Gentoo  Biscoe    49.1           15.0          228              \n",
       "326 Gentoo  Biscoe    46.8           16.1          215              \n",
       "327 Gentoo  Biscoe    41.7           14.7          210              \n",
       "328 Gentoo  Biscoe    53.4           15.8          219              \n",
       "329 Gentoo  Biscoe    43.3           14.0          208              \n",
       "330 Gentoo  Biscoe    48.1           15.1          209              \n",
       "331 Gentoo  Biscoe    50.5           15.2          216              \n",
       "332 Gentoo  Biscoe    49.8           15.9          229              \n",
       "333 Gentoo  Biscoe    43.5           15.2          213              \n",
       "334 Gentoo  Biscoe    51.5           16.3          230              \n",
       "335 Gentoo  Biscoe    46.2           14.1          217              \n",
       "336 Gentoo  Biscoe    55.1           16.0          230              \n",
       "337 Gentoo  Biscoe    44.5           15.7          217              \n",
       "338 Gentoo  Biscoe    48.8           16.2          222              \n",
       "339 Gentoo  Biscoe    47.2           13.7          214              \n",
       "341 Gentoo  Biscoe    46.8           14.3          215              \n",
       "342 Gentoo  Biscoe    50.4           15.7          222              \n",
       "343 Gentoo  Biscoe    45.2           14.8          212              \n",
       "344 Gentoo  Biscoe    49.9           16.1          213              \n",
       "    body_mass_g sex   \n",
       "1   3750        MALE  \n",
       "2   3800        FEMALE\n",
       "3   3250        FEMALE\n",
       "5   3450        FEMALE\n",
       "6   3650        MALE  \n",
       "7   3625        FEMALE\n",
       "8   4675        MALE  \n",
       "13  3200        FEMALE\n",
       "14  3800        MALE  \n",
       "15  4400        MALE  \n",
       "16  3700        FEMALE\n",
       "17  3450        FEMALE\n",
       "18  4500        MALE  \n",
       "19  3325        FEMALE\n",
       "20  4200        MALE  \n",
       "21  3400        FEMALE\n",
       "22  3600        MALE  \n",
       "23  3800        FEMALE\n",
       "24  3950        MALE  \n",
       "25  3800        MALE  \n",
       "26  3800        FEMALE\n",
       "27  3550        MALE  \n",
       "28  3200        FEMALE\n",
       "29  3150        FEMALE\n",
       "30  3950        MALE  \n",
       "31  3250        FEMALE\n",
       "32  3900        MALE  \n",
       "33  3300        FEMALE\n",
       "34  3900        MALE  \n",
       "35  3325        FEMALE\n",
       "⋮   ⋮           ⋮     \n",
       "313 4750        FEMALE\n",
       "314 5650        MALE  \n",
       "315 4850        FEMALE\n",
       "316 5200        MALE  \n",
       "317 4925        MALE  \n",
       "318 4875        FEMALE\n",
       "319 4625        FEMALE\n",
       "320 5250        MALE  \n",
       "321 4850        FEMALE\n",
       "322 5600        MALE  \n",
       "323 4975        FEMALE\n",
       "324 5500        MALE  \n",
       "326 5500        MALE  \n",
       "327 4700        FEMALE\n",
       "328 5500        MALE  \n",
       "329 4575        FEMALE\n",
       "330 5500        MALE  \n",
       "331 5000        FEMALE\n",
       "332 5950        MALE  \n",
       "333 4650        FEMALE\n",
       "334 5500        MALE  \n",
       "335 4375        FEMALE\n",
       "336 5850        MALE  \n",
       "337 4875        .     \n",
       "338 6000        MALE  \n",
       "339 4925        FEMALE\n",
       "341 4850        FEMALE\n",
       "342 5750        MALE  \n",
       "343 5200        FEMALE\n",
       "344 5400        MALE  "
      ]
     },
     "metadata": {},
     "output_type": "display_data"
    }
   ],
   "source": [
    "df <- na.omit(df)\n",
    "df"
   ]
  },
  {
   "cell_type": "markdown",
   "id": "5ee1ea92",
   "metadata": {},
   "source": [
    "# Graphical EDA"
   ]
  },
  {
   "cell_type": "markdown",
   "id": "6705d723",
   "metadata": {},
   "source": [
    "As mentioned before, performing EDA is mainly done by different means of visualization. In this section, we are going to practice some of these techniques. We also practice the 'cyclic' process of EDA: Examining data, Generating questions, Examining the data again to find answers, Refining the questions or generating new questions, and so on!\n",
    "\n",
    "We start by considering the distribution of single variables. Write a code to draw a plot, showing the distribution of the 'bill_length' variable."
   ]
  },
  {
   "cell_type": "markdown",
   "id": "bd39d001",
   "metadata": {},
   "source": [
    "*What distribution do you think the 'bill_length' variable has? Write your opinion here, before running the code.*"
   ]
  },
  {
   "cell_type": "markdown",
   "id": "6f0b0624",
   "metadata": {},
   "source": [
    "Your Prediction of Distribution: "
   ]
  },
  {
   "cell_type": "code",
   "execution_count": 9,
   "id": "674d61ed",
   "metadata": {},
   "outputs": [
    {
     "data": {
      "image/png": "[encoded data removed]",
      "text/plain": [
       "Plot with title \"density.default(x = df$bill_length_mm)\""
      ]
     },
     "metadata": {
      "image/png": {
       "height": 420,
       "width": 420
      }
     },
     "output_type": "display_data"
    }
   ],
   "source": [
    "# My Prediction: Normal Distribution\n",
    "d <- density(df$bill_length_mm) \n",
    "d$y <- d$y * length(df$bill_length_mm)  ; plot(d, ylim=c(0,40) )\n",
    "hist(df$bill_length_mm, breaks=trunc(min(df$bill_length_mm)):(1+trunc(max(df$bill_length_mm))), add=TRUE)"
   ]
  },
  {
   "cell_type": "markdown",
   "id": "64b9f591",
   "metadata": {},
   "source": [
    "Let's repeat the same thing for the 'bill_depth' variable. Write a code to visualize the distribution of that variable."
   ]
  },
  {
   "cell_type": "code",
   "execution_count": 10,
   "id": "5b707748",
   "metadata": {},
   "outputs": [
    {
     "data": {
      "image/png": "[encoded data removed]",
      "text/plain": [
       "Plot with title \"density.default(x = df$bill_depth_mm)\""
      ]
     },
     "metadata": {
      "image/png": {
       "height": 420,
       "width": 420
      }
     },
     "output_type": "display_data"
    }
   ],
   "source": [
    "d <- density(df$bill_depth_mm) \n",
    "d$y <- d$y * length(df$bill_depth_mm)  ; plot(d, ylim=c(0,80) )\n",
    "hist(df$bill_depth_mm, breaks=trunc(min(df$bill_depth_mm)):(1+trunc(max(df$bill_depth_mm))), add=TRUE)"
   ]
  },
  {
   "cell_type": "markdown",
   "id": "503ccde9",
   "metadata": {},
   "source": [
    "At the next step, let's consider the co-variation of some pairs of variables. 'flipper_length_mm' and 'body_mass_g' seems an interesting pair for such consideration. Write a code to visualize their joint distribution, using the 'geom_point' function or similar approaches."
   ]
  },
  {
   "cell_type": "markdown",
   "id": "139262ca",
   "metadata": {},
   "source": [
    "*How do you think 'flipper_length_mm' and 'body_mass_g' correlate with each other? Is this correlation strongly positive, positive, not eye-catching, negative, or strongly negative? Write your opinion here, before running the code.*"
   ]
  },
  {
   "cell_type": "markdown",
   "id": "0139261a",
   "metadata": {},
   "source": [
    "Your Prediction of Correlation: "
   ]
  },
  {
   "cell_type": "code",
   "execution_count": 11,
   "id": "0b4eca4f",
   "metadata": {},
   "outputs": [
    {
     "data": {
      "image/png": "[encoded data removed]",
      "text/plain": [
       "plot without title"
      ]
     },
     "metadata": {
      "image/png": {
       "height": 420,
       "width": 420
      }
     },
     "output_type": "display_data"
    }
   ],
   "source": [
    "# My Prediction: Strongly Positive Correlation\n",
    "\n",
    "library(ggplot2)\n",
    "library(ggExtra)\n",
    "\n",
    "ggMarginal(ggplot(df, aes(x=body_mass_g, y=flipper_length_mm)) + geom_point())"
   ]
  },
  {
   "cell_type": "markdown",
   "id": "e05ceabb",
   "metadata": {},
   "source": [
    "For considering another joint distribution, it is good to pick variables 'bill_length' and 'bill_depth'. Write a code for visualizing their joint distribution."
   ]
  },
  {
   "cell_type": "markdown",
   "id": "f440565a",
   "metadata": {},
   "source": [
    "*How do you think 'bill_length' and 'bill_depth' correlate with each other? Is this correlation strongly positive, positive, not eye-catching, negative, or strongly negative? Write your opinion here, before running the code.*"
   ]
  },
  {
   "cell_type": "markdown",
   "id": "76df2f80",
   "metadata": {},
   "source": [
    "Your Prediction of Correlation:"
   ]
  },
  {
   "cell_type": "code",
   "execution_count": 15,
   "id": "d4a7f564",
   "metadata": {},
   "outputs": [
    {
     "data": {
      "image/png": "[encoded data removed]",
      "text/plain": [
       "plot without title"
      ]
     },
     "metadata": {
      "image/png": {
       "height": 420,
       "width": 420
      }
     },
     "output_type": "display_data"
    }
   ],
   "source": [
    "# My Prediction: Strongly Negative Correlation\n",
    "ggMarginal(ggplot(df, aes(x=bill_length_mm, y=bill_depth_mm)) + geom_point())"
   ]
  },
  {
   "cell_type": "markdown",
   "id": "289a8a97",
   "metadata": {},
   "source": [
    "## GGally: A Total Cheat!\n",
    "There are even more advanced and specialized functions available in R, for helping statisticians study the distribution and co-distribution of variables more easily. So far, we have picked pairs of variables to consider based on our intuition or desires. The function 'ggpairs' in library 'GGally' draws a plot showing the distribution of every single variable, in addition to the co-distribution of every pair of variables. Use the function to draw such a plot over all numerical variables of df."
   ]
  },
  {
   "cell_type": "code",
   "execution_count": 19,
   "id": "79908d8a",
   "metadata": {},
   "outputs": [
    {
     "data": {
      "image/png": "[encoded data removed]",
      "text/plain": [
       "plot without title"
      ]
     },
     "metadata": {
      "image/png": {
       "height": 420,
       "width": 420
      }
     },
     "output_type": "display_data"
    }
   ],
   "source": [
    "library(\"GGally\")\n",
    "ggpairs(df, columns = 3 : 6)"
   ]
  },
  {
   "cell_type": "markdown",
   "id": "db3880a2",
   "metadata": {},
   "source": [
    "Can you find any new interesting facts about data? Do you see a phenomenon that meets your expectations? Are there any anomalies seen in the plot? Explain your opinion."
   ]
  },
  {
   "cell_type": "markdown",
   "id": "8a30147e",
   "metadata": {},
   "source": [
    "- There is a strong positive correlation between body mass and flipper length.\n",
    "- There are two groups of points on plots like: bill_depth/flipper_length, bill_depth/body_mass, bill_length/bill_depth, etc. This may show the difference between species.\n",
    "- There is no positve correlation between bill_length and bill_depth.\n",
    "- The distribution of bill_length and bill_width weren't Normal."
   ]
  },
  {
   "cell_type": "markdown",
   "id": "e264c9a7",
   "metadata": {},
   "source": [
    "## Feedback Station\n",
    "Now and after initial exposure to data, it is good to summarize our observations and get 'feedback' from data.\n",
    "\n",
    "Some properties of the data were as we expected, while others clearly violated our expectations. In particular, the non-normal distribution of 'bill_length' and 'bill_depth' cannot be ignored easily. We should consider this as an unusual phenomenon and try to continue our investigations about it. \n",
    "\n",
    "The same is true about the correlation between bill length and depth. The usual expectation is a relatively strong positive correlation between these two, but the actual result showed little correlation between them! \n",
    "\n",
    "However, the correlation between flipper length and body mass was as one usually expects. They showed a strong positive correlation. Can you find a proper biological-evolutional explanation for that?"
   ]
  },
  {
   "cell_type": "markdown",
   "id": "a68f31f3",
   "metadata": {},
   "source": [
    "*Your Opinion*\n",
    "\n",
    "- Flipper is a significant part of a penguin and it affects the body mass of that penguin\n",
    "- The correlation between bill length and bill width is not true, because we have different kinds of penguins and in different types we cannot conclude a unique correlation between them."
   ]
  },
  {
   "cell_type": "markdown",
   "id": "d87abf8e",
   "metadata": {},
   "source": [
    "We continue our considerations. How can we explain the abnormal result about the correlation between bill length and depth? We normally think that if the bill length of penguin B is, say, 1.5 times the bill length of penguin A, its bill depth should also be about 1.5 times the bill depth of penguin A. This intuition implicitly includes the assumption that the 'shape' of the penguin is preserved. But this is not true, as we have different species with different 'shapes'! So what if we reconsider the correlation between bill length and depth for each specie separately? It can be a good option for further studies."
   ]
  },
  {
   "cell_type": "markdown",
   "id": "7fb10ef6",
   "metadata": {},
   "source": [
    "## Continuing the Investigation\n",
    "Write a code to draw a plot that visualizes the distribution of bill length for each specie, using the 'geom_density' function.  Hint: It is good to make each 'distribution' semi-transparent for a better result."
   ]
  },
  {
   "cell_type": "code",
   "execution_count": 20,
   "id": "542d96e5",
   "metadata": {},
   "outputs": [
    {
     "data": {
      "image/png": "[encoded data removed]",
      "text/plain": [
       "plot without title"
      ]
     },
     "metadata": {
      "image/png": {
       "height": 420,
       "width": 420
      }
     },
     "output_type": "display_data"
    }
   ],
   "source": [
    "ggplot(data=df, aes(bill_length_mm, fill=species, colour=species)) + geom_density(alpha = 0.5)"
   ]
  },
  {
   "cell_type": "markdown",
   "id": "57376288",
   "metadata": {},
   "source": [
    "As we can see, the resulting distributions are relatively similar to the normal distribution. However, there are still discrepancies. We may want to end our investigation and assume these differences are caused by the error of sampling or recording data or similar reasons. But remember that this is totally in contrast with the scientific methodology. A scientist should always try to understand the truth as it really is, and **NOT** try to show that the truth is what they want it to be!\n",
    "\n",
    "Having this said, let's find out why this difference from normal distribution still exists. To do so, write a code that selects all data points belonging to the Chinstrap specie. Then split these data points into two groups, based on which 'summit' their bill length lies. Hint: you can do the split job by comparing the bill length of each penguin with an appropriate value lying between the two 'summits'. A value of approximately 48 works fine."
   ]
  },
  {
   "cell_type": "code",
   "execution_count": 26,
   "id": "93954a4e",
   "metadata": {},
   "outputs": [
    {
     "data": {
      "text/html": [
       "<table class=\"dataframe\">\n",
       "<caption>A grouped_df: 68 × 8</caption>\n",
       "<thead>\n",
       "\t<tr><th scope=col>species</th><th scope=col>island</th><th scope=col>bill_length_mm</th><th scope=col>bill_depth_mm</th><th scope=col>flipper_length_mm</th><th scope=col>body_mass_g</th><th scope=col>sex</th><th scope=col>splitter_factor</th></tr>\n",
       "\t<tr><th scope=col>&lt;chr&gt;</th><th scope=col>&lt;chr&gt;</th><th scope=col>&lt;dbl&gt;</th><th scope=col>&lt;dbl&gt;</th><th scope=col>&lt;int&gt;</th><th scope=col>&lt;int&gt;</th><th scope=col>&lt;chr&gt;</th><th scope=col>&lt;lgl&gt;</th></tr>\n",
       "</thead>\n",
       "<tbody>\n",
       "\t<tr><td>Chinstrap</td><td>Dream</td><td>46.5</td><td>17.9</td><td>192</td><td>3500</td><td>FEMALE</td><td>FALSE</td></tr>\n",
       "\t<tr><td>Chinstrap</td><td>Dream</td><td>50.0</td><td>19.5</td><td>196</td><td>3900</td><td>MALE  </td><td> TRUE</td></tr>\n",
       "\t<tr><td>Chinstrap</td><td>Dream</td><td>51.3</td><td>19.2</td><td>193</td><td>3650</td><td>MALE  </td><td> TRUE</td></tr>\n",
       "\t<tr><td>Chinstrap</td><td>Dream</td><td>45.4</td><td>18.7</td><td>188</td><td>3525</td><td>FEMALE</td><td>FALSE</td></tr>\n",
       "\t<tr><td>Chinstrap</td><td>Dream</td><td>52.7</td><td>19.8</td><td>197</td><td>3725</td><td>MALE  </td><td> TRUE</td></tr>\n",
       "\t<tr><td>Chinstrap</td><td>Dream</td><td>45.2</td><td>17.8</td><td>198</td><td>3950</td><td>FEMALE</td><td>FALSE</td></tr>\n",
       "\t<tr><td>Chinstrap</td><td>Dream</td><td>46.1</td><td>18.2</td><td>178</td><td>3250</td><td>FEMALE</td><td>FALSE</td></tr>\n",
       "\t<tr><td>Chinstrap</td><td>Dream</td><td>51.3</td><td>18.2</td><td>197</td><td>3750</td><td>MALE  </td><td> TRUE</td></tr>\n",
       "\t<tr><td>Chinstrap</td><td>Dream</td><td>46.0</td><td>18.9</td><td>195</td><td>4150</td><td>FEMALE</td><td>FALSE</td></tr>\n",
       "\t<tr><td>Chinstrap</td><td>Dream</td><td>51.3</td><td>19.9</td><td>198</td><td>3700</td><td>MALE  </td><td> TRUE</td></tr>\n",
       "\t<tr><td>Chinstrap</td><td>Dream</td><td>46.6</td><td>17.8</td><td>193</td><td>3800</td><td>FEMALE</td><td>FALSE</td></tr>\n",
       "\t<tr><td>Chinstrap</td><td>Dream</td><td>51.7</td><td>20.3</td><td>194</td><td>3775</td><td>MALE  </td><td> TRUE</td></tr>\n",
       "\t<tr><td>Chinstrap</td><td>Dream</td><td>47.0</td><td>17.3</td><td>185</td><td>3700</td><td>FEMALE</td><td>FALSE</td></tr>\n",
       "\t<tr><td>Chinstrap</td><td>Dream</td><td>52.0</td><td>18.1</td><td>201</td><td>4050</td><td>MALE  </td><td> TRUE</td></tr>\n",
       "\t<tr><td>Chinstrap</td><td>Dream</td><td>45.9</td><td>17.1</td><td>190</td><td>3575</td><td>FEMALE</td><td>FALSE</td></tr>\n",
       "\t<tr><td>Chinstrap</td><td>Dream</td><td>50.5</td><td>19.6</td><td>201</td><td>4050</td><td>MALE  </td><td> TRUE</td></tr>\n",
       "\t<tr><td>Chinstrap</td><td>Dream</td><td>50.3</td><td>20.0</td><td>197</td><td>3300</td><td>MALE  </td><td> TRUE</td></tr>\n",
       "\t<tr><td>Chinstrap</td><td>Dream</td><td>58.0</td><td>17.8</td><td>181</td><td>3700</td><td>FEMALE</td><td> TRUE</td></tr>\n",
       "\t<tr><td>Chinstrap</td><td>Dream</td><td>46.4</td><td>18.6</td><td>190</td><td>3450</td><td>FEMALE</td><td>FALSE</td></tr>\n",
       "\t<tr><td>Chinstrap</td><td>Dream</td><td>49.2</td><td>18.2</td><td>195</td><td>4400</td><td>MALE  </td><td> TRUE</td></tr>\n",
       "\t<tr><td>Chinstrap</td><td>Dream</td><td>42.4</td><td>17.3</td><td>181</td><td>3600</td><td>FEMALE</td><td>FALSE</td></tr>\n",
       "\t<tr><td>Chinstrap</td><td>Dream</td><td>48.5</td><td>17.5</td><td>191</td><td>3400</td><td>MALE  </td><td> TRUE</td></tr>\n",
       "\t<tr><td>Chinstrap</td><td>Dream</td><td>43.2</td><td>16.6</td><td>187</td><td>2900</td><td>FEMALE</td><td>FALSE</td></tr>\n",
       "\t<tr><td>Chinstrap</td><td>Dream</td><td>50.6</td><td>19.4</td><td>193</td><td>3800</td><td>MALE  </td><td> TRUE</td></tr>\n",
       "\t<tr><td>Chinstrap</td><td>Dream</td><td>46.7</td><td>17.9</td><td>195</td><td>3300</td><td>FEMALE</td><td>FALSE</td></tr>\n",
       "\t<tr><td>Chinstrap</td><td>Dream</td><td>52.0</td><td>19.0</td><td>197</td><td>4150</td><td>MALE  </td><td> TRUE</td></tr>\n",
       "\t<tr><td>Chinstrap</td><td>Dream</td><td>50.5</td><td>18.4</td><td>200</td><td>3400</td><td>FEMALE</td><td> TRUE</td></tr>\n",
       "\t<tr><td>Chinstrap</td><td>Dream</td><td>49.5</td><td>19.0</td><td>200</td><td>3800</td><td>MALE  </td><td> TRUE</td></tr>\n",
       "\t<tr><td>Chinstrap</td><td>Dream</td><td>46.4</td><td>17.8</td><td>191</td><td>3700</td><td>FEMALE</td><td>FALSE</td></tr>\n",
       "\t<tr><td>Chinstrap</td><td>Dream</td><td>52.8</td><td>20.0</td><td>205</td><td>4550</td><td>MALE  </td><td> TRUE</td></tr>\n",
       "\t<tr><td>⋮</td><td>⋮</td><td>⋮</td><td>⋮</td><td>⋮</td><td>⋮</td><td>⋮</td><td>⋮</td></tr>\n",
       "\t<tr><td>Chinstrap</td><td>Dream</td><td>46.9</td><td>16.6</td><td>192</td><td>2700</td><td>FEMALE</td><td>FALSE</td></tr>\n",
       "\t<tr><td>Chinstrap</td><td>Dream</td><td>53.5</td><td>19.9</td><td>205</td><td>4500</td><td>MALE  </td><td> TRUE</td></tr>\n",
       "\t<tr><td>Chinstrap</td><td>Dream</td><td>49.0</td><td>19.5</td><td>210</td><td>3950</td><td>MALE  </td><td> TRUE</td></tr>\n",
       "\t<tr><td>Chinstrap</td><td>Dream</td><td>46.2</td><td>17.5</td><td>187</td><td>3650</td><td>FEMALE</td><td>FALSE</td></tr>\n",
       "\t<tr><td>Chinstrap</td><td>Dream</td><td>50.9</td><td>19.1</td><td>196</td><td>3550</td><td>MALE  </td><td> TRUE</td></tr>\n",
       "\t<tr><td>Chinstrap</td><td>Dream</td><td>45.5</td><td>17.0</td><td>196</td><td>3500</td><td>FEMALE</td><td>FALSE</td></tr>\n",
       "\t<tr><td>Chinstrap</td><td>Dream</td><td>50.9</td><td>17.9</td><td>196</td><td>3675</td><td>FEMALE</td><td> TRUE</td></tr>\n",
       "\t<tr><td>Chinstrap</td><td>Dream</td><td>50.8</td><td>18.5</td><td>201</td><td>4450</td><td>MALE  </td><td> TRUE</td></tr>\n",
       "\t<tr><td>Chinstrap</td><td>Dream</td><td>50.1</td><td>17.9</td><td>190</td><td>3400</td><td>FEMALE</td><td> TRUE</td></tr>\n",
       "\t<tr><td>Chinstrap</td><td>Dream</td><td>49.0</td><td>19.6</td><td>212</td><td>4300</td><td>MALE  </td><td> TRUE</td></tr>\n",
       "\t<tr><td>Chinstrap</td><td>Dream</td><td>51.5</td><td>18.7</td><td>187</td><td>3250</td><td>MALE  </td><td> TRUE</td></tr>\n",
       "\t<tr><td>Chinstrap</td><td>Dream</td><td>49.8</td><td>17.3</td><td>198</td><td>3675</td><td>FEMALE</td><td> TRUE</td></tr>\n",
       "\t<tr><td>Chinstrap</td><td>Dream</td><td>48.1</td><td>16.4</td><td>199</td><td>3325</td><td>FEMALE</td><td> TRUE</td></tr>\n",
       "\t<tr><td>Chinstrap</td><td>Dream</td><td>51.4</td><td>19.0</td><td>201</td><td>3950</td><td>MALE  </td><td> TRUE</td></tr>\n",
       "\t<tr><td>Chinstrap</td><td>Dream</td><td>45.7</td><td>17.3</td><td>193</td><td>3600</td><td>FEMALE</td><td>FALSE</td></tr>\n",
       "\t<tr><td>Chinstrap</td><td>Dream</td><td>50.7</td><td>19.7</td><td>203</td><td>4050</td><td>MALE  </td><td> TRUE</td></tr>\n",
       "\t<tr><td>Chinstrap</td><td>Dream</td><td>42.5</td><td>17.3</td><td>187</td><td>3350</td><td>FEMALE</td><td>FALSE</td></tr>\n",
       "\t<tr><td>Chinstrap</td><td>Dream</td><td>52.2</td><td>18.8</td><td>197</td><td>3450</td><td>MALE  </td><td> TRUE</td></tr>\n",
       "\t<tr><td>Chinstrap</td><td>Dream</td><td>45.2</td><td>16.6</td><td>191</td><td>3250</td><td>FEMALE</td><td>FALSE</td></tr>\n",
       "\t<tr><td>Chinstrap</td><td>Dream</td><td>49.3</td><td>19.9</td><td>203</td><td>4050</td><td>MALE  </td><td> TRUE</td></tr>\n",
       "\t<tr><td>Chinstrap</td><td>Dream</td><td>50.2</td><td>18.8</td><td>202</td><td>3800</td><td>MALE  </td><td> TRUE</td></tr>\n",
       "\t<tr><td>Chinstrap</td><td>Dream</td><td>45.6</td><td>19.4</td><td>194</td><td>3525</td><td>FEMALE</td><td>FALSE</td></tr>\n",
       "\t<tr><td>Chinstrap</td><td>Dream</td><td>51.9</td><td>19.5</td><td>206</td><td>3950</td><td>MALE  </td><td> TRUE</td></tr>\n",
       "\t<tr><td>Chinstrap</td><td>Dream</td><td>46.8</td><td>16.5</td><td>189</td><td>3650</td><td>FEMALE</td><td>FALSE</td></tr>\n",
       "\t<tr><td>Chinstrap</td><td>Dream</td><td>45.7</td><td>17.0</td><td>195</td><td>3650</td><td>FEMALE</td><td>FALSE</td></tr>\n",
       "\t<tr><td>Chinstrap</td><td>Dream</td><td>55.8</td><td>19.8</td><td>207</td><td>4000</td><td>MALE  </td><td> TRUE</td></tr>\n",
       "\t<tr><td>Chinstrap</td><td>Dream</td><td>43.5</td><td>18.1</td><td>202</td><td>3400</td><td>FEMALE</td><td>FALSE</td></tr>\n",
       "\t<tr><td>Chinstrap</td><td>Dream</td><td>49.6</td><td>18.2</td><td>193</td><td>3775</td><td>MALE  </td><td> TRUE</td></tr>\n",
       "\t<tr><td>Chinstrap</td><td>Dream</td><td>50.8</td><td>19.0</td><td>210</td><td>4100</td><td>MALE  </td><td> TRUE</td></tr>\n",
       "\t<tr><td>Chinstrap</td><td>Dream</td><td>50.2</td><td>18.7</td><td>198</td><td>3775</td><td>FEMALE</td><td> TRUE</td></tr>\n",
       "</tbody>\n",
       "</table>\n"
      ],
      "text/latex": [
       "A grouped\\_df: 68 × 8\n",
       "\\begin{tabular}{llllllll}\n",
       " species & island & bill\\_length\\_mm & bill\\_depth\\_mm & flipper\\_length\\_mm & body\\_mass\\_g & sex & splitter\\_factor\\\\\n",
       " <chr> & <chr> & <dbl> & <dbl> & <int> & <int> & <chr> & <lgl>\\\\\n",
       "\\hline\n",
       "\t Chinstrap & Dream & 46.5 & 17.9 & 192 & 3500 & FEMALE & FALSE\\\\\n",
       "\t Chinstrap & Dream & 50.0 & 19.5 & 196 & 3900 & MALE   &  TRUE\\\\\n",
       "\t Chinstrap & Dream & 51.3 & 19.2 & 193 & 3650 & MALE   &  TRUE\\\\\n",
       "\t Chinstrap & Dream & 45.4 & 18.7 & 188 & 3525 & FEMALE & FALSE\\\\\n",
       "\t Chinstrap & Dream & 52.7 & 19.8 & 197 & 3725 & MALE   &  TRUE\\\\\n",
       "\t Chinstrap & Dream & 45.2 & 17.8 & 198 & 3950 & FEMALE & FALSE\\\\\n",
       "\t Chinstrap & Dream & 46.1 & 18.2 & 178 & 3250 & FEMALE & FALSE\\\\\n",
       "\t Chinstrap & Dream & 51.3 & 18.2 & 197 & 3750 & MALE   &  TRUE\\\\\n",
       "\t Chinstrap & Dream & 46.0 & 18.9 & 195 & 4150 & FEMALE & FALSE\\\\\n",
       "\t Chinstrap & Dream & 51.3 & 19.9 & 198 & 3700 & MALE   &  TRUE\\\\\n",
       "\t Chinstrap & Dream & 46.6 & 17.8 & 193 & 3800 & FEMALE & FALSE\\\\\n",
       "\t Chinstrap & Dream & 51.7 & 20.3 & 194 & 3775 & MALE   &  TRUE\\\\\n",
       "\t Chinstrap & Dream & 47.0 & 17.3 & 185 & 3700 & FEMALE & FALSE\\\\\n",
       "\t Chinstrap & Dream & 52.0 & 18.1 & 201 & 4050 & MALE   &  TRUE\\\\\n",
       "\t Chinstrap & Dream & 45.9 & 17.1 & 190 & 3575 & FEMALE & FALSE\\\\\n",
       "\t Chinstrap & Dream & 50.5 & 19.6 & 201 & 4050 & MALE   &  TRUE\\\\\n",
       "\t Chinstrap & Dream & 50.3 & 20.0 & 197 & 3300 & MALE   &  TRUE\\\\\n",
       "\t Chinstrap & Dream & 58.0 & 17.8 & 181 & 3700 & FEMALE &  TRUE\\\\\n",
       "\t Chinstrap & Dream & 46.4 & 18.6 & 190 & 3450 & FEMALE & FALSE\\\\\n",
       "\t Chinstrap & Dream & 49.2 & 18.2 & 195 & 4400 & MALE   &  TRUE\\\\\n",
       "\t Chinstrap & Dream & 42.4 & 17.3 & 181 & 3600 & FEMALE & FALSE\\\\\n",
       "\t Chinstrap & Dream & 48.5 & 17.5 & 191 & 3400 & MALE   &  TRUE\\\\\n",
       "\t Chinstrap & Dream & 43.2 & 16.6 & 187 & 2900 & FEMALE & FALSE\\\\\n",
       "\t Chinstrap & Dream & 50.6 & 19.4 & 193 & 3800 & MALE   &  TRUE\\\\\n",
       "\t Chinstrap & Dream & 46.7 & 17.9 & 195 & 3300 & FEMALE & FALSE\\\\\n",
       "\t Chinstrap & Dream & 52.0 & 19.0 & 197 & 4150 & MALE   &  TRUE\\\\\n",
       "\t Chinstrap & Dream & 50.5 & 18.4 & 200 & 3400 & FEMALE &  TRUE\\\\\n",
       "\t Chinstrap & Dream & 49.5 & 19.0 & 200 & 3800 & MALE   &  TRUE\\\\\n",
       "\t Chinstrap & Dream & 46.4 & 17.8 & 191 & 3700 & FEMALE & FALSE\\\\\n",
       "\t Chinstrap & Dream & 52.8 & 20.0 & 205 & 4550 & MALE   &  TRUE\\\\\n",
       "\t ⋮ & ⋮ & ⋮ & ⋮ & ⋮ & ⋮ & ⋮ & ⋮\\\\\n",
       "\t Chinstrap & Dream & 46.9 & 16.6 & 192 & 2700 & FEMALE & FALSE\\\\\n",
       "\t Chinstrap & Dream & 53.5 & 19.9 & 205 & 4500 & MALE   &  TRUE\\\\\n",
       "\t Chinstrap & Dream & 49.0 & 19.5 & 210 & 3950 & MALE   &  TRUE\\\\\n",
       "\t Chinstrap & Dream & 46.2 & 17.5 & 187 & 3650 & FEMALE & FALSE\\\\\n",
       "\t Chinstrap & Dream & 50.9 & 19.1 & 196 & 3550 & MALE   &  TRUE\\\\\n",
       "\t Chinstrap & Dream & 45.5 & 17.0 & 196 & 3500 & FEMALE & FALSE\\\\\n",
       "\t Chinstrap & Dream & 50.9 & 17.9 & 196 & 3675 & FEMALE &  TRUE\\\\\n",
       "\t Chinstrap & Dream & 50.8 & 18.5 & 201 & 4450 & MALE   &  TRUE\\\\\n",
       "\t Chinstrap & Dream & 50.1 & 17.9 & 190 & 3400 & FEMALE &  TRUE\\\\\n",
       "\t Chinstrap & Dream & 49.0 & 19.6 & 212 & 4300 & MALE   &  TRUE\\\\\n",
       "\t Chinstrap & Dream & 51.5 & 18.7 & 187 & 3250 & MALE   &  TRUE\\\\\n",
       "\t Chinstrap & Dream & 49.8 & 17.3 & 198 & 3675 & FEMALE &  TRUE\\\\\n",
       "\t Chinstrap & Dream & 48.1 & 16.4 & 199 & 3325 & FEMALE &  TRUE\\\\\n",
       "\t Chinstrap & Dream & 51.4 & 19.0 & 201 & 3950 & MALE   &  TRUE\\\\\n",
       "\t Chinstrap & Dream & 45.7 & 17.3 & 193 & 3600 & FEMALE & FALSE\\\\\n",
       "\t Chinstrap & Dream & 50.7 & 19.7 & 203 & 4050 & MALE   &  TRUE\\\\\n",
       "\t Chinstrap & Dream & 42.5 & 17.3 & 187 & 3350 & FEMALE & FALSE\\\\\n",
       "\t Chinstrap & Dream & 52.2 & 18.8 & 197 & 3450 & MALE   &  TRUE\\\\\n",
       "\t Chinstrap & Dream & 45.2 & 16.6 & 191 & 3250 & FEMALE & FALSE\\\\\n",
       "\t Chinstrap & Dream & 49.3 & 19.9 & 203 & 4050 & MALE   &  TRUE\\\\\n",
       "\t Chinstrap & Dream & 50.2 & 18.8 & 202 & 3800 & MALE   &  TRUE\\\\\n",
       "\t Chinstrap & Dream & 45.6 & 19.4 & 194 & 3525 & FEMALE & FALSE\\\\\n",
       "\t Chinstrap & Dream & 51.9 & 19.5 & 206 & 3950 & MALE   &  TRUE\\\\\n",
       "\t Chinstrap & Dream & 46.8 & 16.5 & 189 & 3650 & FEMALE & FALSE\\\\\n",
       "\t Chinstrap & Dream & 45.7 & 17.0 & 195 & 3650 & FEMALE & FALSE\\\\\n",
       "\t Chinstrap & Dream & 55.8 & 19.8 & 207 & 4000 & MALE   &  TRUE\\\\\n",
       "\t Chinstrap & Dream & 43.5 & 18.1 & 202 & 3400 & FEMALE & FALSE\\\\\n",
       "\t Chinstrap & Dream & 49.6 & 18.2 & 193 & 3775 & MALE   &  TRUE\\\\\n",
       "\t Chinstrap & Dream & 50.8 & 19.0 & 210 & 4100 & MALE   &  TRUE\\\\\n",
       "\t Chinstrap & Dream & 50.2 & 18.7 & 198 & 3775 & FEMALE &  TRUE\\\\\n",
       "\\end{tabular}\n"
      ],
      "text/markdown": [
       "\n",
       "A grouped_df: 68 × 8\n",
       "\n",
       "| species &lt;chr&gt; | island &lt;chr&gt; | bill_length_mm &lt;dbl&gt; | bill_depth_mm &lt;dbl&gt; | flipper_length_mm &lt;int&gt; | body_mass_g &lt;int&gt; | sex &lt;chr&gt; | splitter_factor &lt;lgl&gt; |\n",
       "|---|---|---|---|---|---|---|---|\n",
       "| Chinstrap | Dream | 46.5 | 17.9 | 192 | 3500 | FEMALE | FALSE |\n",
       "| Chinstrap | Dream | 50.0 | 19.5 | 196 | 3900 | MALE   |  TRUE |\n",
       "| Chinstrap | Dream | 51.3 | 19.2 | 193 | 3650 | MALE   |  TRUE |\n",
       "| Chinstrap | Dream | 45.4 | 18.7 | 188 | 3525 | FEMALE | FALSE |\n",
       "| Chinstrap | Dream | 52.7 | 19.8 | 197 | 3725 | MALE   |  TRUE |\n",
       "| Chinstrap | Dream | 45.2 | 17.8 | 198 | 3950 | FEMALE | FALSE |\n",
       "| Chinstrap | Dream | 46.1 | 18.2 | 178 | 3250 | FEMALE | FALSE |\n",
       "| Chinstrap | Dream | 51.3 | 18.2 | 197 | 3750 | MALE   |  TRUE |\n",
       "| Chinstrap | Dream | 46.0 | 18.9 | 195 | 4150 | FEMALE | FALSE |\n",
       "| Chinstrap | Dream | 51.3 | 19.9 | 198 | 3700 | MALE   |  TRUE |\n",
       "| Chinstrap | Dream | 46.6 | 17.8 | 193 | 3800 | FEMALE | FALSE |\n",
       "| Chinstrap | Dream | 51.7 | 20.3 | 194 | 3775 | MALE   |  TRUE |\n",
       "| Chinstrap | Dream | 47.0 | 17.3 | 185 | 3700 | FEMALE | FALSE |\n",
       "| Chinstrap | Dream | 52.0 | 18.1 | 201 | 4050 | MALE   |  TRUE |\n",
       "| Chinstrap | Dream | 45.9 | 17.1 | 190 | 3575 | FEMALE | FALSE |\n",
       "| Chinstrap | Dream | 50.5 | 19.6 | 201 | 4050 | MALE   |  TRUE |\n",
       "| Chinstrap | Dream | 50.3 | 20.0 | 197 | 3300 | MALE   |  TRUE |\n",
       "| Chinstrap | Dream | 58.0 | 17.8 | 181 | 3700 | FEMALE |  TRUE |\n",
       "| Chinstrap | Dream | 46.4 | 18.6 | 190 | 3450 | FEMALE | FALSE |\n",
       "| Chinstrap | Dream | 49.2 | 18.2 | 195 | 4400 | MALE   |  TRUE |\n",
       "| Chinstrap | Dream | 42.4 | 17.3 | 181 | 3600 | FEMALE | FALSE |\n",
       "| Chinstrap | Dream | 48.5 | 17.5 | 191 | 3400 | MALE   |  TRUE |\n",
       "| Chinstrap | Dream | 43.2 | 16.6 | 187 | 2900 | FEMALE | FALSE |\n",
       "| Chinstrap | Dream | 50.6 | 19.4 | 193 | 3800 | MALE   |  TRUE |\n",
       "| Chinstrap | Dream | 46.7 | 17.9 | 195 | 3300 | FEMALE | FALSE |\n",
       "| Chinstrap | Dream | 52.0 | 19.0 | 197 | 4150 | MALE   |  TRUE |\n",
       "| Chinstrap | Dream | 50.5 | 18.4 | 200 | 3400 | FEMALE |  TRUE |\n",
       "| Chinstrap | Dream | 49.5 | 19.0 | 200 | 3800 | MALE   |  TRUE |\n",
       "| Chinstrap | Dream | 46.4 | 17.8 | 191 | 3700 | FEMALE | FALSE |\n",
       "| Chinstrap | Dream | 52.8 | 20.0 | 205 | 4550 | MALE   |  TRUE |\n",
       "| ⋮ | ⋮ | ⋮ | ⋮ | ⋮ | ⋮ | ⋮ | ⋮ |\n",
       "| Chinstrap | Dream | 46.9 | 16.6 | 192 | 2700 | FEMALE | FALSE |\n",
       "| Chinstrap | Dream | 53.5 | 19.9 | 205 | 4500 | MALE   |  TRUE |\n",
       "| Chinstrap | Dream | 49.0 | 19.5 | 210 | 3950 | MALE   |  TRUE |\n",
       "| Chinstrap | Dream | 46.2 | 17.5 | 187 | 3650 | FEMALE | FALSE |\n",
       "| Chinstrap | Dream | 50.9 | 19.1 | 196 | 3550 | MALE   |  TRUE |\n",
       "| Chinstrap | Dream | 45.5 | 17.0 | 196 | 3500 | FEMALE | FALSE |\n",
       "| Chinstrap | Dream | 50.9 | 17.9 | 196 | 3675 | FEMALE |  TRUE |\n",
       "| Chinstrap | Dream | 50.8 | 18.5 | 201 | 4450 | MALE   |  TRUE |\n",
       "| Chinstrap | Dream | 50.1 | 17.9 | 190 | 3400 | FEMALE |  TRUE |\n",
       "| Chinstrap | Dream | 49.0 | 19.6 | 212 | 4300 | MALE   |  TRUE |\n",
       "| Chinstrap | Dream | 51.5 | 18.7 | 187 | 3250 | MALE   |  TRUE |\n",
       "| Chinstrap | Dream | 49.8 | 17.3 | 198 | 3675 | FEMALE |  TRUE |\n",
       "| Chinstrap | Dream | 48.1 | 16.4 | 199 | 3325 | FEMALE |  TRUE |\n",
       "| Chinstrap | Dream | 51.4 | 19.0 | 201 | 3950 | MALE   |  TRUE |\n",
       "| Chinstrap | Dream | 45.7 | 17.3 | 193 | 3600 | FEMALE | FALSE |\n",
       "| Chinstrap | Dream | 50.7 | 19.7 | 203 | 4050 | MALE   |  TRUE |\n",
       "| Chinstrap | Dream | 42.5 | 17.3 | 187 | 3350 | FEMALE | FALSE |\n",
       "| Chinstrap | Dream | 52.2 | 18.8 | 197 | 3450 | MALE   |  TRUE |\n",
       "| Chinstrap | Dream | 45.2 | 16.6 | 191 | 3250 | FEMALE | FALSE |\n",
       "| Chinstrap | Dream | 49.3 | 19.9 | 203 | 4050 | MALE   |  TRUE |\n",
       "| Chinstrap | Dream | 50.2 | 18.8 | 202 | 3800 | MALE   |  TRUE |\n",
       "| Chinstrap | Dream | 45.6 | 19.4 | 194 | 3525 | FEMALE | FALSE |\n",
       "| Chinstrap | Dream | 51.9 | 19.5 | 206 | 3950 | MALE   |  TRUE |\n",
       "| Chinstrap | Dream | 46.8 | 16.5 | 189 | 3650 | FEMALE | FALSE |\n",
       "| Chinstrap | Dream | 45.7 | 17.0 | 195 | 3650 | FEMALE | FALSE |\n",
       "| Chinstrap | Dream | 55.8 | 19.8 | 207 | 4000 | MALE   |  TRUE |\n",
       "| Chinstrap | Dream | 43.5 | 18.1 | 202 | 3400 | FEMALE | FALSE |\n",
       "| Chinstrap | Dream | 49.6 | 18.2 | 193 | 3775 | MALE   |  TRUE |\n",
       "| Chinstrap | Dream | 50.8 | 19.0 | 210 | 4100 | MALE   |  TRUE |\n",
       "| Chinstrap | Dream | 50.2 | 18.7 | 198 | 3775 | FEMALE |  TRUE |\n",
       "\n"
      ],
      "text/plain": [
       "   species   island bill_length_mm bill_depth_mm flipper_length_mm body_mass_g\n",
       "1  Chinstrap Dream  46.5           17.9          192               3500       \n",
       "2  Chinstrap Dream  50.0           19.5          196               3900       \n",
       "3  Chinstrap Dream  51.3           19.2          193               3650       \n",
       "4  Chinstrap Dream  45.4           18.7          188               3525       \n",
       "5  Chinstrap Dream  52.7           19.8          197               3725       \n",
       "6  Chinstrap Dream  45.2           17.8          198               3950       \n",
       "7  Chinstrap Dream  46.1           18.2          178               3250       \n",
       "8  Chinstrap Dream  51.3           18.2          197               3750       \n",
       "9  Chinstrap Dream  46.0           18.9          195               4150       \n",
       "10 Chinstrap Dream  51.3           19.9          198               3700       \n",
       "11 Chinstrap Dream  46.6           17.8          193               3800       \n",
       "12 Chinstrap Dream  51.7           20.3          194               3775       \n",
       "13 Chinstrap Dream  47.0           17.3          185               3700       \n",
       "14 Chinstrap Dream  52.0           18.1          201               4050       \n",
       "15 Chinstrap Dream  45.9           17.1          190               3575       \n",
       "16 Chinstrap Dream  50.5           19.6          201               4050       \n",
       "17 Chinstrap Dream  50.3           20.0          197               3300       \n",
       "18 Chinstrap Dream  58.0           17.8          181               3700       \n",
       "19 Chinstrap Dream  46.4           18.6          190               3450       \n",
       "20 Chinstrap Dream  49.2           18.2          195               4400       \n",
       "21 Chinstrap Dream  42.4           17.3          181               3600       \n",
       "22 Chinstrap Dream  48.5           17.5          191               3400       \n",
       "23 Chinstrap Dream  43.2           16.6          187               2900       \n",
       "24 Chinstrap Dream  50.6           19.4          193               3800       \n",
       "25 Chinstrap Dream  46.7           17.9          195               3300       \n",
       "26 Chinstrap Dream  52.0           19.0          197               4150       \n",
       "27 Chinstrap Dream  50.5           18.4          200               3400       \n",
       "28 Chinstrap Dream  49.5           19.0          200               3800       \n",
       "29 Chinstrap Dream  46.4           17.8          191               3700       \n",
       "30 Chinstrap Dream  52.8           20.0          205               4550       \n",
       "⋮  ⋮         ⋮      ⋮              ⋮             ⋮                 ⋮          \n",
       "39 Chinstrap Dream  46.9           16.6          192               2700       \n",
       "40 Chinstrap Dream  53.5           19.9          205               4500       \n",
       "41 Chinstrap Dream  49.0           19.5          210               3950       \n",
       "42 Chinstrap Dream  46.2           17.5          187               3650       \n",
       "43 Chinstrap Dream  50.9           19.1          196               3550       \n",
       "44 Chinstrap Dream  45.5           17.0          196               3500       \n",
       "45 Chinstrap Dream  50.9           17.9          196               3675       \n",
       "46 Chinstrap Dream  50.8           18.5          201               4450       \n",
       "47 Chinstrap Dream  50.1           17.9          190               3400       \n",
       "48 Chinstrap Dream  49.0           19.6          212               4300       \n",
       "49 Chinstrap Dream  51.5           18.7          187               3250       \n",
       "50 Chinstrap Dream  49.8           17.3          198               3675       \n",
       "51 Chinstrap Dream  48.1           16.4          199               3325       \n",
       "52 Chinstrap Dream  51.4           19.0          201               3950       \n",
       "53 Chinstrap Dream  45.7           17.3          193               3600       \n",
       "54 Chinstrap Dream  50.7           19.7          203               4050       \n",
       "55 Chinstrap Dream  42.5           17.3          187               3350       \n",
       "56 Chinstrap Dream  52.2           18.8          197               3450       \n",
       "57 Chinstrap Dream  45.2           16.6          191               3250       \n",
       "58 Chinstrap Dream  49.3           19.9          203               4050       \n",
       "59 Chinstrap Dream  50.2           18.8          202               3800       \n",
       "60 Chinstrap Dream  45.6           19.4          194               3525       \n",
       "61 Chinstrap Dream  51.9           19.5          206               3950       \n",
       "62 Chinstrap Dream  46.8           16.5          189               3650       \n",
       "63 Chinstrap Dream  45.7           17.0          195               3650       \n",
       "64 Chinstrap Dream  55.8           19.8          207               4000       \n",
       "65 Chinstrap Dream  43.5           18.1          202               3400       \n",
       "66 Chinstrap Dream  49.6           18.2          193               3775       \n",
       "67 Chinstrap Dream  50.8           19.0          210               4100       \n",
       "68 Chinstrap Dream  50.2           18.7          198               3775       \n",
       "   sex    splitter_factor\n",
       "1  FEMALE FALSE          \n",
       "2  MALE    TRUE          \n",
       "3  MALE    TRUE          \n",
       "4  FEMALE FALSE          \n",
       "5  MALE    TRUE          \n",
       "6  FEMALE FALSE          \n",
       "7  FEMALE FALSE          \n",
       "8  MALE    TRUE          \n",
       "9  FEMALE FALSE          \n",
       "10 MALE    TRUE          \n",
       "11 FEMALE FALSE          \n",
       "12 MALE    TRUE          \n",
       "13 FEMALE FALSE          \n",
       "14 MALE    TRUE          \n",
       "15 FEMALE FALSE          \n",
       "16 MALE    TRUE          \n",
       "17 MALE    TRUE          \n",
       "18 FEMALE  TRUE          \n",
       "19 FEMALE FALSE          \n",
       "20 MALE    TRUE          \n",
       "21 FEMALE FALSE          \n",
       "22 MALE    TRUE          \n",
       "23 FEMALE FALSE          \n",
       "24 MALE    TRUE          \n",
       "25 FEMALE FALSE          \n",
       "26 MALE    TRUE          \n",
       "27 FEMALE  TRUE          \n",
       "28 MALE    TRUE          \n",
       "29 FEMALE FALSE          \n",
       "30 MALE    TRUE          \n",
       "⋮  ⋮      ⋮              \n",
       "39 FEMALE FALSE          \n",
       "40 MALE    TRUE          \n",
       "41 MALE    TRUE          \n",
       "42 FEMALE FALSE          \n",
       "43 MALE    TRUE          \n",
       "44 FEMALE FALSE          \n",
       "45 FEMALE  TRUE          \n",
       "46 MALE    TRUE          \n",
       "47 FEMALE  TRUE          \n",
       "48 MALE    TRUE          \n",
       "49 MALE    TRUE          \n",
       "50 FEMALE  TRUE          \n",
       "51 FEMALE  TRUE          \n",
       "52 MALE    TRUE          \n",
       "53 FEMALE FALSE          \n",
       "54 MALE    TRUE          \n",
       "55 FEMALE FALSE          \n",
       "56 MALE    TRUE          \n",
       "57 FEMALE FALSE          \n",
       "58 MALE    TRUE          \n",
       "59 MALE    TRUE          \n",
       "60 FEMALE FALSE          \n",
       "61 MALE    TRUE          \n",
       "62 FEMALE FALSE          \n",
       "63 FEMALE FALSE          \n",
       "64 MALE    TRUE          \n",
       "65 FEMALE FALSE          \n",
       "66 MALE    TRUE          \n",
       "67 MALE    TRUE          \n",
       "68 FEMALE  TRUE          "
      ]
     },
     "metadata": {},
     "output_type": "display_data"
    }
   ],
   "source": [
    "library(dplyr)\n",
    "result <- filter(df,species == 'Chinstrap')\n",
    "result <- result %>% group_by(bill_length_mm>= 48)\n",
    "colnames(result)[8] <- \"splitter_factor\"\n",
    "\n",
    "result"
   ]
  },
  {
   "cell_type": "markdown",
   "id": "65ae74a2",
   "metadata": {},
   "source": [
    "Now it is a good idea to draw a 'universal' plot to compare the two groups. Draw a plot over Chinstrap penguins that uses the following aesthetic mapping:\n",
    "\n",
    "- Color: The group in which the penguin lies (based on its bill length)\n",
    "- Shape: Sex\n",
    "- x-coordinate: Bill length\n",
    "- y-coordinate: Bill depth\n",
    "- Size: Flipper length\n",
    "- Transparency: Body mass"
   ]
  },
  {
   "cell_type": "code",
   "execution_count": 27,
   "id": "5910005f",
   "metadata": {},
   "outputs": [
    {
     "data": {
      "image/png": "[encoded data removed]",
      "text/plain": [
       "plot without title"
      ]
     },
     "metadata": {
      "image/png": {
       "height": 420,
       "width": 420
      }
     },
     "output_type": "display_data"
    }
   ],
   "source": [
    "ggplot(result,aes(x = bill_length_mm,y = bill_depth_mm, shape = sex, color = splitter_factor, size = flipper_length_mm , transparency = body_mass_g )) + geom_point()"
   ]
  },
  {
   "cell_type": "markdown",
   "id": "3a27ab78",
   "metadata": {},
   "source": [
    "Now we can find a specific property in the above list that separates the two groups. If you did not find it, take a deeper look at the plot. After some careful observation, it will emerge. You can run the cell below to confirm your guess. We call this property Q."
   ]
  },
  {
   "cell_type": "code",
   "execution_count": 28,
   "id": "12fc9b1e",
   "metadata": {},
   "outputs": [
    {
     "name": "stdout",
     "output_type": "stream",
     "text": [
      "[1] \"the two groups generally differ in sex. one of the groups mainly consists of males and the other consists of females\"\n"
     ]
    }
   ],
   "source": [
    "print(sapply(lapply(strsplit(\"selamef fo stsisnoc rehto eht dna selam fo stsisnoc ylniam spuorg eht fo eno .xes ni reffid yllareneg spuorg owt eht\", NULL), rev), paste, collapse=\"\"))"
   ]
  },
  {
   "cell_type": "markdown",
   "id": "562351e5",
   "metadata": {},
   "source": [
    "Now draw a plot for chinstrap penguins, split by Q, that shows the distribution of bill length of each group. Hint: You can simply add (color = Q) in the aesthetic mapping."
   ]
  },
  {
   "cell_type": "code",
   "execution_count": 30,
   "id": "532969be",
   "metadata": {},
   "outputs": [
    {
     "data": {
      "image/png": "[encoded data removed]",
      "text/plain": [
       "plot without title"
      ]
     },
     "metadata": {
      "image/png": {
       "height": 420,
       "width": 420
      }
     },
     "output_type": "display_data"
    }
   ],
   "source": [
    "ggplot(result, aes(bill_length_mm, colour = sex)) +\n",
    "  geom_density()"
   ]
  },
  {
   "cell_type": "markdown",
   "id": "0e8cecc0",
   "metadata": {},
   "source": [
    "You can see that this time the distributions are really closer to normal distribution. But there are still some discrepancies! Here, we terminate our investigation in this part to avoid lengthening the exercise. We have, however, gained some good understanding of the relation between bill length, bill depth, specie, and sex of penguins."
   ]
  },
  {
   "cell_type": "markdown",
   "id": "56362406",
   "metadata": {},
   "source": [
    "## Back to the Main Course\n",
    "\n",
    "Now that we have investigated the effect of the sex parameter on the distribution of other variables for one specie, we can apply our method to the rest of the data. Using the recent plots that you have drawn, write a code to visualize all of the data in a single graph. You can use the comprehensive plot that you drew for a single specie in the previous part. One possible aesthetic mapping is like this:\n",
    "- Color: Specie\n",
    "- Shape: Sex\n",
    "- x-Coordination: Bill length\n",
    "- y-Coordination: Bill depth\n",
    "- Size: Flipper length\n",
    "- Transparency: Body mass"
   ]
  },
  {
   "cell_type": "code",
   "execution_count": 31,
   "id": "606dd041",
   "metadata": {},
   "outputs": [
    {
     "data": {
      "image/png": "[encoded data removed]",
      "text/plain": [
       "plot without title"
      ]
     },
     "metadata": {
      "image/png": {
       "height": 420,
       "width": 420
      }
     },
     "output_type": "display_data"
    }
   ],
   "source": [
    "ggplot(df, aes(x=bill_length_mm, y=bill_depth_mm, shape=sex, color=species, size=flipper_length_mm, fill=body_mass_g)) + geom_point()"
   ]
  },
  {
   "cell_type": "markdown",
   "id": "447abfd4",
   "metadata": {},
   "source": [
    "Using this new plot, we can compare the three species and observe the differences between them for every variable, and extract new patterns. Analyze the plot and describe what you observed."
   ]
  },
  {
   "cell_type": "markdown",
   "id": "65a0b805",
   "metadata": {},
   "source": [
    "\n",
    "\n",
    "| species  |   bill_length|  bill_depth |  mass | flipper length  |\n",
    "|---|---|---|---|---|\n",
    "|  Adelie |  low | high  | low  |  low |\n",
    "|  Chinstrap |  high |  high | low  |  low |\n",
    "|  Gentoo |  high |  low |  high | high  |\n",
    "\n",
    "*observations are relative to other species*\n"
   ]
  },
  {
   "cell_type": "markdown",
   "id": "d0caf19c",
   "metadata": {},
   "source": [
    "So far, we have drawn many plots in order to extract new information and hidden facts from the dataset. But we did not consider the island variable in our exploration. Now we want to add it to our consideration. Write a code to draw a bar plot that shows the population of the three species on every island."
   ]
  },
  {
   "cell_type": "code",
   "execution_count": 32,
   "id": "d0c68639",
   "metadata": {},
   "outputs": [
    {
     "data": {
      "image/png": "[encoded data removed]",
      "text/plain": [
       "plot without title"
      ]
     },
     "metadata": {
      "image/png": {
       "height": 420,
       "width": 420
      }
     },
     "output_type": "display_data"
    }
   ],
   "source": [
    "ggplot(df, aes(island, fill=species)) + geom_bar()"
   ]
  },
  {
   "cell_type": "markdown",
   "id": "40b43813",
   "metadata": {},
   "source": [
    "How is the distribution of penguins on islands? Does it make sense? Can you find a rational explanation for species having different populations on islands?"
   ]
  },
  {
   "cell_type": "markdown",
   "id": "ba495c37",
   "metadata": {},
   "source": [
    "- Chinstrap is found just on Dream\n",
    "- Adelle is found on all three islands\n",
    "- Gentoo is found just on Biscoe\n",
    "- It's not feasible to justify the populations on each island."
   ]
  },
  {
   "cell_type": "markdown",
   "id": "7efc4ab3",
   "metadata": {},
   "source": [
    "## Feedback Station, Again!\n",
    "We found that the non-normal distribution of bill length and depth could be partially explained as an impact of sex and specie. We drew a plot based on all data points of df to compare the basic properties of different species. In addition, we tried to explain why the population of penguins is different from island to island, although this remains a guess and further studies are needed. \n",
    "\n",
    "Now it is possible to claim that we have obtained initial knowledge and 'insight' about the data. If this exercise was real statistical research, we were ready to start our main job. Here, to evaluate your understanding of data, make it a bit fun, and extract some 'application' from this gained knowledge, we have added a surprising section to this question:  Regression Analysis!"
   ]
  },
  {
   "cell_type": "markdown",
   "id": "4cc0837e",
   "metadata": {},
   "source": [
    "## Surprising Section: Regression Analysis!\n",
    "\n",
    "In this part, your task is to reload df from the .csv file, put its rows containing NA values in another data frame, say df_na_rows, and try to fill those NA values based on what you understand from the whole data frame. For example, if a datapoint has the 'sex' parameter missed, you can try to retrieve that piece of information by considering the bill length, bill depth, and specie of that penguin."
   ]
  },
  {
   "cell_type": "markdown",
   "id": "79af8629",
   "metadata": {},
   "source": [
    "<font color=#FF7500 size=5>\n",
    "    Question 2 - Exploring on Your Own\n",
    "</font>\n",
    "\n",
    "In this question, we have some interesting real-world datasets. You are to pick one of these datasets and perform an EDA using what you have learned from the previous question."
   ]
  },
  {
   "cell_type": "markdown",
   "id": "d396ab83",
   "metadata": {},
   "source": [
    "## Datasets\n",
    "\n",
    "### Dataset 1: Forbes Highest Paid Athletes 1990-2020\n",
    "\n",
    "Link to the dataset: https://www.kaggle.com/datasets/parulpandey/forbes-highest-paid-athletes-19902019\n",
    "\n",
    "*The data has been extracted from topendsports.com website\n",
    "\n",
    "### Dataset 2: IT Salary Survey for EU region(2018-2020)\n",
    "\n",
    "Link to the dataset: https://www.kaggle.com/datasets/parulpandey/2020-it-salary-survey-for-eu-region\n",
    "\n",
    "### Dataset 3: Nutrition facts for Starbucks Menu\n",
    "\n",
    "Link to the dataset: https://www.kaggle.com/datasets/starbucks/starbucks-menu\n",
    "\n",
    "*Food composition data is in the public domain, but product names marked with ® or ™ remain the registered trademarks of Starbucks.\n",
    "\n",
    "### Dataset 4: Harry Potter Dataset\n",
    "\n",
    "Link to the dataset: https://www.kaggle.com/datasets/gulsahdemiryurek/harry-potter-dataset?select=Characters.csv\n",
    "\n",
    "*The other data were collected from pottermore.com and https://harrypotter.fandom.com/wiki/Main_Page\n",
    "\n",
    "### Dataset 5: Netflix Movies and TV Shows\n",
    "\n",
    "Link to the dataset: https://www.kaggle.com/datasets/shivamb/netflix-shows\n",
    "\n",
    "### Dataset 6: Students Performance in Exams\n",
    "\n",
    "Link to the dataset: https://www.kaggle.com/datasets/spscientist/students-performance-in-exams\n",
    "\n",
    "### Dataset 7: Medical Cost Personal Datasets\n",
    "\n",
    "Link to the dataset: https://www.kaggle.com/datasets/mirichoi0218/insurance\n",
    "\n",
    "*The dataset is available on GitHub https://github.com/stedy/Machine-Learning-with-R-datasets"
   ]
  },
  {
   "cell_type": "code",
   "execution_count": 33,
   "id": "324691f6",
   "metadata": {},
   "outputs": [
    {
     "data": {
      "text/html": [
       "<table class=\"dataframe\">\n",
       "<caption>A data.frame: 1000 × 8</caption>\n",
       "<thead>\n",
       "\t<tr><th scope=col>gender</th><th scope=col>race.ethnicity</th><th scope=col>parental.level.of.education</th><th scope=col>lunch</th><th scope=col>test.preparation.course</th><th scope=col>math.score</th><th scope=col>reading.score</th><th scope=col>writing.score</th></tr>\n",
       "\t<tr><th scope=col>&lt;chr&gt;</th><th scope=col>&lt;chr&gt;</th><th scope=col>&lt;chr&gt;</th><th scope=col>&lt;chr&gt;</th><th scope=col>&lt;chr&gt;</th><th scope=col>&lt;int&gt;</th><th scope=col>&lt;int&gt;</th><th scope=col>&lt;int&gt;</th></tr>\n",
       "</thead>\n",
       "<tbody>\n",
       "\t<tr><td>female</td><td>group B</td><td>bachelor's degree </td><td>standard    </td><td>none     </td><td>72</td><td>72</td><td>74</td></tr>\n",
       "\t<tr><td>female</td><td>group C</td><td>some college      </td><td>standard    </td><td>completed</td><td>69</td><td>90</td><td>88</td></tr>\n",
       "\t<tr><td>female</td><td>group B</td><td>master's degree   </td><td>standard    </td><td>none     </td><td>90</td><td>95</td><td>93</td></tr>\n",
       "\t<tr><td>male  </td><td>group A</td><td>associate's degree</td><td>free/reduced</td><td>none     </td><td>47</td><td>57</td><td>44</td></tr>\n",
       "\t<tr><td>male  </td><td>group C</td><td>some college      </td><td>standard    </td><td>none     </td><td>76</td><td>78</td><td>75</td></tr>\n",
       "\t<tr><td>female</td><td>group B</td><td>associate's degree</td><td>standard    </td><td>none     </td><td>71</td><td>83</td><td>78</td></tr>\n",
       "\t<tr><td>female</td><td>group B</td><td>some college      </td><td>standard    </td><td>completed</td><td>88</td><td>95</td><td>92</td></tr>\n",
       "\t<tr><td>male  </td><td>group B</td><td>some college      </td><td>free/reduced</td><td>none     </td><td>40</td><td>43</td><td>39</td></tr>\n",
       "\t<tr><td>male  </td><td>group D</td><td>high school       </td><td>free/reduced</td><td>completed</td><td>64</td><td>64</td><td>67</td></tr>\n",
       "\t<tr><td>female</td><td>group B</td><td>high school       </td><td>free/reduced</td><td>none     </td><td>38</td><td>60</td><td>50</td></tr>\n",
       "\t<tr><td>male  </td><td>group C</td><td>associate's degree</td><td>standard    </td><td>none     </td><td>58</td><td>54</td><td>52</td></tr>\n",
       "\t<tr><td>male  </td><td>group D</td><td>associate's degree</td><td>standard    </td><td>none     </td><td>40</td><td>52</td><td>43</td></tr>\n",
       "\t<tr><td>female</td><td>group B</td><td>high school       </td><td>standard    </td><td>none     </td><td>65</td><td>81</td><td>73</td></tr>\n",
       "\t<tr><td>male  </td><td>group A</td><td>some college      </td><td>standard    </td><td>completed</td><td>78</td><td>72</td><td>70</td></tr>\n",
       "\t<tr><td>female</td><td>group A</td><td>master's degree   </td><td>standard    </td><td>none     </td><td>50</td><td>53</td><td>58</td></tr>\n",
       "\t<tr><td>female</td><td>group C</td><td>some high school  </td><td>standard    </td><td>none     </td><td>69</td><td>75</td><td>78</td></tr>\n",
       "\t<tr><td>male  </td><td>group C</td><td>high school       </td><td>standard    </td><td>none     </td><td>88</td><td>89</td><td>86</td></tr>\n",
       "\t<tr><td>female</td><td>group B</td><td>some high school  </td><td>free/reduced</td><td>none     </td><td>18</td><td>32</td><td>28</td></tr>\n",
       "\t<tr><td>male  </td><td>group C</td><td>master's degree   </td><td>free/reduced</td><td>completed</td><td>46</td><td>42</td><td>46</td></tr>\n",
       "\t<tr><td>female</td><td>group C</td><td>associate's degree</td><td>free/reduced</td><td>none     </td><td>54</td><td>58</td><td>61</td></tr>\n",
       "\t<tr><td>male  </td><td>group D</td><td>high school       </td><td>standard    </td><td>none     </td><td>66</td><td>69</td><td>63</td></tr>\n",
       "\t<tr><td>female</td><td>group B</td><td>some college      </td><td>free/reduced</td><td>completed</td><td>65</td><td>75</td><td>70</td></tr>\n",
       "\t<tr><td>male  </td><td>group D</td><td>some college      </td><td>standard    </td><td>none     </td><td>44</td><td>54</td><td>53</td></tr>\n",
       "\t<tr><td>female</td><td>group C</td><td>some high school  </td><td>standard    </td><td>none     </td><td>69</td><td>73</td><td>73</td></tr>\n",
       "\t<tr><td>male  </td><td>group D</td><td>bachelor's degree </td><td>free/reduced</td><td>completed</td><td>74</td><td>71</td><td>80</td></tr>\n",
       "\t<tr><td>male  </td><td>group A</td><td>master's degree   </td><td>free/reduced</td><td>none     </td><td>73</td><td>74</td><td>72</td></tr>\n",
       "\t<tr><td>male  </td><td>group B</td><td>some college      </td><td>standard    </td><td>none     </td><td>69</td><td>54</td><td>55</td></tr>\n",
       "\t<tr><td>female</td><td>group C</td><td>bachelor's degree </td><td>standard    </td><td>none     </td><td>67</td><td>69</td><td>75</td></tr>\n",
       "\t<tr><td>male  </td><td>group C</td><td>high school       </td><td>standard    </td><td>none     </td><td>70</td><td>70</td><td>65</td></tr>\n",
       "\t<tr><td>female</td><td>group D</td><td>master's degree   </td><td>standard    </td><td>none     </td><td>62</td><td>70</td><td>75</td></tr>\n",
       "\t<tr><td>⋮</td><td>⋮</td><td>⋮</td><td>⋮</td><td>⋮</td><td>⋮</td><td>⋮</td><td>⋮</td></tr>\n",
       "\t<tr><td>female</td><td>group D</td><td>bachelor's degree </td><td>standard    </td><td>none     </td><td>89</td><td>100</td><td>100</td></tr>\n",
       "\t<tr><td>male  </td><td>group C</td><td>some high school  </td><td>standard    </td><td>completed</td><td>78</td><td> 72</td><td> 69</td></tr>\n",
       "\t<tr><td>female</td><td>group A</td><td>high school       </td><td>free/reduced</td><td>completed</td><td>53</td><td> 50</td><td> 60</td></tr>\n",
       "\t<tr><td>female</td><td>group D</td><td>some college      </td><td>free/reduced</td><td>none     </td><td>49</td><td> 65</td><td> 61</td></tr>\n",
       "\t<tr><td>female</td><td>group A</td><td>some college      </td><td>standard    </td><td>none     </td><td>54</td><td> 63</td><td> 67</td></tr>\n",
       "\t<tr><td>female</td><td>group C</td><td>some college      </td><td>standard    </td><td>completed</td><td>64</td><td> 82</td><td> 77</td></tr>\n",
       "\t<tr><td>male  </td><td>group B</td><td>some college      </td><td>free/reduced</td><td>completed</td><td>60</td><td> 62</td><td> 60</td></tr>\n",
       "\t<tr><td>male  </td><td>group C</td><td>associate's degree</td><td>standard    </td><td>none     </td><td>62</td><td> 65</td><td> 58</td></tr>\n",
       "\t<tr><td>male  </td><td>group D</td><td>high school       </td><td>standard    </td><td>completed</td><td>55</td><td> 41</td><td> 48</td></tr>\n",
       "\t<tr><td>female</td><td>group C</td><td>associate's degree</td><td>standard    </td><td>none     </td><td>91</td><td> 95</td><td> 94</td></tr>\n",
       "\t<tr><td>female</td><td>group B</td><td>high school       </td><td>free/reduced</td><td>none     </td><td> 8</td><td> 24</td><td> 23</td></tr>\n",
       "\t<tr><td>male  </td><td>group D</td><td>some high school  </td><td>standard    </td><td>none     </td><td>81</td><td> 78</td><td> 78</td></tr>\n",
       "\t<tr><td>male  </td><td>group B</td><td>some high school  </td><td>standard    </td><td>completed</td><td>79</td><td> 85</td><td> 86</td></tr>\n",
       "\t<tr><td>female</td><td>group A</td><td>some college      </td><td>standard    </td><td>completed</td><td>78</td><td> 87</td><td> 91</td></tr>\n",
       "\t<tr><td>female</td><td>group C</td><td>some high school  </td><td>standard    </td><td>none     </td><td>74</td><td> 75</td><td> 82</td></tr>\n",
       "\t<tr><td>male  </td><td>group A</td><td>high school       </td><td>standard    </td><td>none     </td><td>57</td><td> 51</td><td> 54</td></tr>\n",
       "\t<tr><td>female</td><td>group C</td><td>associate's degree</td><td>standard    </td><td>none     </td><td>40</td><td> 59</td><td> 51</td></tr>\n",
       "\t<tr><td>male  </td><td>group E</td><td>some high school  </td><td>standard    </td><td>completed</td><td>81</td><td> 75</td><td> 76</td></tr>\n",
       "\t<tr><td>female</td><td>group A</td><td>some high school  </td><td>free/reduced</td><td>none     </td><td>44</td><td> 45</td><td> 45</td></tr>\n",
       "\t<tr><td>female</td><td>group D</td><td>some college      </td><td>free/reduced</td><td>completed</td><td>67</td><td> 86</td><td> 83</td></tr>\n",
       "\t<tr><td>male  </td><td>group E</td><td>high school       </td><td>free/reduced</td><td>completed</td><td>86</td><td> 81</td><td> 75</td></tr>\n",
       "\t<tr><td>female</td><td>group B</td><td>some high school  </td><td>standard    </td><td>completed</td><td>65</td><td> 82</td><td> 78</td></tr>\n",
       "\t<tr><td>female</td><td>group D</td><td>associate's degree</td><td>free/reduced</td><td>none     </td><td>55</td><td> 76</td><td> 76</td></tr>\n",
       "\t<tr><td>female</td><td>group D</td><td>bachelor's degree </td><td>free/reduced</td><td>none     </td><td>62</td><td> 72</td><td> 74</td></tr>\n",
       "\t<tr><td>male  </td><td>group A</td><td>high school       </td><td>standard    </td><td>none     </td><td>63</td><td> 63</td><td> 62</td></tr>\n",
       "\t<tr><td>female</td><td>group E</td><td>master's degree   </td><td>standard    </td><td>completed</td><td>88</td><td> 99</td><td> 95</td></tr>\n",
       "\t<tr><td>male  </td><td>group C</td><td>high school       </td><td>free/reduced</td><td>none     </td><td>62</td><td> 55</td><td> 55</td></tr>\n",
       "\t<tr><td>female</td><td>group C</td><td>high school       </td><td>free/reduced</td><td>completed</td><td>59</td><td> 71</td><td> 65</td></tr>\n",
       "\t<tr><td>female</td><td>group D</td><td>some college      </td><td>standard    </td><td>completed</td><td>68</td><td> 78</td><td> 77</td></tr>\n",
       "\t<tr><td>female</td><td>group D</td><td>some college      </td><td>free/reduced</td><td>none     </td><td>77</td><td> 86</td><td> 86</td></tr>\n",
       "</tbody>\n",
       "</table>\n"
      ],
      "text/latex": [
       "A data.frame: 1000 × 8\n",
       "\\begin{tabular}{llllllll}\n",
       " gender & race.ethnicity & parental.level.of.education & lunch & test.preparation.course & math.score & reading.score & writing.score\\\\\n",
       " <chr> & <chr> & <chr> & <chr> & <chr> & <int> & <int> & <int>\\\\\n",
       "\\hline\n",
       "\t female & group B & bachelor's degree  & standard     & none      & 72 & 72 & 74\\\\\n",
       "\t female & group C & some college       & standard     & completed & 69 & 90 & 88\\\\\n",
       "\t female & group B & master's degree    & standard     & none      & 90 & 95 & 93\\\\\n",
       "\t male   & group A & associate's degree & free/reduced & none      & 47 & 57 & 44\\\\\n",
       "\t male   & group C & some college       & standard     & none      & 76 & 78 & 75\\\\\n",
       "\t female & group B & associate's degree & standard     & none      & 71 & 83 & 78\\\\\n",
       "\t female & group B & some college       & standard     & completed & 88 & 95 & 92\\\\\n",
       "\t male   & group B & some college       & free/reduced & none      & 40 & 43 & 39\\\\\n",
       "\t male   & group D & high school        & free/reduced & completed & 64 & 64 & 67\\\\\n",
       "\t female & group B & high school        & free/reduced & none      & 38 & 60 & 50\\\\\n",
       "\t male   & group C & associate's degree & standard     & none      & 58 & 54 & 52\\\\\n",
       "\t male   & group D & associate's degree & standard     & none      & 40 & 52 & 43\\\\\n",
       "\t female & group B & high school        & standard     & none      & 65 & 81 & 73\\\\\n",
       "\t male   & group A & some college       & standard     & completed & 78 & 72 & 70\\\\\n",
       "\t female & group A & master's degree    & standard     & none      & 50 & 53 & 58\\\\\n",
       "\t female & group C & some high school   & standard     & none      & 69 & 75 & 78\\\\\n",
       "\t male   & group C & high school        & standard     & none      & 88 & 89 & 86\\\\\n",
       "\t female & group B & some high school   & free/reduced & none      & 18 & 32 & 28\\\\\n",
       "\t male   & group C & master's degree    & free/reduced & completed & 46 & 42 & 46\\\\\n",
       "\t female & group C & associate's degree & free/reduced & none      & 54 & 58 & 61\\\\\n",
       "\t male   & group D & high school        & standard     & none      & 66 & 69 & 63\\\\\n",
       "\t female & group B & some college       & free/reduced & completed & 65 & 75 & 70\\\\\n",
       "\t male   & group D & some college       & standard     & none      & 44 & 54 & 53\\\\\n",
       "\t female & group C & some high school   & standard     & none      & 69 & 73 & 73\\\\\n",
       "\t male   & group D & bachelor's degree  & free/reduced & completed & 74 & 71 & 80\\\\\n",
       "\t male   & group A & master's degree    & free/reduced & none      & 73 & 74 & 72\\\\\n",
       "\t male   & group B & some college       & standard     & none      & 69 & 54 & 55\\\\\n",
       "\t female & group C & bachelor's degree  & standard     & none      & 67 & 69 & 75\\\\\n",
       "\t male   & group C & high school        & standard     & none      & 70 & 70 & 65\\\\\n",
       "\t female & group D & master's degree    & standard     & none      & 62 & 70 & 75\\\\\n",
       "\t ⋮ & ⋮ & ⋮ & ⋮ & ⋮ & ⋮ & ⋮ & ⋮\\\\\n",
       "\t female & group D & bachelor's degree  & standard     & none      & 89 & 100 & 100\\\\\n",
       "\t male   & group C & some high school   & standard     & completed & 78 &  72 &  69\\\\\n",
       "\t female & group A & high school        & free/reduced & completed & 53 &  50 &  60\\\\\n",
       "\t female & group D & some college       & free/reduced & none      & 49 &  65 &  61\\\\\n",
       "\t female & group A & some college       & standard     & none      & 54 &  63 &  67\\\\\n",
       "\t female & group C & some college       & standard     & completed & 64 &  82 &  77\\\\\n",
       "\t male   & group B & some college       & free/reduced & completed & 60 &  62 &  60\\\\\n",
       "\t male   & group C & associate's degree & standard     & none      & 62 &  65 &  58\\\\\n",
       "\t male   & group D & high school        & standard     & completed & 55 &  41 &  48\\\\\n",
       "\t female & group C & associate's degree & standard     & none      & 91 &  95 &  94\\\\\n",
       "\t female & group B & high school        & free/reduced & none      &  8 &  24 &  23\\\\\n",
       "\t male   & group D & some high school   & standard     & none      & 81 &  78 &  78\\\\\n",
       "\t male   & group B & some high school   & standard     & completed & 79 &  85 &  86\\\\\n",
       "\t female & group A & some college       & standard     & completed & 78 &  87 &  91\\\\\n",
       "\t female & group C & some high school   & standard     & none      & 74 &  75 &  82\\\\\n",
       "\t male   & group A & high school        & standard     & none      & 57 &  51 &  54\\\\\n",
       "\t female & group C & associate's degree & standard     & none      & 40 &  59 &  51\\\\\n",
       "\t male   & group E & some high school   & standard     & completed & 81 &  75 &  76\\\\\n",
       "\t female & group A & some high school   & free/reduced & none      & 44 &  45 &  45\\\\\n",
       "\t female & group D & some college       & free/reduced & completed & 67 &  86 &  83\\\\\n",
       "\t male   & group E & high school        & free/reduced & completed & 86 &  81 &  75\\\\\n",
       "\t female & group B & some high school   & standard     & completed & 65 &  82 &  78\\\\\n",
       "\t female & group D & associate's degree & free/reduced & none      & 55 &  76 &  76\\\\\n",
       "\t female & group D & bachelor's degree  & free/reduced & none      & 62 &  72 &  74\\\\\n",
       "\t male   & group A & high school        & standard     & none      & 63 &  63 &  62\\\\\n",
       "\t female & group E & master's degree    & standard     & completed & 88 &  99 &  95\\\\\n",
       "\t male   & group C & high school        & free/reduced & none      & 62 &  55 &  55\\\\\n",
       "\t female & group C & high school        & free/reduced & completed & 59 &  71 &  65\\\\\n",
       "\t female & group D & some college       & standard     & completed & 68 &  78 &  77\\\\\n",
       "\t female & group D & some college       & free/reduced & none      & 77 &  86 &  86\\\\\n",
       "\\end{tabular}\n"
      ],
      "text/markdown": [
       "\n",
       "A data.frame: 1000 × 8\n",
       "\n",
       "| gender &lt;chr&gt; | race.ethnicity &lt;chr&gt; | parental.level.of.education &lt;chr&gt; | lunch &lt;chr&gt; | test.preparation.course &lt;chr&gt; | math.score &lt;int&gt; | reading.score &lt;int&gt; | writing.score &lt;int&gt; |\n",
       "|---|---|---|---|---|---|---|---|\n",
       "| female | group B | bachelor's degree  | standard     | none      | 72 | 72 | 74 |\n",
       "| female | group C | some college       | standard     | completed | 69 | 90 | 88 |\n",
       "| female | group B | master's degree    | standard     | none      | 90 | 95 | 93 |\n",
       "| male   | group A | associate's degree | free/reduced | none      | 47 | 57 | 44 |\n",
       "| male   | group C | some college       | standard     | none      | 76 | 78 | 75 |\n",
       "| female | group B | associate's degree | standard     | none      | 71 | 83 | 78 |\n",
       "| female | group B | some college       | standard     | completed | 88 | 95 | 92 |\n",
       "| male   | group B | some college       | free/reduced | none      | 40 | 43 | 39 |\n",
       "| male   | group D | high school        | free/reduced | completed | 64 | 64 | 67 |\n",
       "| female | group B | high school        | free/reduced | none      | 38 | 60 | 50 |\n",
       "| male   | group C | associate's degree | standard     | none      | 58 | 54 | 52 |\n",
       "| male   | group D | associate's degree | standard     | none      | 40 | 52 | 43 |\n",
       "| female | group B | high school        | standard     | none      | 65 | 81 | 73 |\n",
       "| male   | group A | some college       | standard     | completed | 78 | 72 | 70 |\n",
       "| female | group A | master's degree    | standard     | none      | 50 | 53 | 58 |\n",
       "| female | group C | some high school   | standard     | none      | 69 | 75 | 78 |\n",
       "| male   | group C | high school        | standard     | none      | 88 | 89 | 86 |\n",
       "| female | group B | some high school   | free/reduced | none      | 18 | 32 | 28 |\n",
       "| male   | group C | master's degree    | free/reduced | completed | 46 | 42 | 46 |\n",
       "| female | group C | associate's degree | free/reduced | none      | 54 | 58 | 61 |\n",
       "| male   | group D | high school        | standard     | none      | 66 | 69 | 63 |\n",
       "| female | group B | some college       | free/reduced | completed | 65 | 75 | 70 |\n",
       "| male   | group D | some college       | standard     | none      | 44 | 54 | 53 |\n",
       "| female | group C | some high school   | standard     | none      | 69 | 73 | 73 |\n",
       "| male   | group D | bachelor's degree  | free/reduced | completed | 74 | 71 | 80 |\n",
       "| male   | group A | master's degree    | free/reduced | none      | 73 | 74 | 72 |\n",
       "| male   | group B | some college       | standard     | none      | 69 | 54 | 55 |\n",
       "| female | group C | bachelor's degree  | standard     | none      | 67 | 69 | 75 |\n",
       "| male   | group C | high school        | standard     | none      | 70 | 70 | 65 |\n",
       "| female | group D | master's degree    | standard     | none      | 62 | 70 | 75 |\n",
       "| ⋮ | ⋮ | ⋮ | ⋮ | ⋮ | ⋮ | ⋮ | ⋮ |\n",
       "| female | group D | bachelor's degree  | standard     | none      | 89 | 100 | 100 |\n",
       "| male   | group C | some high school   | standard     | completed | 78 |  72 |  69 |\n",
       "| female | group A | high school        | free/reduced | completed | 53 |  50 |  60 |\n",
       "| female | group D | some college       | free/reduced | none      | 49 |  65 |  61 |\n",
       "| female | group A | some college       | standard     | none      | 54 |  63 |  67 |\n",
       "| female | group C | some college       | standard     | completed | 64 |  82 |  77 |\n",
       "| male   | group B | some college       | free/reduced | completed | 60 |  62 |  60 |\n",
       "| male   | group C | associate's degree | standard     | none      | 62 |  65 |  58 |\n",
       "| male   | group D | high school        | standard     | completed | 55 |  41 |  48 |\n",
       "| female | group C | associate's degree | standard     | none      | 91 |  95 |  94 |\n",
       "| female | group B | high school        | free/reduced | none      |  8 |  24 |  23 |\n",
       "| male   | group D | some high school   | standard     | none      | 81 |  78 |  78 |\n",
       "| male   | group B | some high school   | standard     | completed | 79 |  85 |  86 |\n",
       "| female | group A | some college       | standard     | completed | 78 |  87 |  91 |\n",
       "| female | group C | some high school   | standard     | none      | 74 |  75 |  82 |\n",
       "| male   | group A | high school        | standard     | none      | 57 |  51 |  54 |\n",
       "| female | group C | associate's degree | standard     | none      | 40 |  59 |  51 |\n",
       "| male   | group E | some high school   | standard     | completed | 81 |  75 |  76 |\n",
       "| female | group A | some high school   | free/reduced | none      | 44 |  45 |  45 |\n",
       "| female | group D | some college       | free/reduced | completed | 67 |  86 |  83 |\n",
       "| male   | group E | high school        | free/reduced | completed | 86 |  81 |  75 |\n",
       "| female | group B | some high school   | standard     | completed | 65 |  82 |  78 |\n",
       "| female | group D | associate's degree | free/reduced | none      | 55 |  76 |  76 |\n",
       "| female | group D | bachelor's degree  | free/reduced | none      | 62 |  72 |  74 |\n",
       "| male   | group A | high school        | standard     | none      | 63 |  63 |  62 |\n",
       "| female | group E | master's degree    | standard     | completed | 88 |  99 |  95 |\n",
       "| male   | group C | high school        | free/reduced | none      | 62 |  55 |  55 |\n",
       "| female | group C | high school        | free/reduced | completed | 59 |  71 |  65 |\n",
       "| female | group D | some college       | standard     | completed | 68 |  78 |  77 |\n",
       "| female | group D | some college       | free/reduced | none      | 77 |  86 |  86 |\n",
       "\n"
      ],
      "text/plain": [
       "     gender race.ethnicity parental.level.of.education lunch       \n",
       "1    female group B        bachelor's degree           standard    \n",
       "2    female group C        some college                standard    \n",
       "3    female group B        master's degree             standard    \n",
       "4    male   group A        associate's degree          free/reduced\n",
       "5    male   group C        some college                standard    \n",
       "6    female group B        associate's degree          standard    \n",
       "7    female group B        some college                standard    \n",
       "8    male   group B        some college                free/reduced\n",
       "9    male   group D        high school                 free/reduced\n",
       "10   female group B        high school                 free/reduced\n",
       "11   male   group C        associate's degree          standard    \n",
       "12   male   group D        associate's degree          standard    \n",
       "13   female group B        high school                 standard    \n",
       "14   male   group A        some college                standard    \n",
       "15   female group A        master's degree             standard    \n",
       "16   female group C        some high school            standard    \n",
       "17   male   group C        high school                 standard    \n",
       "18   female group B        some high school            free/reduced\n",
       "19   male   group C        master's degree             free/reduced\n",
       "20   female group C        associate's degree          free/reduced\n",
       "21   male   group D        high school                 standard    \n",
       "22   female group B        some college                free/reduced\n",
       "23   male   group D        some college                standard    \n",
       "24   female group C        some high school            standard    \n",
       "25   male   group D        bachelor's degree           free/reduced\n",
       "26   male   group A        master's degree             free/reduced\n",
       "27   male   group B        some college                standard    \n",
       "28   female group C        bachelor's degree           standard    \n",
       "29   male   group C        high school                 standard    \n",
       "30   female group D        master's degree             standard    \n",
       "⋮    ⋮      ⋮              ⋮                           ⋮           \n",
       "971  female group D        bachelor's degree           standard    \n",
       "972  male   group C        some high school            standard    \n",
       "973  female group A        high school                 free/reduced\n",
       "974  female group D        some college                free/reduced\n",
       "975  female group A        some college                standard    \n",
       "976  female group C        some college                standard    \n",
       "977  male   group B        some college                free/reduced\n",
       "978  male   group C        associate's degree          standard    \n",
       "979  male   group D        high school                 standard    \n",
       "980  female group C        associate's degree          standard    \n",
       "981  female group B        high school                 free/reduced\n",
       "982  male   group D        some high school            standard    \n",
       "983  male   group B        some high school            standard    \n",
       "984  female group A        some college                standard    \n",
       "985  female group C        some high school            standard    \n",
       "986  male   group A        high school                 standard    \n",
       "987  female group C        associate's degree          standard    \n",
       "988  male   group E        some high school            standard    \n",
       "989  female group A        some high school            free/reduced\n",
       "990  female group D        some college                free/reduced\n",
       "991  male   group E        high school                 free/reduced\n",
       "992  female group B        some high school            standard    \n",
       "993  female group D        associate's degree          free/reduced\n",
       "994  female group D        bachelor's degree           free/reduced\n",
       "995  male   group A        high school                 standard    \n",
       "996  female group E        master's degree             standard    \n",
       "997  male   group C        high school                 free/reduced\n",
       "998  female group C        high school                 free/reduced\n",
       "999  female group D        some college                standard    \n",
       "1000 female group D        some college                free/reduced\n",
       "     test.preparation.course math.score reading.score writing.score\n",
       "1    none                    72         72            74           \n",
       "2    completed               69         90            88           \n",
       "3    none                    90         95            93           \n",
       "4    none                    47         57            44           \n",
       "5    none                    76         78            75           \n",
       "6    none                    71         83            78           \n",
       "7    completed               88         95            92           \n",
       "8    none                    40         43            39           \n",
       "9    completed               64         64            67           \n",
       "10   none                    38         60            50           \n",
       "11   none                    58         54            52           \n",
       "12   none                    40         52            43           \n",
       "13   none                    65         81            73           \n",
       "14   completed               78         72            70           \n",
       "15   none                    50         53            58           \n",
       "16   none                    69         75            78           \n",
       "17   none                    88         89            86           \n",
       "18   none                    18         32            28           \n",
       "19   completed               46         42            46           \n",
       "20   none                    54         58            61           \n",
       "21   none                    66         69            63           \n",
       "22   completed               65         75            70           \n",
       "23   none                    44         54            53           \n",
       "24   none                    69         73            73           \n",
       "25   completed               74         71            80           \n",
       "26   none                    73         74            72           \n",
       "27   none                    69         54            55           \n",
       "28   none                    67         69            75           \n",
       "29   none                    70         70            65           \n",
       "30   none                    62         70            75           \n",
       "⋮    ⋮                       ⋮          ⋮             ⋮            \n",
       "971  none                    89         100           100          \n",
       "972  completed               78          72            69          \n",
       "973  completed               53          50            60          \n",
       "974  none                    49          65            61          \n",
       "975  none                    54          63            67          \n",
       "976  completed               64          82            77          \n",
       "977  completed               60          62            60          \n",
       "978  none                    62          65            58          \n",
       "979  completed               55          41            48          \n",
       "980  none                    91          95            94          \n",
       "981  none                     8          24            23          \n",
       "982  none                    81          78            78          \n",
       "983  completed               79          85            86          \n",
       "984  completed               78          87            91          \n",
       "985  none                    74          75            82          \n",
       "986  none                    57          51            54          \n",
       "987  none                    40          59            51          \n",
       "988  completed               81          75            76          \n",
       "989  none                    44          45            45          \n",
       "990  completed               67          86            83          \n",
       "991  completed               86          81            75          \n",
       "992  completed               65          82            78          \n",
       "993  none                    55          76            76          \n",
       "994  none                    62          72            74          \n",
       "995  none                    63          63            62          \n",
       "996  completed               88          99            95          \n",
       "997  none                    62          55            55          \n",
       "998  completed               59          71            65          \n",
       "999  completed               68          78            77          \n",
       "1000 none                    77          86            86          "
      ]
     },
     "metadata": {},
     "output_type": "display_data"
    }
   ],
   "source": [
    "data <- read.csv('StudentsPerformance.csv')\n",
    "data"
   ]
  },
  {
   "cell_type": "code",
   "execution_count": 34,
   "id": "7b15353e",
   "metadata": {},
   "outputs": [
    {
     "data": {
      "text/plain": [
       "    gender          race.ethnicity     parental.level.of.education\n",
       " Length:1000        Length:1000        Length:1000                \n",
       " Class :character   Class :character   Class :character           \n",
       " Mode  :character   Mode  :character   Mode  :character           \n",
       "                                                                  \n",
       "                                                                  \n",
       "                                                                  \n",
       "    lunch           test.preparation.course   math.score     reading.score   \n",
       " Length:1000        Length:1000             Min.   :  0.00   Min.   : 17.00  \n",
       " Class :character   Class :character        1st Qu.: 57.00   1st Qu.: 59.00  \n",
       " Mode  :character   Mode  :character        Median : 66.00   Median : 70.00  \n",
       "                                            Mean   : 66.09   Mean   : 69.17  \n",
       "                                            3rd Qu.: 77.00   3rd Qu.: 79.00  \n",
       "                                            Max.   :100.00   Max.   :100.00  \n",
       " writing.score   \n",
       " Min.   : 10.00  \n",
       " 1st Qu.: 57.75  \n",
       " Median : 69.00  \n",
       " Mean   : 68.05  \n",
       " 3rd Qu.: 79.00  \n",
       " Max.   :100.00  "
      ]
     },
     "metadata": {},
     "output_type": "display_data"
    }
   ],
   "source": [
    "summary <- summary(data)\n",
    "summary"
   ]
  },
  {
   "cell_type": "code",
   "execution_count": 36,
   "id": "65725aea",
   "metadata": {},
   "outputs": [
    {
     "data": {
      "image/png": "[encoded data removed]",
      "text/plain": [
       "Plot with title \"histogram\""
      ]
     },
     "metadata": {
      "image/png": {
       "height": 420,
       "width": 420
      }
     },
     "output_type": "display_data"
    }
   ],
   "source": [
    "hist(data$math.score, xlab='math score', main = \"histogram\")"
   ]
  },
  {
   "cell_type": "code",
   "execution_count": 37,
   "id": "0f957b8b",
   "metadata": {},
   "outputs": [
    {
     "data": {
      "image/png": "[encoded data removed]",
      "text/plain": [
       "Plot with title \"histogram\""
      ]
     },
     "metadata": {
      "image/png": {
       "height": 420,
       "width": 420
      }
     },
     "output_type": "display_data"
    }
   ],
   "source": [
    "hist(data$reading.score, xlab='reading score', main = \"histogram\")"
   ]
  },
  {
   "cell_type": "code",
   "execution_count": 38,
   "id": "11b55432",
   "metadata": {},
   "outputs": [
    {
     "data": {
      "image/png": "[encoded data removed]",
      "text/plain": [
       "Plot with title \"histogram\""
      ]
     },
     "metadata": {
      "image/png": {
       "height": 420,
       "width": 420
      }
     },
     "output_type": "display_data"
    }
   ],
   "source": [
    "hist(data$writing.score, xlab='writing score', main = \"histogram\")"
   ]
  },
  {
   "cell_type": "code",
   "execution_count": 39,
   "id": "849a1998",
   "metadata": {},
   "outputs": [
    {
     "data": {
      "image/png": "[encoded data removed]",
      "text/plain": [
       "plot without title"
      ]
     },
     "metadata": {
      "image/png": {
       "height": 420,
       "width": 420
      }
     },
     "output_type": "display_data"
    }
   ],
   "source": [
    "ggplot(data, aes(math.score, colour = gender)) + geom_density()"
   ]
  },
  {
   "cell_type": "code",
   "execution_count": 40,
   "id": "ae448e86",
   "metadata": {},
   "outputs": [
    {
     "data": {
      "image/png": "[encoded data removed]",
      "text/plain": [
       "plot without title"
      ]
     },
     "metadata": {
      "image/png": {
       "height": 420,
       "width": 420
      }
     },
     "output_type": "display_data"
    }
   ],
   "source": [
    "ggplot(data, aes(math.score, color = race.ethnicity)) + geom_density()"
   ]
  },
  {
   "cell_type": "code",
   "execution_count": 43,
   "id": "ff6101fb",
   "metadata": {},
   "outputs": [
    {
     "data": {
      "image/png": "[encoded data removed]",
      "text/plain": [
       "plot without title"
      ]
     },
     "metadata": {
      "image/png": {
       "height": 420,
       "width": 420
      }
     },
     "output_type": "display_data"
    }
   ],
   "source": [
    "ggplot(data,aes( math.score, color = parental.level.of.education)) + geom_density()\n",
    "# Just analyzed differnt parameters that could affect math scores\n",
    "# we recognized for each factor the distribution was normal\n",
    "# In parent degree we got some strange result"
   ]
  },
  {
   "cell_type": "code",
   "execution_count": 44,
   "id": "7f6a1e0b",
   "metadata": {},
   "outputs": [
    {
     "data": {
      "image/png": "[encoded data removed]",
      "text/plain": [
       "plot without title"
      ]
     },
     "metadata": {
      "image/png": {
       "height": 420,
       "width": 420
      }
     },
     "output_type": "display_data"
    }
   ],
   "source": [
    "ggplot(data, aes(reading.score, colour = gender)) + geom_density()"
   ]
  },
  {
   "cell_type": "code",
   "execution_count": 45,
   "id": "8c994c4a",
   "metadata": {},
   "outputs": [
    {
     "data": {
      "image/png": "[encoded data removed]",
      "text/plain": [
       "plot without title"
      ]
     },
     "metadata": {
      "image/png": {
       "height": 420,
       "width": 420
      }
     },
     "output_type": "display_data"
    }
   ],
   "source": [
    "ggplot(data, aes(reading.score, colour = race.ethnicity)) + geom_density()"
   ]
  },
  {
   "cell_type": "code",
   "execution_count": 46,
   "id": "bbf761d5",
   "metadata": {},
   "outputs": [
    {
     "data": {
      "image/png": "[encoded data removed]",
      "text/plain": [
       "plot without title"
      ]
     },
     "metadata": {
      "image/png": {
       "height": 420,
       "width": 420
      }
     },
     "output_type": "display_data"
    }
   ],
   "source": [
    "ggplot(data, aes(reading.score, color = test.preparation.course)) + geom_density()"
   ]
  },
  {
   "cell_type": "code",
   "execution_count": 48,
   "id": "3e522f2e",
   "metadata": {},
   "outputs": [
    {
     "data": {
      "image/png": "[encoded data removed]",
      "text/plain": [
       "plot without title"
      ]
     },
     "metadata": {
      "image/png": {
       "height": 420,
       "width": 420
      }
     },
     "output_type": "display_data"
    }
   ],
   "source": [
    "ggplot(data,aes( reading.score, color = parental.level.of.education)) + geom_density()\n",
    "# Females performed better on the exam \n",
    "# Test prepration was not useful for math exam\n",
    "# Test prepration was useful for reading exam \n",
    "# Other factors didn't efficiently affect the result"
   ]
  }
 ],
 "metadata": {
  "kernelspec": {
   "display_name": "R",
   "language": "R",
   "name": "ir"
  },
  "language_info": {
   "codemirror_mode": "r",
   "file_extension": ".r",
   "mimetype": "text/x-r-source",
   "name": "R",
   "pygments_lexer": "r",
   "version": "4.2.0"
  }
 },
 "nbformat": 4,
 "nbformat_minor": 5
}
