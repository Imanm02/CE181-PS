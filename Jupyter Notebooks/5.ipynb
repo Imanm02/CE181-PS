{
 "cells": [
  {
   "cell_type": "markdown",
   "id": "2ea7f569",
   "metadata": {},
   "source": [
    "#  5\n",
    "# ‫ﻣﻦ‬‫ﺍﺯ‬ ‫ﺩﯾﺎﺭ‬ ‫ﺣﺒﯿﺒﻢ‬ ‫ﻧﻪ‬ ‫ﺍﺯ‬ ‫ﺑﻼﺩ‬ ‫ﻏﺮﯾﺐ!‬"
   ]
  },
  {
   "cell_type": "markdown",
   "id": "1d160a40",
   "metadata": {},
   "source": [
    "## تئوری 23"
   ]
  },
  {
   "cell_type": "markdown",
   "id": "a48fe80e",
   "metadata": {
    "raw_mimetype": "text/markdown"
   },
   "source": [
    "هر جفت دوست به احتمال\n",
    "p\n",
    "درست تعیین شده و هر جفت غیردوست هم به احتمال\n",
    "q=1-p\n",
    "درست تعیین میشود.\n",
    "\n",
    "تعداد جفت‌های غیردوست\n",
    "n*(n-1)/2-m\n",
    "است.\n",
    "پس طبق اصل ضرب داریم:\n",
    "\n",
    "$\n",
    "p^m(1-p)^{\\binom{n}{2}-m}\n",
    "$"
   ]
  },
  {
   "cell_type": "markdown",
   "id": "1d7db66a",
   "metadata": {},
   "source": [
    "## تئوری 24"
   ]
  },
  {
   "cell_type": "markdown",
   "id": "dca9bec0",
   "metadata": {},
   "source": [
    "<div id=\"theory24\" style=\"direction:rtl;line-height:300%;\">\n",
    "\t<font face=\"XB Zar\" size=5>\n",
    "تئوری 24\n",
    "        \n",
    "<li>\n",
    "        تعداد کل حالات برابر \n",
    "            $\\binom{\\binom{n}{2}}{m}$\n",
    "            و یکی از آنها را به احتمال برابر انتخاب میکنیم.\n",
    "</li>\n",
    "        \n",
    "<li>\n",
    "    پس جواب برابر\n",
    "    $\\frac{1}{\\binom{\\binom{n}{2}}{m}}$\n",
    "    است.\n",
    "</li>\n",
    "\n",
    "</font>\n",
    "</div>\n"
   ]
  },
  {
   "cell_type": "markdown",
   "id": "7c8244f1",
   "metadata": {},
   "source": [
    "<div id=\"theory25\" style=\"direction:rtl;line-height:300%;\">\n",
    "\t<font face=\"XB Zar\" size=5>\n",
    "تئوری 25\n",
    "        \n",
    "<li>\n",
    "    هر جفت مستقل از بقیه به احتمال\n",
    "    $p$\n",
    "    یال میکشیم و به احتمال \n",
    "    $q=1-p$\n",
    "    یال نمیکشیم.\n",
    "    برای \n",
    "    $m$\n",
    "    تا از جفت ها در صورت یال کشیدن رابطه درست تعیین شده است.\n",
    "    یعنی به احتمال \n",
    "    $p$.\n",
    "<li>\n",
    "    برای \n",
    "    $k=\\binom{n}{2}-m$\n",
    "    جفت هم به احتمال \n",
    "    $q$\n",
    "    رابطه هم‌سلیقگی درست تعیین میشود.\n",
    "<li>\n",
    "    $X$\n",
    "    را تعداد یال‌هایی تعریف میکنیم که به درستی کشیده شده‌اند و \n",
    "    $Y$\n",
    "    را هم تعداد یال‌هایی تعریف میکنیم که به درستی کشیده نشده‌اند.\n",
    "    هدف سوال\n",
    "    $P(X+Y \\ge \\frac{m+k}{5})$\n",
    "    است.\n",
    "    :میدانیم که \n",
    "<li>\n",
    "    $X \\sim Binom(m, p)$\n",
    "<li>\n",
    "    $Y \\sim Binom(k, q)$\n",
    "<li>\n",
    "    $E[X]=mp \\qquad Var[x]=mpq$\n",
    "<li>\n",
    "    $E[Y]=kq \\qquad Var[x]=kqp$\n",
    "<li>\n",
    "    جواب را میتوان به صورت جمع یک سری نوشت ولی برای محاسبه رابطه مستقیم،\n",
    "    با قضیه حد مرکزی \n",
    "    $X$\n",
    "    و\n",
    "    $Y$\n",
    "    را تخمین میزنیم.\n",
    "<li>\n",
    "    $X \\approx Normal(mp, mpq)$\n",
    "<li>\n",
    "    $Y \\approx Normal(kq, kpq)$\n",
    "<li>\n",
    "    و جمع دو متغیر تصادفی که از توزیع نورمال پیروی میکنند، یک توزیع نورمال است.\n",
    "<li>\n",
    "    $X+Y \\approx Normal(mp+kq, mpq+kpq = (m+k)pq )$\n",
    "<li>\n",
    "    $Z=\\frac{X+Y-mp-kq}{\\sqrt{(m+k)pq}} \\qquad Z \\approx Normal(0, 1)$\n",
    "<li>\n",
    "    $P(X+Y \\ge \\frac{m+k}{5}) \\ = \\ P(Z \\ge \\frac{\\frac{m+k}{5}-mp-kq}{\\sqrt{(m+k)pq}}) \n",
    "    = \\ 1-\\phi(\\frac{\\frac{m+k}{5}-mp-kq}{\\sqrt{(m+k)pq}})$\n",
    "\n",
    "    \n",
    "</li>\n",
    "\n",
    "</font>\n",
    "</div>\n"
   ]
  },
  {
   "cell_type": "markdown",
   "id": "cacf329c",
   "metadata": {},
   "source": [
    "## Amali 17"
   ]
  },
  {
   "cell_type": "code",
   "execution_count": 7,
   "id": "babe6411",
   "metadata": {},
   "outputs": [
    {
     "name": "stdout",
     "output_type": "stream",
     "text": [
      "1677.1\n"
     ]
    }
   ],
   "source": [
    "from random import random\n",
    "\n",
    "n=1000\n",
    "p=0.0034\n",
    "m=3000\n",
    "N=10\n",
    "\n",
    "def simul():\n",
    "\tedges=0\n",
    "\tfor i in range(n):\n",
    "\t\tfor j in range(i):\n",
    "\t\t\tif random()<p:\n",
    "\t\t\t\tedges+=1\n",
    "\treturn edges\n",
    "\n",
    "average=0\n",
    "for i in range(N):\n",
    "\taverage+=simul()\n",
    "average/=N\n",
    "\n",
    "print(average)\n"
   ]
  },
  {
   "cell_type": "markdown",
   "id": "fa63d025",
   "metadata": {},
   "source": [
    "خیر. جواب به دست آمده حدودن نصف m است."
   ]
  },
  {
   "cell_type": "markdown",
   "id": "eac202d0",
   "metadata": {},
   "source": [
    "<div id=\"theory26\" style=\"direction:rtl;line-height:300%;\">\n",
    "\t<font face=\"XB Zar\" size=5>\n",
    "تئوری 26\n",
    "        \n",
    "<li>\n",
    "        طبق قانون اعداد بزرگ، این مقدار میانگین باید حدود امید ریاضی خروجی کد باشد.\n",
    "        \n",
    "<li>\n",
    "    $\\binom{n}{2}$\n",
    "    جفت راس داریم و هر جفت به احتمال \n",
    "    $p$\n",
    "    و مستقل از بقیه یال دارند.\n",
    "    پس از توزیع باینومیال پیروی میکنند و امید ریاضی تعداد یال‌ها برابر\n",
    "    $\\binom{n}{2}p$\n",
    "    است.\n",
    "<li>\n",
    "    برای مقادیر پرسش شبیه‌سازی جواب برابر\n",
    "    $1698.3$\n",
    "    است.\n",
    "<li>\n",
    "    به طور کلی هم باید رابطه \n",
    "    $|\\frac{m}{\\binom{n}{2}}-p| < \\epsilon$\n",
    "    برقرار باشد که مقدار اپسیلون به دقت مورد نظر بستگی دارد.\n",
    "    \n",
    "    \n",
    "</li>\n",
    "\n",
    "</font>\n",
    "</div>\n"
   ]
  },
  {
   "cell_type": "markdown",
   "id": "d7e99dbc",
   "metadata": {},
   "source": [
    "## Amali 18"
   ]
  },
  {
   "cell_type": "code",
   "execution_count": 10,
   "id": "e0de228c",
   "metadata": {},
   "outputs": [
    {
     "name": "stdout",
     "output_type": "stream",
     "text": [
      "151.3\n"
     ]
    },
    {
     "data": {
      "image/png": "[encoded data removed]",
      "text/plain": [
       "<Figure size 432x288 with 1 Axes>"
      ]
     },
     "metadata": {
      "needs_background": "light"
     },
     "output_type": "display_data"
    }
   ],
   "source": [
    "from random import random\n",
    "import matplotlib.pyplot as plt\n",
    "\n",
    "n=1000\n",
    "p=0.00016\n",
    "N=10\n",
    "\n",
    "def simul():\n",
    "\tdeg=[0]*n\n",
    "\tfor i in range(n):\n",
    "\t\tfor j in range(i):\n",
    "\t\t\tif random()<p:\n",
    "\t\t\t\tdeg[i]+=1\n",
    "\t\t\t\tdeg[j]+=1\n",
    "\tL=sum(deg)/n\n",
    "\tres=0\n",
    "\tfor i in range(n):\n",
    "\t\tif (deg[i]>=L):\n",
    "\t\t\tres+=1\n",
    "\treturn res\n",
    "\n",
    "results=[simul() for i in range(N)]\n",
    "average=sum(results)/N\n",
    "print(average)\n",
    "\n",
    "\n",
    "deg=[0]*n\n",
    "for i in range(n):\n",
    "\tfor j in range(i):\n",
    "\t\tif random()<p:\n",
    "\t\t\tdeg[i]+=1\n",
    "\t\t\tdeg[j]+=1\n",
    "plt.hist(deg)\n",
    "plt.show()\n",
    "\n"
   ]
  },
  {
   "cell_type": "markdown",
   "id": "c2407818",
   "metadata": {},
   "source": [
    "<div id=\"theory27\" style=\"direction:rtl;line-height:300%;\">\n",
    "\t<font face=\"XB Zar\" size=5>\n",
    "تئوری 27\n",
    "        \n",
    "<li>\n",
    "    $(n-1)p = 999 \\times 0.00016 = 0.15984$\n",
    "    \n",
    "</li>\n",
    "\n",
    "</font>\n",
    "</div>\n"
   ]
  },
  {
   "cell_type": "markdown",
   "id": "149ff404",
   "metadata": {},
   "source": [
    "<div id=\"theory28\" style=\"direction:rtl;line-height:300%;\">\n",
    "\t<font face=\"XB Zar\" size=5>\n",
    "تئوری 28\n",
    "        \n",
    "<li>\n",
    "    با توجه به پرسش قبل و بزرگ بودن \n",
    "    $n$\n",
    "    طبق قضیه حد مرکزی میتوانیم متغیر تصادفی\n",
    "    $deg_i$\n",
    "    که درجه راس \n",
    "    $i$\n",
    "    است را با توزیع نورمال تخمین بزنیم.\n",
    "<li>\n",
    "    $Var[deg_i]=(n-1)p(1-p) \\simeq 0.16$\n",
    "<li>\n",
    "    پس میتوانیم فرض کنیم احتمال اینکه راس درجه بیشتر از ۲ داشته باشیم صفر است.\n",
    "    و اینکه احتمال اینکه میانگین درجات زیاد باشد نیز نزدیک صفر است پس از آن هم صرف نظر میکنیم.\n",
    "    در نتیجه احتمال اینکه یک نفر همرنگ نباشد برابر احتمال این است که این راس هیچ یالی نداشته باشد.\n",
    "    و این مقدار برابر\n",
    "    $(1-p)^{n-1}$\n",
    "    است.\n",
    "    در نتیجه احتمال همرنگ بودن یک نفر برابر\n",
    "    $1-(1-p)^{n-1} \\simeq 0.147$\n",
    "    است و امیدریاضی تعداد همرنگ‌ها برابر \n",
    "    $147$\n",
    "    میشود\n",
    "    \n",
    "</li>\n",
    "\n",
    "</font>\n",
    "</div>\n"
   ]
  },
  {
   "cell_type": "markdown",
   "id": "b791f69f",
   "metadata": {},
   "source": [
    "## Amali 19"
   ]
  },
  {
   "cell_type": "code",
   "execution_count": 14,
   "id": "f0da2667",
   "metadata": {},
   "outputs": [
    {
     "name": "stdout",
     "output_type": "stream",
     "text": [
      "4503.8\n",
      "447691.2\n"
     ]
    }
   ],
   "source": [
    "from random import random\n",
    "\n",
    "n=3000\n",
    "p=0.01\n",
    "N=5\n",
    "\n",
    "def simul():\n",
    "\tG=[[0]*n for i in range(n)]\n",
    "\tfor i in range(n):\n",
    "\t\tfor j in range(i):\n",
    "\t\t\tif random()<p:\n",
    "\t\t\t\tG[i][j]=G[j][i]=1\n",
    "\tres1=0\n",
    "\tres2=0\n",
    "\tfor v in range(n):\n",
    "\t\tadj=[]\n",
    "\t\tfor u in range(v):\n",
    "\t\t\tif G[u][v]:\n",
    "\t\t\t\tadj.append(u)\n",
    "\t\tres=0\n",
    "\t\tfor u in adj:\n",
    "\t\t\tfor w in adj:\n",
    "\t\t\t\tif u<w:\n",
    "\t\t\t\t\tif G[u][w]:\n",
    "\t\t\t\t\t\tres1+=1\n",
    "\t\t\t\t\telse:\n",
    "\t\t\t\t\t\tres2+=1\n",
    "\treturn res1, res2\n",
    "\n",
    "mean1=0\n",
    "mean2=0\n",
    "for i in range(N):\n",
    "\tres1, res2 = simul()\n",
    "\tmean1+=res1\n",
    "\tmean2+=res2\n",
    "mean1/=N\n",
    "mean2/=N\n",
    "print(mean1)\n",
    "print(mean2)\n",
    "\n"
   ]
  },
  {
   "cell_type": "markdown",
   "id": "6dc6101d",
   "metadata": {},
   "source": [
    "<div id=\"theory29\" style=\"direction:rtl;line-height:300%;\">\n",
    "\t<font face=\"XB Zar\" size=5>\n",
    "تئوری 29\n",
    "        \n",
    "<li>\n",
    "    خاصیت تراگذری = مثلث\n",
    "<li>\n",
    "    به دلیل خطی بودن امیدریاضی، احتمال وجود خاصیت را برای ۳راس حساب کرده و در\n",
    "    $\\binom{n}{3}$\n",
    "    ضرب میکنیم\n",
    "<li>\n",
    "    تراگذری:\n",
    "    $\\binom{n}{3}p^3$\n",
    "<li>\n",
    "    زنجیره‌ای:\n",
    "    $\\binom{n}{3}3p^2(1-p)$\n",
    "    \n",
    "</li>\n",
    "\n",
    "</font>\n",
    "</div>\n"
   ]
  },
  {
   "cell_type": "markdown",
   "id": "392223e7",
   "metadata": {},
   "source": [
    "<div id=\"theory30\" style=\"direction:rtl;line-height:300%;\">\n",
    "\t<font face=\"XB Zar\" size=5>\n",
    "تئوری 30\n",
    "        \n",
    "<li>\n",
    "    $P(3 \\ edges \\ | \\ at \\ least \\ 2 \\ edges) \\ =$\n",
    "<li>\n",
    "    $\\frac{P(3 \\ edges)}{P(at \\ least \\ 3 \\ edges)} \\ =$\n",
    "<li>\n",
    "    $\\frac{p^3}{p^3+3p^2(1-p)} \\ =$\n",
    "<li>\n",
    "    $\\frac{p}{p+3(1-p)} \\ =$\n",
    "<li>\n",
    "    $\\frac{p}{3-2p} = 0.003$\n",
    "   \n",
    "</li>\n",
    "\n",
    "</font>\n",
    "</div>\n"
   ]
  },
  {
   "cell_type": "markdown",
   "id": "fbc551e1",
   "metadata": {},
   "source": [
    "## Amali 20"
   ]
  },
  {
   "cell_type": "code",
   "execution_count": 43,
   "id": "da519caa",
   "metadata": {},
   "outputs": [
    {
     "name": "stdout",
     "output_type": "stream",
     "text": [
      "0.01\n"
     ]
    }
   ],
   "source": [
    "from random import random\n",
    "\n",
    "n=1000\n",
    "p=0.003\n",
    "\n",
    "G=[[0]*n for i in range(n)]\n",
    "for i in range(n):\n",
    "\tfor j in range(i):\n",
    "\t\tif random()<p:\n",
    "\t\t\tG[i][j]=G[j][i]=1\n",
    "\n",
    "mean=0\n",
    "for v in range(n):\n",
    "\tadj=[]\n",
    "\tfor u in range(v):\n",
    "\t\tif G[u][v]:\n",
    "\t\t\tadj.append(u)\n",
    "\tres=0\n",
    "\tfor u in adj:\n",
    "\t\tfor w in adj:\n",
    "\t\t\tif u<w and G[u][w]:\n",
    "\t\t\t\tres+=1\n",
    "\tmean+=res\n",
    "\n",
    "mean/=n\n",
    "print(mean)\n"
   ]
  },
  {
   "cell_type": "markdown",
   "id": "52ae3fd9",
   "metadata": {},
   "source": [
    "<div id=\"theory31\" style=\"direction:rtl;line-height:300%;\">\n",
    "\t<font face=\"XB Zar\" size=5>\n",
    "تئوری 31\n",
    "        \n",
    "<li>\n",
    "    امیدریاضی تعداد مثلث‌های حاوی یک راس خاص را میخواهیم.\n",
    "    پس به \n",
    "    $\\binom{n-1}{2}$\n",
    "    حالت ۲ راس انتخاب کرده و به احتمال \n",
    "    $p^3$\n",
    "    یک مثلث میسازند.\n",
    "    چون امید ریاضی خطی است جواب برابر با\n",
    "    $\\binom{n-1}{2}p^3$\n",
    "    میشود.\n",
    "<li>\n",
    "</li>\n",
    "\n",
    "</font>\n",
    "</div>\n"
   ]
  },
  {
   "cell_type": "markdown",
   "id": "4647aa91",
   "metadata": {},
   "source": [
    "# Amali 21"
   ]
  },
  {
   "cell_type": "code",
   "execution_count": 2,
   "id": "f721e0a0",
   "metadata": {},
   "outputs": [
    {
     "name": "stdout",
     "output_type": "stream",
     "text": [
      "2.2954614614614615\n"
     ]
    }
   ],
   "source": [
    "from random import random\n",
    "import networkx as ntx\n",
    "\n",
    "N=1\n",
    "n=1000\n",
    "p=0.033\n",
    "# in problem statement p=0.0033,\n",
    "# but the problem author is an idiot who does not know basic graph theory and probability\n",
    "# if p=0.0033, its easy to prove the probability of having a connected graph is almost 0\n",
    "# **** EE project\n",
    "\n",
    "\n",
    "def gen_graph(n, p) -> ntx.Graph:\n",
    "\tG=ntx.empty_graph(n)\n",
    "\tfor i in range(n):\n",
    "\t\tfor j in range(i):\n",
    "\t\t\tif random()<p:\n",
    "\t\t\t\tG.add_edge(i, j)\n",
    "\treturn G\n",
    "\n",
    "def simul():\n",
    "\tG=gen_graph(n, p)\n",
    "\tsp = dict(ntx.all_pairs_shortest_path_length(G))\n",
    "\tmean=0\n",
    "\tfor i in range(n):\n",
    "\t\tfor j in range(i):\n",
    "\t\t\tmean+=sp[i][j]\n",
    "\treturn mean/(n*(n-1)/2)\n",
    "\n",
    "results=[simul() for i in range(N)]\n",
    "average=sum(results)/N\n",
    "print(average)\n"
   ]
  },
  {
   "cell_type": "markdown",
   "id": "9ec13658",
   "metadata": {},
   "source": [
    "## Amali 22"
   ]
  },
  {
   "cell_type": "code",
   "execution_count": 3,
   "id": "7c21f3a3",
   "metadata": {},
   "outputs": [
    {
     "name": "stdout",
     "output_type": "stream",
     "text": [
      "2.82\n"
     ]
    }
   ],
   "source": [
    "from random import random\n",
    "import networkx as ntx\n",
    "\n",
    "N=100\n",
    "n=50\n",
    "p=0.34\n",
    "\n",
    "def gen_graph(n, p) -> ntx.Graph:\n",
    "\tG=ntx.empty_graph(n)\n",
    "\tfor i in range(n):\n",
    "\t\tfor j in range(i):\n",
    "\t\t\tif random()<p:\n",
    "\t\t\t\tG.add_edge(i, j)\n",
    "\treturn G\n",
    "\n",
    "def simul():\n",
    "\tG=gen_graph(n, p)\n",
    "\treturn ntx.diameter(G)\n",
    "\n",
    "results=[simul() for i in range(N)]\n",
    "average=sum(results)/N\n",
    "print(average)\n"
   ]
  },
  {
   "cell_type": "markdown",
   "id": "163c5d80",
   "metadata": {},
   "source": [
    "## Amali 23"
   ]
  },
  {
   "cell_type": "code",
   "execution_count": 6,
   "id": "66a92dfb",
   "metadata": {},
   "outputs": [
    {
     "data": {
      "image/png": "[encoded data removed]",
      "text/plain": [
       "<Figure size 432x288 with 1 Axes>"
      ]
     },
     "metadata": {
      "needs_background": "light"
     },
     "output_type": "display_data"
    }
   ],
   "source": [
    "from random import random\n",
    "import networkx as ntx\n",
    "import matplotlib.pyplot as plt\n",
    "\n",
    "p=0.34\n",
    "N=100\n",
    "\n",
    "def gen_graph(n, p) -> ntx.Graph:\n",
    "\tG=ntx.empty_graph(n)\n",
    "\tfor i in range(n):\n",
    "\t\tfor j in range(i):\n",
    "\t\t\tif random()<p:\n",
    "\t\t\t\tG.add_edge(i, j)\n",
    "\treturn G\n",
    "\n",
    "def simul(n):\n",
    "\tG=gen_graph(n, p)\n",
    "\tif ntx.connected.is_connected(G):\n",
    "\t\treturn ntx.diameter(G)\n",
    "\treturn None\n",
    "\n",
    "def mean_simul(n):\n",
    "\tresults=[]\n",
    "\tfor i in range(N):\n",
    "\t\tres=simul(n)\n",
    "\t\tif res!=None:\n",
    "\t\t\tresults.append(res)\n",
    "\t\n",
    "\treturn sum(results)/len(results)\n",
    "\n",
    "\n",
    "x=range(10, 201, 10)\n",
    "y=[mean_simul(n) for n in x]\n",
    "\n",
    "plt.plot(x, y, color='red')\n",
    "plt.show()\n"
   ]
  },
  {
   "cell_type": "markdown",
   "id": "98e9eb99",
   "metadata": {},
   "source": [
    "این نمودار نزولی است و با افزایش تعداد راس‌ها به سمت ۲ میل میکند.\n",
    "\n",
    "اگر قطر یک گراف ۲ باشد بدین معنی اسد که هر دو راس غیرهمسایه یک همسایه مشترک دارند."
   ]
  },
  {
   "cell_type": "markdown",
   "id": "14dcc371",
   "metadata": {},
   "source": [
    "<div id=\"theory32\" style=\"direction:rtl;line-height:300%;\">\n",
    "\t<font face=\"XB Zar\" size=5>\n",
    "تئوری 32\n",
    "        \n",
    "<li>\n",
    "    $E_{u, v}$\n",
    "    را برابر یال داشتن دو راس تعریف میکنیم.\n",
    "<li>\n",
    "    $P(I_{u, v}) = \\displaystyle\\prod_{w \\neq u, v} (1-P(I_{u, w})P(I_{u, w}))$\n",
    "<li>\n",
    "    $P(I_{u, v}) = \\displaystyle\\prod_{w \\neq u, v} (1-p^2)$\n",
    "<li>\n",
    "    $P(I_{u, v}) = (1-p^2)^{n-2}$\n",
    "    \n",
    "    \n",
    "</li>\n",
    "\n",
    "</font>\n",
    "</div>\n"
   ]
  },
  {
   "cell_type": "markdown",
   "id": "1f853f7b",
   "metadata": {},
   "source": [
    "<div id=\"theory33\" style=\"direction:rtl;line-height:300%;\">\n",
    "\t<font face=\"XB Zar\" size=5>\n",
    "تئوری 33\n",
    "        \n",
    "<li>\n",
    "    امیدریاضی خطی است\n",
    "    پس امیدریاضی تعداد جفت‌های بدون همسایه مشترک\n",
    "    برابر جمع اختمال همسایه مشترک نداشتن تمام جفت راس‌ها است.\n",
    "    و این احتمال در پرسش قبلی محاسبه شده،\n",
    "    پس جواب برابر است با\n",
    "    \n",
    "<li>\n",
    "    $\\binom{n}{2}(1-p^2)^{n-2}$\n",
    "    \n",
    "    \n",
    "</li>\n",
    "\n",
    "</font>\n",
    "</div>\n"
   ]
  },
  {
   "cell_type": "markdown",
   "id": "7b6c82d7",
   "metadata": {},
   "source": [
    "<div id=\"theory34\" style=\"direction:rtl;line-height:300%;\">\n",
    "\t<font face=\"XB Zar\" size=5>\n",
    "تئوری 34\n",
    "</font>\n",
    "</div>\n",
    "\n",
    "<div id=\"theory34\" style=\"direction:ltl;line-height:300%;\">\n",
    "\t<font face=\"XB Zar\" size=5>\n",
    "\n",
    "<li>\n",
    "    Markov Inequality:\n",
    "<li>\n",
    "    $P(X_n \\ge 1) \\le \\frac{E[X_n]}{1} = \\binom{n}{2}(1-p^2)^{n-2}$\n",
    "<li>\n",
    "<li>\n",
    "    $\\lim\\limits_{n \\to \\infty} \\binom{n}{2}(1-p^2)^{n-2} \\ = \\ $\n",
    "<li>\n",
    "    $\\lim\\limits_{n \\to \\infty} \\cfrac{n(n-1)}{2 \\ (1-p^2)^{2-n}} \\ =$\n",
    "<li>\n",
    "    $\\lim\\limits_{n \\to \\infty} \\cfrac{n(n-1)}{2 \\ (e^{ln(1-p^2)})^{2-n}} \\ = \\ $\n",
    "<li>\n",
    "    $\\lim\\limits_{n \\to \\infty} \\cfrac{n(n-1)}{2 \\ e^{ln(1-p^2)(2-n)}} \\ = \\ (Hopital) $\n",
    "<li>\n",
    "    $\\lim\\limits_{n \\to \\infty} \\cfrac{2n-1}{-2 \\ ln(1-p^2)e^{ln(1-p^2)(2-n)}} \\ = \\ (Hopital) $\n",
    "<li>\n",
    "    $\\lim\\limits_{n \\to \\infty} \\cfrac{2}{-2 \\ ln(1-p^2)^2 e^{ln(1-p^2)(2-n)}} \\ = \\ $\n",
    "<li>\n",
    "    $\\cfrac{-1}{ln(1-p^2)^2} \\ \\lim\\limits_{n \\to \\infty} e^{ln(1-p^2)(n-2)} \\ = \\ $\n",
    "<li>\n",
    "    $\\cfrac{-1}{ln(1-p^2)^2} \\ \\lim\\limits_{n \\to \\infty} (1-p^2)^{n-2} \\ = \\ 0$\n",
    "\n",
    "<li>\n",
    "    \n",
    "<li>\n",
    "    \n",
    "</li>\n",
    "\n",
    "</font>\n",
    "</div>\n"
   ]
  },
  {
   "cell_type": "markdown",
   "id": "12fa18f0",
   "metadata": {},
   "source": [
    "<div id=\"theory35\" style=\"direction:rtl;line-height:300%;\">\n",
    "\t<font face=\"XB Zar\" size=5>\n",
    "تئوری 35\n",
    "        \n",
    "<li>\n",
    "    طبق پرسش قبل احتمال اینکه حداقل یک جفت راس همسایه مشترک نداشته باشند،\n",
    "    با زیاد شدن \n",
    "    $n$\n",
    "    به سمت صفر میل میکند.\n",
    "    در نتیجه برای\n",
    "    $n$\n",
    "    های بزرگ به احتمال تفریبن یک هر دو راسی همسایه مشترک دارند و در نتیجه فاصله آنحا حداکثر ۲ است.\n",
    "<li>\n",
    "    همچنین احتمال ۱ بودن قطر گراف هم با زیاد شدن \n",
    "    $n$\n",
    "    به سمت صفر میل میکند چون این احتمال برابر \n",
    "    $p^\\binom{n}{2}$\n",
    "    است و\n",
    "    $\\lim\\limits_{n \\to \\infty} p^\\binom{n}{2} = 0$\n",
    "<li>\n",
    "    پس با زیاد شدن \n",
    "    $n$\n",
    "    به احتمال تقریبن ۱ قطر گراف ۲ است.\n",
    "    و این عدد به\n",
    "    $p$\n",
    "    وابسته نیست.\n",
    "    تنها کافی‌است که مقدار \n",
    "    $p$\n",
    "    برابر صفر یا یک نباشد.\n",
    "<li>\n",
    "    این نتیجه با نتیجه شبیه‌سازی نیز تطابق دارد.\n",
    "    در آنجا هم قطر گراف به ۲ میل میکند\n",
    "</li>\n",
    "\n",
    "</font>\n",
    "</div>\n"
   ]
  },
  {
   "cell_type": "markdown",
   "id": "b6ca0705",
   "metadata": {},
   "source": [
    "## Amali 24"
   ]
  },
  {
   "cell_type": "code",
   "execution_count": 1,
   "id": "c81a4db1",
   "metadata": {},
   "outputs": [
    {
     "name": "stdout",
     "output_type": "stream",
     "text": [
      "6323.84\n"
     ]
    }
   ],
   "source": [
    "from random import random\n",
    "import networkx as ntx\n",
    "\n",
    "n=100\n",
    "p=0.34\n",
    "N=100\n",
    "\n",
    "def gen_graph(n, p) -> ntx.Graph:\n",
    "\tG=ntx.empty_graph(n)\n",
    "\tfor i in range(n):\n",
    "\t\tfor j in range(i):\n",
    "\t\t\tif random()<p:\n",
    "\t\t\t\tG.add_edge(i, j)\n",
    "\treturn G\n",
    "\n",
    "def simul(n):\n",
    "\tG=gen_graph(n, p)\n",
    "\treturn sum(list(ntx.triangles(G).values()))//3\n",
    "\n",
    "def mean_simul(n):\n",
    "\tresults=[]\n",
    "\tfor i in range(N):\n",
    "\t\tres=simul(n)\n",
    "\t\tif res!=None:\n",
    "\t\t\tresults.append(res)\n",
    "\t\n",
    "\treturn sum(results)/len(results)\n",
    "\n",
    "\n",
    "print(mean_simul(n))\n"
   ]
  },
  {
   "cell_type": "markdown",
   "id": "4d55a303",
   "metadata": {},
   "source": [
    "## Amali 25"
   ]
  },
  {
   "cell_type": "code",
   "execution_count": 2,
   "id": "bf3d01dd",
   "metadata": {},
   "outputs": [
    {
     "data": {
      "image/png": "[encoded data removed]",
      "text/plain": [
       "<Figure size 432x288 with 1 Axes>"
      ]
     },
     "metadata": {
      "needs_background": "light"
     },
     "output_type": "display_data"
    }
   ],
   "source": [
    "from random import random\n",
    "import networkx as ntx\n",
    "import matplotlib.pyplot as plt\n",
    "\n",
    "N=100\n",
    "\n",
    "def gen_graph(n, p) -> ntx.Graph:\n",
    "\tG=ntx.empty_graph(n)\n",
    "\tfor i in range(n):\n",
    "\t\tfor j in range(i):\n",
    "\t\t\tif random()<p:\n",
    "\t\t\t\tG.add_edge(i, j)\n",
    "\treturn G\n",
    "\n",
    "def simul(n):\n",
    "\tG=gen_graph(n, 60/n**2)\n",
    "\treturn sum(list(ntx.triangles(G).values()))//3\n",
    "\n",
    "def mean_simul(n):\n",
    "\tresults=[]\n",
    "\tfor i in range(N):\n",
    "\t\tres=simul(n)\n",
    "\t\tif res!=None:\n",
    "\t\t\tresults.append(res)\n",
    "\t\n",
    "\treturn sum(results)/len(results)\n",
    "\n",
    "\n",
    "x=range(10, 101, 10)\n",
    "y=[mean_simul(n) for n in x]\n",
    "\n",
    "plt.plot(x, y, color='red')\n",
    "plt.show()\n"
   ]
  },
  {
   "cell_type": "markdown",
   "id": "d6e9c027",
   "metadata": {},
   "source": [
    "## Amali 26\n",
    "\n",
    "خیر. این مقدار به عدد خاصی میل نمیکند و با افزایش تعداد راس‌ها زیاد میشود"
   ]
  },
  {
   "cell_type": "code",
   "execution_count": 3,
   "id": "9e7e0152",
   "metadata": {},
   "outputs": [
    {
     "data": {
      "image/png": "[encoded data removed]",
      "text/plain": [
       "<Figure size 432x288 with 1 Axes>"
      ]
     },
     "metadata": {
      "needs_background": "light"
     },
     "output_type": "display_data"
    }
   ],
   "source": [
    "from random import random\n",
    "import networkx as ntx\n",
    "import matplotlib.pyplot as plt\n",
    "\n",
    "p=0.34\n",
    "N=100\n",
    "\n",
    "def gen_graph(n, p) -> ntx.Graph:\n",
    "\tG=ntx.empty_graph(n)\n",
    "\tfor i in range(n):\n",
    "\t\tfor j in range(i):\n",
    "\t\t\tif random()<p:\n",
    "\t\t\t\tG.add_edge(i, j)\n",
    "\treturn G\n",
    "\n",
    "def simul(n):\n",
    "\tG=gen_graph(n, p)\n",
    "\treturn sum(list(ntx.triangles(G).values()))//3\n",
    "\n",
    "def mean_simul(n):\n",
    "\tresults=[]\n",
    "\tfor i in range(N):\n",
    "\t\tres=simul(n)\n",
    "\t\tif res!=None:\n",
    "\t\t\tresults.append(res)\n",
    "\t\n",
    "\treturn sum(results)/len(results)\n",
    "\n",
    "\n",
    "x=range(10, 101, 10)\n",
    "y=[mean_simul(n) for n in x]\n",
    "\n",
    "plt.plot(x, y, color='red')\n",
    "plt.show()\n"
   ]
  },
  {
   "cell_type": "markdown",
   "id": "d82702f5",
   "metadata": {},
   "source": [
    "## Amali 27"
   ]
  },
  {
   "cell_type": "code",
   "execution_count": 4,
   "id": "01350245",
   "metadata": {},
   "outputs": [
    {
     "data": {
      "image/png": "[encoded data removed]",
      "text/plain": [
       "<Figure size 432x288 with 1 Axes>"
      ]
     },
     "metadata": {
      "needs_background": "light"
     },
     "output_type": "display_data"
    }
   ],
   "source": [
    "from random import random\n",
    "import networkx as ntx\n",
    "import matplotlib.pyplot as plt\n",
    "\n",
    "N=100\n",
    "\n",
    "def gen_graph(n, p) -> ntx.Graph:\n",
    "\tG=ntx.empty_graph(n)\n",
    "\tfor i in range(n):\n",
    "\t\tfor j in range(i):\n",
    "\t\t\tif random()<p:\n",
    "\t\t\t\tG.add_edge(i, j)\n",
    "\treturn G\n",
    "\n",
    "def simul(n):\n",
    "\tG=gen_graph(n, 1/n)\n",
    "\treturn sum(list(ntx.triangles(G).values()))//3\n",
    "\n",
    "def mean_simul(n):\n",
    "\tresults=[]\n",
    "\tfor i in range(N):\n",
    "\t\tres=simul(n)\n",
    "\t\tif res!=None:\n",
    "\t\t\tresults.append(res)\n",
    "\t\n",
    "\treturn sum(results)/len(results)\n",
    "\n",
    "\n",
    "x=range(50, 1201, 50)\n",
    "y=[mean_simul(n) for n in x]\n",
    "\n",
    "plt.plot(x, y, color='red')\n",
    "plt.show()\n"
   ]
  },
  {
   "cell_type": "markdown",
   "id": "398a980c",
   "metadata": {},
   "source": [
    "این مقدار با وجود زیاد شدن تعداد راس‌ها باز هم در بازه 0.1 تا 0.2 قرار دارد.\n",
    "پس میتوان نتیجه گرفت با زیاد شدن تعداد راس‌ها به عددی در این بازه مایل میشود"
   ]
  }
 ],
 "metadata": {
  "celltoolbar": "Raw Cell Format",
  "direction": "ltl",
  "kernelspec": {
   "display_name": "Python 3 (ipykernel)",
   "language": "python",
   "name": "python3"
  },
  "language_info": {
   "codemirror_mode": {
    "name": "ipython",
    "version": 3
   },
   "file_extension": ".py",
   "mimetype": "text/x-python",
   "name": "python",
   "nbconvert_exporter": "python",
   "pygments_lexer": "ipython3",
   "version": "3.10.6"
  }
 },
 "nbformat": 4,
 "nbformat_minor": 5
}
