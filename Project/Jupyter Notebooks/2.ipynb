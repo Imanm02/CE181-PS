{
 "cells": [
  {
   "cell_type": "markdown",
   "id": "2ea7f569",
   "metadata": {},
   "source": [
    "# Part 2"
   ]
  },
  {
   "cell_type": "markdown",
   "id": "cacf329c",
   "metadata": {},
   "source": [
    "## تئوری یک\n",
    "پرسش تئوری ۱. اگر جامعه را بتوان به خوشه های مجزا از افرادی با سلیقه ی یکسان افراز کرد، به طوری که افرادِ یک خوشه با افرادِ\n",
    "خوشه ی دیگر هیچ اشتراکی نداشته باشند، آنگاه ماتریس مجاورت این افراد به چه صورت خواهد بود؟"
   ]
  },
  {
   "cell_type": "markdown",
   "id": "8a48bb72",
   "metadata": {},
   "source": [
    "اولا که ماتریس متقارن است زیرا که ‍ روابط دوطرفه هستند. ثانیا به علت اینکه همه‌ی افراد یک خوشه با هم در ارتباط هستند و یال دارند، میتوان ادعا کرد که یک جایگشت سطری ستونی از ماتریس مجاورت وجود دارد به گونه‌ای روی قطر آن چندین ماتریس مربعی کاملا یک باشند و مابقی ماتریس صفر. مثل ماتریس جوردن ولی همه‌ی درایه‌های بلوک‌ها یک هستند و نه صفر."
   ]
  },
  {
   "cell_type": "markdown",
   "id": "d7e99dbc",
   "metadata": {},
   "source": [
    "## تئوری دو"
   ]
  },
  {
   "cell_type": "markdown",
   "id": "1f7f56b7",
   "metadata": {},
   "source": [
    "پرسش تئوری ۲. مدلی که در پرسش قبلی به دست آوردید در واقعیت رخ نمی دهد، چرا که ممکن است یک فرد در یک خوشه\n",
    "با فردی در خوشه دیگر سلایق مشترکی (هرچند کم) داشته باشند. همچنین یک فرد می تواند به طور همزمان در چند خوشه عضو\n",
    "باشد. برای مثال یک فرد می تواند در خوشه ی افرادی که عموما به ژانر کمدی علاقه دارند باشد و همزمان در خوشه ی افرادی که\n",
    "ژانر درام میبینند نیز حضور داشته باشد. در این صورت چه توصیفی از ماتریس مجاورت می توان داشت؟"
   ]
  },
  {
   "attachments": {
    "image.png": {
     "image/png": "[encoded data removed]"
    }
   },
   "cell_type": "markdown",
   "id": "9c8bd55d",
   "metadata": {},
   "source": [
    "در این حالت می‌توان سطر و ستون‌های ماتریس را به ‌گونه‌ای جابجا کرد که هر بخش متعلق به یک خوشه باشد و هر فرد یا با تمام افراد خوشه در ارتباط هست و یا کلا با آن در ارتباط نیست. پس شکل مثل زیر خواهد شد. ( هر رنگ یک خوشه و سلیقه‌است و بخش‌های رنگی یک و غیرنگی صفر است.\n",
    "![image.png](attachment:image.png)"
   ]
  },
  {
   "cell_type": "markdown",
   "id": "c2407818",
   "metadata": {},
   "source": [
    "## تئوری سه"
   ]
  },
  {
   "cell_type": "markdown",
   "id": "f3793a45",
   "metadata": {},
   "source": [
    "اُم علاقه داشته باشند، به احتمال −i ۱, ۲ داریم. اگر دو نفر به ژانر , . . . ,M  ژانر مختلف فیلم M پرسش تئوری ۳. فرض کنید\n",
    "با یکدیگر هم سلیقه اند. حال فرضکنید دو شخصخاصهر کدام به چند ژانر مختلف علاقه دارند. اگر فرضکنیم علاقه به pi\n",
    "ژانرهای مختلف از هم مستقلند، احتمال اینکه این دو نفر با یکدیگر هم سلیقه باشند چقدر است؟\n",
    "چرا اگر دو نفر در جوامع خاص زیادی عضو باشند احتمال اینکه با هم در ارتباط باشند بیشتر می شود؟ آیا می توانید این مسئله را\n",
    "به صورت شهودی هم توجیه کنید؟ به نظر شما این مدل چه نقصی در مدل کردن رابطه ی افراد و گروه ها دارد؟ شکل ۳ را در این\n",
    "خصوصببینید."
   ]
  },
  {
   "cell_type": "markdown",
   "id": "b791f69f",
   "metadata": {},
   "source": [
    "احتمال هم‌سلیقه بودن با فرض علاقه‌به ژانرهای مجموعه‌ی A:\n",
    "<br>\n",
    "$\n",
    "1-\\prod _{i\\in A}\\left( 1-p_{i}\\right)\n",
    "$\n",
    "<br>\n",
    "زیرا هر چه در جوامع بیشتری باشند، تعداد جملات پای در فرمول بالا بیشتر می‌شود و چون هرجمله کمتر از یک است، پس در نهایت احتمال  هم‌سلیقگی بیشتر می‌شود.\n",
    "تعداد ژانرها محدود است و هر چه تعداد بیشتری را دوست داشته باشید در ارتباط با افراد بیشتری که آن را دوست دارند قرار می‌گیرید و احتمال اینکه با فردی هم‌سلیقه شوید بیشتر خواهد بود بود. پس به طور شهودی نیز تطابق دارد.\n",
    "- نقص‌ها\n",
    "    - تعلق به یک گروه صفر و یکی است و وزن ندارد درصورتی که وزنی بهتر توصیف می‌کند\n",
    "    - حالات بین خوشه‌ای به طور بهینه مدل نشده‌اند، زیرا ممکن است یک ترکیب از تعدادی خوشه خودش یک خوشه‌ی دارای اصالت باشد.\n",
    "    - ممکن است خوشه‌ها بر اساس ژانر فیلم نباشند و معیارهای دیگری مثل کارگردان و بازیگران و کمپانی و ... نیز در خوشه‌ها باشند."
   ]
  },
  {
   "cell_type": "markdown",
   "id": "dc5ad3c0",
   "metadata": {},
   "source": [
    "## تئوری چهار\n"
   ]
  },
  {
   "cell_type": "markdown",
   "id": "b9f37a63",
   "metadata": {},
   "source": [
    "\n",
    "محاسبه F را برحسب درایه های ماتریس تعلّق u, v پرسش تئوری ۴. با توجه به توضیحات فوق احتمال وجود ارتباط میان دو فردِ\n",
    "کنید. نشان دهید اگر دو فرد در گروه های بیشتری اشتراک داشته باشند این احتمال افزایش می یابد."
   ]
  },
  {
   "cell_type": "markdown",
   "id": "76b87833",
   "metadata": {},
   "source": [
    "\n",
    "\n",
    "\\begin{aligned}P_{uv}=1-\\prod ^{c}_{i=1} \\exp \\left( \\_ F_{ui}F_{vi}\\right) \\\\ =1-\\exp \\left( -\\sum ^{c}_{i=1}\\left( F_{ui}F_{vi}\\right) \\right) \\end{aligned}\n",
    "\n"
   ]
  },
  {
   "cell_type": "markdown",
   "id": "ff133e77",
   "metadata": {},
   "source": [
    "## تئوری پنج"
   ]
  },
  {
   "cell_type": "markdown",
   "id": "480dfdb7",
   "metadata": {},
   "source": [
    "می توان گراف روابط هم سلیقگی بین افراد را به طور یکتا یافت (به تعریف A پرسش تئوری ۵. می دانیم با داشتن ماتریس مجاورت\n",
    "۱ مراجعه کنید).\n",
    "تعریف می شود را محاسبه نمایید. l(F) = log\n",
    "􀀀\n",
    "P[A|F]\n",
    "\u0001 که به صورت log-likelihood تابع"
   ]
  },
  {
   "cell_type": "markdown",
   "id": "e62ab7d0",
   "metadata": {},
   "source": [
    "\\begin{aligned}P\\left( A| F\\right) =\\prod ^{n}_{u,v=1}\\left[ A_{uv}P_{uv}+\\left( 1-A_{uv}\\right) \\left( 1-P_{uv}\\right) \\right]  \\\\ = > l\\left( F\\right) =\\sum ^{n}_{u,v=1}\\log \\left( A_{uv}P_{uv}+\\left( 1-A_{ar}\\right) \\left( 1-P_{uv}\\right) \\right) \\\\ =\\sum ^{n}_{u,v=1}\\log \\left( 2A_{uv}P_{uv}+1-A_{uv}-P_{uv}\\right) \\\\ =\\sum ^{n}_{u,v=1}\\log \\left( 2A_{uv}\\left( 1-\\exp \\left( -\\sum ^{c}_{i=1}F_{ui}F_{vi}\\right) \\right) +A_{uv}+\\exp \\left( -\\sum ^{c}_{i=1}F_{ui}F_{vi}\\right) \\right) \\\\ =\\sum ^{n}_{u,v=1}\\log \\left( 3A_{uv}+\\left( 1-2A_{uv}\\right) \\exp \\left( -\\sum ^{c}_{i=1}F_{ui}F_{vi}\\right) \\right) \\end{aligned}\n"
   ]
  },
  {
   "cell_type": "markdown",
   "id": "82a63493",
   "metadata": {},
   "source": [
    "## تئوری شش"
   ]
  },
  {
   "cell_type": "markdown",
   "id": "e73a841d",
   "metadata": {},
   "source": [
    "این روش در اصل همان روش gradient descend است که کاربرد زیادی در محاسبات عددی دارد. در این روش از نقطه یا نقاطی روی نمودار شروع می‌کنیم و در هر گام مقدار اندکی در راستای گرادیان در آن نقطه جابجا میشویم و به نقطه‌ي جدید می‌رویم. اگر این کار را با تعداد گام و طول گام مناسب انجام بدهیم انتظار داریم که به نقطه‌ی اکسترمم موضعی برسیم. \n",
    "اما برای این کار شرایطی لازم است. اولا اینکه تابع پوسته باشد که تابع ما جمع چند لگاریتم پیوسته است پس پیوسته است. همچنین نوسانات شدید در تابع باعث می‌شوند که روش به خوبی کار نکند. در این تابع ما نوسانات شدید هم وجود ندارد. هم‌چنین نکته‌ی دیگر اینست که این روش به ما اکسترمم موضعی را می‌دهد و گلوبال و به شرطی که فقط یک اکسترمم داشته داشته باشیم قطعا به اکسترمم گلوبال می‌رسیم. همچنین نواحی با گرادیان صفر نباید وجود داشته باشند تا الگوریتم متوقف نشود و یا در دور نیافتد."
   ]
  },
  {
   "cell_type": "markdown",
   "id": "6fd81a0d",
   "metadata": {},
   "source": [
    "## تئوری هفت"
   ]
  },
  {
   "cell_type": "markdown",
   "id": "5cf5f8e5",
   "metadata": {},
   "source": [
    "را محاسبه کنید. ∇Fu,: l(F) . پرسش تئوری ۷"
   ]
  },
  {
   "cell_type": "markdown",
   "id": "6e0e23fe",
   "metadata": {},
   "source": [
    "\\begin{aligned}\\nabla F_{w,i}=\\\\ 2\\sum ^{n}_{v=1}\\dfrac{\\left( 1-2A_{wv}\\right) \\left( -\\sum ^{c}_{i=1}F_{vi}\\right) \\exp \\left( -\\sum ^{c}_{i=1}F_{wi}F_{vi}\\right) }{3A_{wv}+\\left( 1-2A_{\\omega v}\\right) \\exp \\left( -\\sum ^{c}_{i=1}F_{wi}F_{vi}\\right) }\\end{aligned}"
   ]
  },
  {
   "cell_type": "markdown",
   "id": "0dc66a7e",
   "metadata": {},
   "source": [
    "## شبیه‌سازی یک\n"
   ]
  },
  {
   "cell_type": "code",
   "execution_count": 1,
   "id": "d03bfb39",
   "metadata": {},
   "outputs": [],
   "source": [
    "def log_likelihood(F, A):\n",
    "    N = A.shape[0]\n",
    "    C = F.shape[1]\n",
    "    log_likelihood = 0\n",
    "    for u in range(N):\n",
    "        for v in range(N):\n",
    "            summ=0\n",
    "            for i in range(C):\n",
    "                summ += F[u][i]*F[v][i]\n",
    "            log_likelihood += numpy.log(3*A[u][v]+(1-2*A[u][v])*numpy.exp(-summ))\n",
    "    return log_likelihood\n",
    "\n",
    "def gradient(F, A, i):\n",
    "    gradient = list()\n",
    "    N = A.shape[0]\n",
    "    C = F.shape[1]\n",
    "    for w in range(N):\n",
    "        element = 0\n",
    "        for v in range(N):\n",
    "            summ = 0\n",
    "            summP = 0\n",
    "            for i in range(C):\n",
    "                summp += F[v][i]\n",
    "                summ += F[v][i] * F[u][i]\n",
    "            element += ((1-2*A[w][v])*(-summp)*numpy.exp(-summ))  /  (3*A[w][v] + (1 - 2*A[w][u]) * (numpy.exp(-summ)))\n",
    "        gradient.append(element)\n",
    "            \n",
    "    return gradient\n",
    "\n",
    "def train(A, C, iterations = 200):\n",
    " # initialize an F\n",
    "    N = A.shape[0]\n",
    "    F = np.random.rand(N,C)\n",
    "\n",
    "    for n in range(iterations):\n",
    "        for person in range(N):\n",
    "            grad = gradient(F, A, person)\n",
    "            F[person] += 0.005*grad # updating F\n",
    "            F[person] = np.maximum(0.001 , F[person]) # F should be nonnegative\n",
    "    ll = log_likelihood(F, A)\n",
    "    print('At step %4i logliklihood is %5.4f'%(n,ll))\n",
    "\n",
    "    return F"
   ]
  },
  {
   "cell_type": "markdown",
   "id": "73ae51a9",
   "metadata": {},
   "source": [
    "## تئوری هشت"
   ]
  },
  {
   "cell_type": "markdown",
   "id": "9936ae43",
   "metadata": {},
   "source": []
  }
 ],
 "metadata": {
  "direction": "rtl",
  "kernelspec": {
   "display_name": "Python 3 (ipykernel)",
   "language": "python",
   "name": "python3"
  },
  "language_info": {
   "codemirror_mode": {
    "name": "ipython",
    "version": 3
   },
   "file_extension": ".py",
   "mimetype": "text/x-python",
   "name": "python",
   "nbconvert_exporter": "python",
   "pygments_lexer": "ipython3",
   "version": "3.9.7"
  }
 },
 "nbformat": 4,
 "nbformat_minor": 5
}
